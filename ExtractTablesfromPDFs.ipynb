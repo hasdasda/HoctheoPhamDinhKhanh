{
  "nbformat": 4,
  "nbformat_minor": 0,
  "metadata": {
    "colab": {
      "provenance": [],
      "authorship_tag": "ABX9TyNlqAShgCG0IiJxLq98DJcz",
      "include_colab_link": true
    },
    "kernelspec": {
      "name": "python3",
      "display_name": "Python 3"
    },
    "language_info": {
      "name": "python"
    }
  },
  "cells": [
    {
      "cell_type": "markdown",
      "metadata": {
        "id": "view-in-github",
        "colab_type": "text"
      },
      "source": [
        "<a href=\"https://colab.research.google.com/github/hasdasda/HoctheoPhamDinhKhanh/blob/main/ExtractTablesfromPDFs.ipynb\" target=\"_parent\"><img src=\"https://colab.research.google.com/assets/colab-badge.svg\" alt=\"Open In Colab\"/></a>"
      ]
    },
    {
      "cell_type": "code",
      "execution_count": null,
      "metadata": {
        "id": "7kkL8o3rjrbd"
      },
      "outputs": [],
      "source": [
        "import camelot\n",
        "\n",
        "tables = camelot.read_pdf('foo.pdf', pages='1', flavor='lattice') # sử dụng phương pháp \"lattice\" để phát hiện bảng dựa trên đường kẻ (dành cho PDF có bảng có đường kẻ rõ ràng).\n",
        "#Nếu bảng không có đường kẻ, có thể dùng flavor='stream', dựa vào khoảng cách giữa các dòng.\n",
        "print(tables)\n",
        "\n",
        "tables.export('foo.csv', f='csv', compress=True)\n",
        "tables[0].to_csv('foo.csv')  # to a csv file\n",
        "print(tables[0].df)  # to a df"
      ]
    }
  ]
}