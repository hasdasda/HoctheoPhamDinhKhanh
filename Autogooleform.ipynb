{
  "nbformat": 4,
  "nbformat_minor": 0,
  "metadata": {
    "colab": {
      "provenance": [],
      "authorship_tag": "ABX9TyPqw5TovhYGEEmR9OnxKbyA",
      "include_colab_link": true
    },
    "kernelspec": {
      "name": "python3",
      "display_name": "Python 3"
    },
    "language_info": {
      "name": "python"
    }
  },
  "cells": [
    {
      "cell_type": "markdown",
      "metadata": {
        "id": "view-in-github",
        "colab_type": "text"
      },
      "source": [
        "<a href=\"https://colab.research.google.com/github/hasdasda/HoctheoPhamDinhKhanh/blob/main/Autogooleform.ipynb\" target=\"_parent\"><img src=\"https://colab.research.google.com/assets/colab-badge.svg\" alt=\"Open In Colab\"/></a>"
      ]
    },
    {
      "cell_type": "code",
      "execution_count": null,
      "metadata": {
        "id": "3gKYCEpqPJQj"
      },
      "outputs": [],
      "source": [
        "from selenium import webdriver\n",
        "from selenium.webdriver.chrome.service import Service\n",
        "import pandas as pd\n",
        "import time\n",
        "\n",
        "path = '/Users/frankandrade/Downloads/chromedriver'  # your path goes here\n",
        "service = Service(executable_path=path)\n",
        "website = 'https://forms.gle/YuQczM1pVUxnkuWL9'  # your own form goes here\n",
        "driver = webdriver.Chrome(service=service)\n",
        "\n",
        "df = pd.read_csv('fake_data.csv')\n",
        "\n",
        "for i in range(0, len(df)):\n",
        "    driver.get(website)\n",
        "    time.sleep(3)\n",
        "    for column in df.columns:\n",
        "        text_input = driver.find_element(by='xpath', value=f'//div[contains(@data-params, \"{column}\")]//input | '\n",
        "                                                           f'//div[contains(@data-params, \"{column}\")]//textarea')\n",
        "        text_input.send_keys(df.loc[i, column])\n",
        "    submit_button = driver.find_element(by='xpath', value='//div[@role=\"button\"]//span[text()=\"Submit\"]') # Text \"Submit\" might change if Chrome is in another language\n",
        "    submit_button.click()\n",
        "\n",
        "driver.quit()"
      ]
    }
  ]
}