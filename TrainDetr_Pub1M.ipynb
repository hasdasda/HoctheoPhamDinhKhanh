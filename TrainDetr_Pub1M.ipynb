{
  "nbformat": 4,
  "nbformat_minor": 0,
  "metadata": {
    "colab": {
      "provenance": [],
      "gpuType": "T4",
      "include_colab_link": true
    },
    "kernelspec": {
      "name": "python3",
      "display_name": "Python 3"
    },
    "language_info": {
      "name": "python"
    },
    "accelerator": "GPU"
  },
  "cells": [
    {
      "cell_type": "markdown",
      "metadata": {
        "id": "view-in-github",
        "colab_type": "text"
      },
      "source": [
        "<a href=\"https://colab.research.google.com/github/hasdasda/HoctheoPhamDinhKhanh/blob/main/TrainDetr_Pub1M.ipynb\" target=\"_parent\"><img src=\"https://colab.research.google.com/assets/colab-badge.svg\" alt=\"Open In Colab\"/></a>"
      ]
    },
    {
      "cell_type": "code",
      "source": [
        "from google.colab import drive\n",
        "drive.mount('/content/drive')"
      ],
      "metadata": {
        "colab": {
          "base_uri": "https://localhost:8080/"
        },
        "id": "PpkAwhXdU-M9",
        "outputId": "d009d02f-5292-45b3-9d65-ac4ba9c32e89"
      },
      "execution_count": 3,
      "outputs": [
        {
          "output_type": "stream",
          "name": "stdout",
          "text": [
            "Mounted at /content/drive\n"
          ]
        }
      ]
    },
    {
      "cell_type": "code",
      "execution_count": 1,
      "metadata": {
        "colab": {
          "base_uri": "https://localhost:8080/"
        },
        "id": "HErFBRzuUVh4",
        "outputId": "c58a6d8c-2287-486d-f47d-8515e404132a"
      },
      "outputs": [
        {
          "output_type": "stream",
          "name": "stdout",
          "text": [
            "[Errno 2] No such file or directory: '/content/drive/MyDrive'\n",
            "/content\n",
            "Cloning into 'table-transformer'...\n",
            "remote: Enumerating objects: 753, done.\u001b[K\n",
            "remote: Counting objects: 100% (379/379), done.\u001b[K\n",
            "remote: Compressing objects: 100% (79/79), done.\u001b[K\n",
            "remote: Total 753 (delta 334), reused 300 (delta 300), pack-reused 374 (from 1)\u001b[K\n",
            "Receiving objects: 100% (753/753), 350.80 KiB | 7.63 MiB/s, done.\n",
            "Resolving deltas: 100% (467/467), done.\n"
          ]
        }
      ],
      "source": [
        "# Bước 1: Clone\n",
        "%cd /content/drive/MyDrive\n",
        "!git clone https://github.com/microsoft/table-transformer.git"
      ]
    },
    {
      "cell_type": "code",
      "source": [
        "# Bước 2: Tải về model pretrained detection\n",
        "%cd /content/drive/MyDrive/table-transformer\n",
        "!mkdir pretrain\n",
        "%cd pretrain\n",
        "!wget https://huggingface.co/bsmock/tatr-pubtables1m-v1.0/resolve/main/pubtables1m_detection_detr_r18.pth"
      ],
      "metadata": {
        "colab": {
          "base_uri": "https://localhost:8080/"
        },
        "id": "aG4NO_zqVR_g",
        "outputId": "d92f9bee-ca2c-49e8-bbd9-744f47075534"
      },
      "execution_count": 2,
      "outputs": [
        {
          "output_type": "stream",
          "name": "stdout",
          "text": [
            "[Errno 2] No such file or directory: '/content/drive/MyDrive/table-transformer'\n",
            "/content\n",
            "/content/pretrain\n",
            "--2024-12-31 05:59:57--  https://huggingface.co/bsmock/tatr-pubtables1m-v1.0/resolve/main/pubtables1m_detection_detr_r18.pth\n",
            "Resolving huggingface.co (huggingface.co)... 13.35.202.121, 13.35.202.40, 13.35.202.97, ...\n",
            "Connecting to huggingface.co (huggingface.co)|13.35.202.121|:443... connected.\n",
            "HTTP request sent, awaiting response... 302 Found\n",
            "Location: https://cdn-lfs.hf.co/repos/51/7f/517fb368549db1d6613cff1680a103e5055bec06daebd0f794ba8e8513d30a3e/531980d15dc9dbe08a286c454e937aeb44e9d2cfec0abedc8bc64b5344e4d208?response-content-disposition=inline%3B+filename*%3DUTF-8%27%27pubtables1m_detection_detr_r18.pth%3B+filename%3D%22pubtables1m_detection_detr_r18.pth%22%3B&Expires=1735883997&Policy=eyJTdGF0ZW1lbnQiOlt7IkNvbmRpdGlvbiI6eyJEYXRlTGVzc1RoYW4iOnsiQVdTOkVwb2NoVGltZSI6MTczNTg4Mzk5N319LCJSZXNvdXJjZSI6Imh0dHBzOi8vY2RuLWxmcy5oZi5jby9yZXBvcy81MS83Zi81MTdmYjM2ODU0OWRiMWQ2NjEzY2ZmMTY4MGExMDNlNTA1NWJlYzA2ZGFlYmQwZjc5NGJhOGU4NTEzZDMwYTNlLzUzMTk4MGQxNWRjOWRiZTA4YTI4NmM0NTRlOTM3YWViNDRlOWQyY2ZlYzBhYmVkYzhiYzY0YjUzNDRlNGQyMDg%7EcmVzcG9uc2UtY29udGVudC1kaXNwb3NpdGlvbj0qIn1dfQ__&Signature=HEem5kjTBeoa7gh7QYfSsUTNSD6TegRriAoDsRgp9sSVW7lInrYLbCh8P0c90iQoPNiHp0uqitj0JsE9cm9DwyN0rN5wXRUgRdwzQDeZGDLOnHeEpcJhHZ2PPEYDCamJB3aVM%7EbOlIkHRjT8NStSUxREZlasTLhCWx%7EJN5OExDQhOUhCy3jvsqh%7ExRKIgrR1Lgm3zdMYFy0NugPYiJVFffIunfskiO7u84dAFzD-rwzdV5eNBR0FIDe1633OyO%7E2lE4MeMEasuLup5TDmIgp3p0UwMZG0Ps03fEI9odaji0wskaeFG7MUZD5NDmzV6ahvxX-2wGBQU3RmTH-2FPdDg__&Key-Pair-Id=K3RPWS32NSSJCE [following]\n",
            "--2024-12-31 05:59:57--  https://cdn-lfs.hf.co/repos/51/7f/517fb368549db1d6613cff1680a103e5055bec06daebd0f794ba8e8513d30a3e/531980d15dc9dbe08a286c454e937aeb44e9d2cfec0abedc8bc64b5344e4d208?response-content-disposition=inline%3B+filename*%3DUTF-8%27%27pubtables1m_detection_detr_r18.pth%3B+filename%3D%22pubtables1m_detection_detr_r18.pth%22%3B&Expires=1735883997&Policy=eyJTdGF0ZW1lbnQiOlt7IkNvbmRpdGlvbiI6eyJEYXRlTGVzc1RoYW4iOnsiQVdTOkVwb2NoVGltZSI6MTczNTg4Mzk5N319LCJSZXNvdXJjZSI6Imh0dHBzOi8vY2RuLWxmcy5oZi5jby9yZXBvcy81MS83Zi81MTdmYjM2ODU0OWRiMWQ2NjEzY2ZmMTY4MGExMDNlNTA1NWJlYzA2ZGFlYmQwZjc5NGJhOGU4NTEzZDMwYTNlLzUzMTk4MGQxNWRjOWRiZTA4YTI4NmM0NTRlOTM3YWViNDRlOWQyY2ZlYzBhYmVkYzhiYzY0YjUzNDRlNGQyMDg%7EcmVzcG9uc2UtY29udGVudC1kaXNwb3NpdGlvbj0qIn1dfQ__&Signature=HEem5kjTBeoa7gh7QYfSsUTNSD6TegRriAoDsRgp9sSVW7lInrYLbCh8P0c90iQoPNiHp0uqitj0JsE9cm9DwyN0rN5wXRUgRdwzQDeZGDLOnHeEpcJhHZ2PPEYDCamJB3aVM%7EbOlIkHRjT8NStSUxREZlasTLhCWx%7EJN5OExDQhOUhCy3jvsqh%7ExRKIgrR1Lgm3zdMYFy0NugPYiJVFffIunfskiO7u84dAFzD-rwzdV5eNBR0FIDe1633OyO%7E2lE4MeMEasuLup5TDmIgp3p0UwMZG0Ps03fEI9odaji0wskaeFG7MUZD5NDmzV6ahvxX-2wGBQU3RmTH-2FPdDg__&Key-Pair-Id=K3RPWS32NSSJCE\n",
            "Resolving cdn-lfs.hf.co (cdn-lfs.hf.co)... 18.155.68.34, 18.155.68.87, 18.155.68.85, ...\n",
            "Connecting to cdn-lfs.hf.co (cdn-lfs.hf.co)|18.155.68.34|:443... connected.\n",
            "HTTP request sent, awaiting response... 200 OK\n",
            "Length: 115341438 (110M) [binary/octet-stream]\n",
            "Saving to: ‘pubtables1m_detection_detr_r18.pth’\n",
            "\n",
            "pubtables1m_detecti 100%[===================>] 110.00M  22.0MB/s    in 5.0s    \n",
            "\n",
            "2024-12-31 06:00:02 (22.0 MB/s) - ‘pubtables1m_detection_detr_r18.pth’ saved [115341438/115341438]\n",
            "\n"
          ]
        }
      ]
    },
    {
      "cell_type": "code",
      "source": [
        "# Tải về model pretrained của Model nhận diện cấu trúc bảng\n",
        "%cd /content/drive/MyDrive/table-transformer\n",
        "!mkdir pretrain\n",
        "%cd pretrain\n",
        "! wget https://huggingface.co/bsmock/tatr-pubtables1m-v1.0/blob/main/pubtables1m_structure_detr_r18.pth"
      ],
      "metadata": {
        "colab": {
          "base_uri": "https://localhost:8080/"
        },
        "id": "UD4Qz724Ua39",
        "outputId": "7be58a9b-602f-4e7e-eb3a-c608f9b6a05f"
      },
      "execution_count": 12,
      "outputs": [
        {
          "output_type": "stream",
          "name": "stdout",
          "text": [
            "/content/drive/MyDrive/table-transformer\n",
            "mkdir: cannot create directory ‘pretrain’: File exists\n",
            "/content/drive/MyDrive/table-transformer/pretrain\n",
            "--2024-12-31 06:06:20--  https://huggingface.co/bsmock/tatr-pubtables1m-v1.0/blob/main/pubtables1m_structure_detr_r18.pth\n",
            "Resolving huggingface.co (huggingface.co)... 13.35.202.34, 13.35.202.97, 13.35.202.121, ...\n",
            "Connecting to huggingface.co (huggingface.co)|13.35.202.34|:443... connected.\n",
            "HTTP request sent, awaiting response... 200 OK\n",
            "Length: 47219 (46K) [text/html]\n",
            "Saving to: ‘pubtables1m_structure_detr_r18.pth’\n",
            "\n",
            "pubtables1m_structu 100%[===================>]  46.11K  --.-KB/s    in 0.004s  \n",
            "\n",
            "2024-12-31 06:06:21 (12.8 MB/s) - ‘pubtables1m_structure_detr_r18.pth’ saved [47219/47219]\n",
            "\n"
          ]
        }
      ]
    },
    {
      "cell_type": "code",
      "source": [
        "# Chọn đường dẫn\n",
        "%cd /content/drive/MyDrive/table-transformer/detr"
      ],
      "metadata": {
        "colab": {
          "base_uri": "https://localhost:8080/"
        },
        "id": "_t2l2EqLVcYs",
        "outputId": "3df53eb9-ea9c-4d3b-9d29-744cf469c58a"
      },
      "execution_count": 32,
      "outputs": [
        {
          "output_type": "stream",
          "name": "stdout",
          "text": [
            "/content/drive/MyDrive/table-transformer/detr\n"
          ]
        }
      ]
    },
    {
      "cell_type": "code",
      "source": [
        "# Câu lệnh để train model detec\n",
        "!python main.py --data_type detection --config_file detection_config.json --data_root_dir /content/drive/MyDrive/table-transformer/data  --model_load_path /content/drive/MyDrive/table-transformer/pretrain/pubtables1m_detection_detr_r18.pth --load_weights_only\n"
      ],
      "metadata": {
        "colab": {
          "base_uri": "https://localhost:8080/"
        },
        "id": "1zDvLQ0xPXsP",
        "outputId": "e686e01b-ff1e-43a4-8e2d-3665a0423334"
      },
      "execution_count": 42,
      "outputs": [
        {
          "output_type": "stream",
          "name": "stdout",
          "text": [
            "{'lr': 5e-05, 'lr_backbone': 1e-05, 'batch_size': 2, 'weight_decay': 0.0001, 'epochs': 20, 'lr_drop': 1, 'lr_gamma': 0.9, 'clip_max_norm': 0.1, 'backbone': 'resnet18', 'num_classes': 2, 'dilation': False, 'position_embedding': 'sine', 'emphasized_weights': {}, 'enc_layers': 6, 'dec_layers': 6, 'dim_feedforward': 2048, 'hidden_dim': 256, 'dropout': 0.1, 'nheads': 8, 'num_queries': 15, 'pre_norm': True, 'masks': False, 'aux_loss': False, 'mask_loss_coef': 1, 'dice_loss_coef': 1, 'ce_loss_coef': 1, 'bbox_loss_coef': 5, 'giou_loss_coef': 2, 'eos_coef': 0.4, 'set_cost_class': 1, 'set_cost_bbox': 5, 'set_cost_giou': 2, 'device': 'cuda', 'seed': 42, 'start_epoch': 0, 'num_workers': 1, 'data_root_dir': '/content/drive/MyDrive/table-transformer/data', 'config_file': 'detection_config.json', 'data_type': 'detection', 'model_load_path': '/content/drive/MyDrive/table-transformer/pretrain/pubtables1m_detection_detr_r18.pth', 'load_weights_only': True, 'model_save_dir': None, 'metrics_save_filepath': '', 'debug_save_dir': 'debug', 'table_words_dir': None, 'mode': 'train', 'debug': False, 'checkpoint_freq': 1, 'train_max_size': None, 'val_max_size': None, 'test_max_size': None, 'eval_pool_size': 1, 'eval_step': 1, '__module__': '__main__', '__dict__': <attribute '__dict__' of 'Args' objects>, '__weakref__': <attribute '__weakref__' of 'Args' objects>, '__doc__': None}\n",
            "----------------------------------------------------------------------------------------------------\n",
            "loading model\n",
            "/usr/local/lib/python3.10/dist-packages/torchvision/models/_utils.py:208: UserWarning: The parameter 'pretrained' is deprecated since 0.13 and may be removed in the future, please use 'weights' instead.\n",
            "  warnings.warn(\n",
            "/usr/local/lib/python3.10/dist-packages/torchvision/models/_utils.py:223: UserWarning: Arguments other than a weight enum or `None` for 'weights' are deprecated since 0.13 and may be removed in the future. The current behavior is equivalent to passing `weights=ResNet18_Weights.IMAGENET1K_V1`. You can also use `weights=ResNet18_Weights.DEFAULT` to get the most up-to-date weights.\n",
            "  warnings.warn(msg)\n",
            "loading model from checkpoint\n",
            "/content/drive/MyDrive/table-transformer/src/main.py:194: FutureWarning: You are using `torch.load` with `weights_only=False` (the current default value), which uses the default pickle module implicitly. It is possible to construct malicious pickle data which will execute arbitrary code during unpickling (See https://github.com/pytorch/pytorch/blob/main/SECURITY.md#untrusted-models for more details). In a future release, the default value for `weights_only` will be flipped to `True`. This limits the functions that could be executed during unpickling. Arbitrary objects will no longer be allowed to be loaded via this mode unless they are explicitly allowlisted by the user via `torch.serialization.add_safe_globals`. We recommend you start setting `weights_only=True` for any use case where you don't have full control of the loaded file. Please open an issue on GitHub for any issues related to this experimental feature.\n",
            "  loaded_state_dict = torch.load(args.model_load_path,\n",
            "loading data\n",
            "loading data\n",
            "Traceback (most recent call last):\n",
            "  File \"/content/drive/MyDrive/table-transformer/src/table_datasets.py\", line 528, in __init__\n",
            "    with open(os.path.join(image_directory, \"filelist.txt\"), 'r') as file:\n",
            "FileNotFoundError: [Errno 2] No such file or directory: '/content/drive/MyDrive/table-transformer/data/train/../images/filelist.txt'\n",
            "\n",
            "During handling of the above exception, another exception occurred:\n",
            "\n",
            "Traceback (most recent call last):\n",
            "  File \"/content/drive/MyDrive/table-transformer/src/main.py\", line 375, in <module>\n",
            "    main()\n",
            "  File \"/content/drive/MyDrive/table-transformer/src/main.py\", line 368, in main\n",
            "    train(args, model, criterion, postprocessors, device)\n",
            "  File \"/content/drive/MyDrive/table-transformer/src/main.py\", line 214, in train\n",
            "    data_loader_train, data_loader_val, dataset_val, train_len = get_data(args)\n",
            "  File \"/content/drive/MyDrive/table-transformer/src/main.py\", line 109, in get_data\n",
            "    dataset_train = PDFTablesDataset(\n",
            "  File \"/content/drive/MyDrive/table-transformer/src/table_datasets.py\", line 531, in __init__\n",
            "    lines = os.listdir(image_directory)\n",
            "FileNotFoundError: [Errno 2] No such file or directory: '/content/drive/MyDrive/table-transformer/data/train/../images'\n"
          ]
        }
      ]
    },
    {
      "cell_type": "code",
      "source": [
        "import torch\n",
        "import torch.nn as nn\n",
        "import torch.optim as optim\n",
        "from torch.utils.data import DataLoader\n",
        "device = torch.device(\"cuda\" if torch.cuda.is_available() else \"cpu\")"
      ],
      "metadata": {
        "id": "Qwrda_2XO6Cg"
      },
      "execution_count": 5,
      "outputs": []
    },
    {
      "cell_type": "code",
      "source": [
        "%cd /content/drive/MyDrive/table-transformer/src/"
      ],
      "metadata": {
        "colab": {
          "base_uri": "https://localhost:8080/"
        },
        "id": "iD3tH-fXX2S2",
        "outputId": "37571422-a3e4-437f-bce7-327186ea05fd"
      },
      "execution_count": 6,
      "outputs": [
        {
          "output_type": "stream",
          "name": "stdout",
          "text": [
            "/content/drive/MyDrive/table-transformer/src\n"
          ]
        }
      ]
    },
    {
      "cell_type": "code",
      "source": [
        "!pip install PymuPDF"
      ],
      "metadata": {
        "colab": {
          "base_uri": "https://localhost:8080/"
        },
        "id": "P_nf_R9wU3w4",
        "outputId": "932789ec-3204-4f7a-fb74-4f14f2d7fdac"
      },
      "execution_count": 7,
      "outputs": [
        {
          "output_type": "stream",
          "name": "stdout",
          "text": [
            "Collecting PymuPDF\n",
            "  Downloading pymupdf-1.25.1-cp39-abi3-manylinux2014_x86_64.manylinux_2_17_x86_64.whl.metadata (3.4 kB)\n",
            "Downloading pymupdf-1.25.1-cp39-abi3-manylinux2014_x86_64.manylinux_2_17_x86_64.whl (20.0 MB)\n",
            "\u001b[2K   \u001b[90m━━━━━━━━━━━━━━━━━━━━━━━━━━━━━━━━━━━━━━━━\u001b[0m \u001b[32m20.0/20.0 MB\u001b[0m \u001b[31m51.5 MB/s\u001b[0m eta \u001b[36m0:00:00\u001b[0m\n",
            "\u001b[?25hInstalling collected packages: PymuPDF\n",
            "Successfully installed PymuPDF-1.25.1\n"
          ]
        }
      ]
    },
    {
      "cell_type": "code",
      "source": [
        "%cd /content/drive/MyDrive/table-transformer/data\n",
        "!unzip /content/drive/MyDrive/table-transformer/data/images.zip -d /content/drive/MyDrive/table-transformer/data/"
      ],
      "metadata": {
        "colab": {
          "base_uri": "https://localhost:8080/"
        },
        "id": "0sJ5bru34VVp",
        "outputId": "919f7b08-9605-44e7-8706-37138519fcd9"
      },
      "execution_count": 23,
      "outputs": [
        {
          "output_type": "stream",
          "name": "stdout",
          "text": [
            "/content/drive/MyDrive/table-transformer/data\n",
            "unzip:  cannot find or open /content/drive/MyDrive/table-transformer/data/images.zip, /content/drive/MyDrive/table-transformer/data/images.zip.zip or /content/drive/MyDrive/table-transformer/data/images.zip.ZIP.\n"
          ]
        }
      ]
    },
    {
      "cell_type": "code",
      "source": [
        "!unzip /content/drive/MyDrive/table-transformer/data/val.zip -d /content/drive/MyDrive/table-transformer/data/"
      ],
      "metadata": {
        "colab": {
          "base_uri": "https://localhost:8080/"
        },
        "id": "D43Tq-pQBO6f",
        "outputId": "3fa45bf9-ddae-4630-ea25-c4ae3bb42157"
      },
      "execution_count": 24,
      "outputs": [
        {
          "output_type": "stream",
          "name": "stdout",
          "text": [
            "unzip:  cannot find or open /content/drive/MyDrive/table-transformer/data/val.zip, /content/drive/MyDrive/table-transformer/data/val.zip.zip or /content/drive/MyDrive/table-transformer/data/val.zip.ZIP.\n"
          ]
        }
      ]
    },
    {
      "cell_type": "code",
      "source": [
        "!unzip /content/drive/MyDrive/table-transformer-20240527T034753Z-001.zip -d /content/drive/MyDrive/"
      ],
      "metadata": {
        "colab": {
          "base_uri": "https://localhost:8080/"
        },
        "id": "9_CM-Gb5KOhE",
        "outputId": "52b10c45-1f84-4972-8e1f-c53050c3557b"
      },
      "execution_count": 25,
      "outputs": [
        {
          "output_type": "stream",
          "name": "stdout",
          "text": [
            "unzip:  cannot find or open /content/drive/MyDrive/table-transformer-20240527T034753Z-001.zip, /content/drive/MyDrive/table-transformer-20240527T034753Z-001.zip.zip or /content/drive/MyDrive/table-transformer-20240527T034753Z-001.zip.ZIP.\n"
          ]
        }
      ]
    },
    {
      "cell_type": "code",
      "source": [
        "!cd /content/drive/MyDrive/table-transformer/src\n",
        "!python inference.py --mode extract --detection_config_path detection_config.json --detection_model_path /content/drive/MyDrive/table-transformer-main/table-transformer-main/pubtables1m_detection_detr_r18.pth --detection_device cuda --structure_config_path structure_config.json --structure_model_path /content/drive/MyDrive/table-transformer-main/table-transformer-main/pubtables1m_structure_detr_r18.pth --structure_device cuda --image_dir /content/drive/MyDrive/table-transformer-main/table-transformer-main/images --words_dir /content/drive/MyDrive/donut-master --out_dir /content/drive/MyDrive/table-transformer-main/table-transformer-main/wordtotext -o -c -l -z --crop_padding 20\n"
      ],
      "metadata": {
        "colab": {
          "base_uri": "https://localhost:8080/"
        },
        "id": "sFIlWMQZaBHS",
        "outputId": "83aaac11-8231-4826-cdba-4b9ec1f304db"
      },
      "execution_count": 30,
      "outputs": [
        {
          "output_type": "stream",
          "name": "stdout",
          "text": [
            "python3: can't open file '/content/drive/MyDrive/table-transformer/data/inference.py': [Errno 2] No such file or directory\n"
          ]
        }
      ]
    },
    {
      "cell_type": "code",
      "source": [
        "%cd /content/drive/MyDrive/table-transformer/src"
      ],
      "metadata": {
        "colab": {
          "base_uri": "https://localhost:8080/"
        },
        "id": "kTEcZgXxdFMq",
        "outputId": "03516532-0abb-4ef6-8656-71638847cadc"
      },
      "execution_count": 36,
      "outputs": [
        {
          "output_type": "stream",
          "name": "stdout",
          "text": [
            "/content/drive/MyDrive/table-transformer/src\n"
          ]
        }
      ]
    },
    {
      "cell_type": "code",
      "source": [
        "!python inference.py --mode extract --detection_config_path detection_config.json --detection_model_path /content/drive/MyDrive/table-transformer/pretrain/pubtables1m_detection_detr_r18.pth --detection_device cuda --structure_config_path structure_config.json --structure_model_path /content/drive/MyDrive/table-transformer/pretrain/pubtables1m_structure_detr_r18.pth --structure_device cuda --image_dir /content/drive/MyDrive/table-transformer-main/table-transformer-main/images --words_dir /content/drive/MyDrive/donut-master --out_dir /content/drive/MyDrive/table-transformer-main/table-transformer-main/wordtotext -o -c -l -z --crop_padding 20\n"
      ],
      "metadata": {
        "colab": {
          "base_uri": "https://localhost:8080/"
        },
        "id": "3P51CBJLdKWe",
        "outputId": "3536a5ee-f522-48da-da07-77acb41520a4"
      },
      "execution_count": 40,
      "outputs": [
        {
          "output_type": "stream",
          "name": "stdout",
          "text": [
            "{'image_dir': '/content/drive/MyDrive/table-transformer-main/table-transformer-main/images', 'words_dir': '/content/drive/MyDrive/donut-master', 'out_dir': '/content/drive/MyDrive/table-transformer-main/table-transformer-main/wordtotext', 'mode': 'extract', 'structure_config_path': 'structure_config.json', 'structure_model_path': '/content/drive/MyDrive/table-transformer/pretrain/pubtables1m_structure_detr_r18.pth', 'detection_config_path': 'detection_config.json', 'detection_model_path': '/content/drive/MyDrive/table-transformer/pretrain/pubtables1m_detection_detr_r18.pth', 'detection_device': 'cuda', 'structure_device': 'cuda', 'crops': False, 'objects': True, 'cells': True, 'html': False, 'csv': True, 'verbose': False, 'visualize': True, 'crop_padding': 20}\n",
            "----------------------------------------------------------------------------------------------------\n",
            "Creating inference pipeline\n",
            "/usr/local/lib/python3.10/dist-packages/torchvision/models/_utils.py:208: UserWarning: The parameter 'pretrained' is deprecated since 0.13 and may be removed in the future, please use 'weights' instead.\n",
            "  warnings.warn(\n",
            "/usr/local/lib/python3.10/dist-packages/torchvision/models/_utils.py:223: UserWarning: Arguments other than a weight enum or `None` for 'weights' are deprecated since 0.13 and may be removed in the future. The current behavior is equivalent to passing `weights=ResNet18_Weights.IMAGENET1K_V1`. You can also use `weights=ResNet18_Weights.DEFAULT` to get the most up-to-date weights.\n",
            "  warnings.warn(msg)\n",
            "Detection model initialized.\n",
            "/content/drive/MyDrive/table-transformer/src/inference.py:700: FutureWarning: You are using `torch.load` with `weights_only=False` (the current default value), which uses the default pickle module implicitly. It is possible to construct malicious pickle data which will execute arbitrary code during unpickling (See https://github.com/pytorch/pytorch/blob/main/SECURITY.md#untrusted-models for more details). In a future release, the default value for `weights_only` will be flipped to `True`. This limits the functions that could be executed during unpickling. Arbitrary objects will no longer be allowed to be loaded via this mode unless they are explicitly allowlisted by the user via `torch.serialization.add_safe_globals`. We recommend you start setting `weights_only=True` for any use case where you don't have full control of the loaded file. Please open an issue on GitHub for any issues related to this experimental feature.\n",
            "  self.det_model.load_state_dict(torch.load(det_model_path,\n",
            "Detection model weights loaded.\n",
            "Structure model initialized.\n",
            "/content/drive/MyDrive/table-transformer/src/inference.py:717: FutureWarning: You are using `torch.load` with `weights_only=False` (the current default value), which uses the default pickle module implicitly. It is possible to construct malicious pickle data which will execute arbitrary code during unpickling (See https://github.com/pytorch/pytorch/blob/main/SECURITY.md#untrusted-models for more details). In a future release, the default value for `weights_only` will be flipped to `True`. This limits the functions that could be executed during unpickling. Arbitrary objects will no longer be allowed to be loaded via this mode unless they are explicitly allowlisted by the user via `torch.serialization.add_safe_globals`. We recommend you start setting `weights_only=True` for any use case where you don't have full control of the loaded file. Please open an issue on GitHub for any issues related to this experimental feature.\n",
            "  self.str_model.load_state_dict(torch.load(str_model_path,\n",
            "Traceback (most recent call last):\n",
            "  File \"/content/drive/MyDrive/table-transformer/src/inference.py\", line 939, in <module>\n",
            "    main()\n",
            "  File \"/content/drive/MyDrive/table-transformer/src/inference.py\", line 872, in main\n",
            "    pipe = TableExtractionPipeline(det_device=args.detection_device,\n",
            "  File \"/content/drive/MyDrive/table-transformer/src/inference.py\", line 717, in __init__\n",
            "    self.str_model.load_state_dict(torch.load(str_model_path,\n",
            "  File \"/usr/local/lib/python3.10/dist-packages/torch/serialization.py\", line 1384, in load\n",
            "    return _legacy_load(\n",
            "  File \"/usr/local/lib/python3.10/dist-packages/torch/serialization.py\", line 1628, in _legacy_load\n",
            "    magic_number = pickle_module.load(f, **pickle_load_args)\n",
            "_pickle.UnpicklingError: invalid load key, '<'.\n"
          ]
        }
      ]
    }
  ]
}