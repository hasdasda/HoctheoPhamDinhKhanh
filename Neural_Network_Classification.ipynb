{
  "nbformat": 4,
  "nbformat_minor": 0,
  "metadata": {
    "colab": {
      "provenance": [],
      "authorship_tag": "ABX9TyMMnI85gtODncG7bYuUDCjf",
      "include_colab_link": true
    },
    "kernelspec": {
      "name": "python3",
      "display_name": "Python 3"
    },
    "language_info": {
      "name": "python"
    }
  },
  "cells": [
    {
      "cell_type": "markdown",
      "metadata": {
        "id": "view-in-github",
        "colab_type": "text"
      },
      "source": [
        "<a href=\"https://colab.research.google.com/github/hasdasda/HoctheoPhamDinhKhanh/blob/main/Neural_Network_Classification.ipynb\" target=\"_parent\"><img src=\"https://colab.research.google.com/assets/colab-badge.svg\" alt=\"Open In Colab\"/></a>"
      ]
    },
    {
      "cell_type": "markdown",
      "source": [
        "# 02.Neural Network classificatuon with PyTorch\n",
        "Classification is a problem of predicting whether something is one thing or another (there can be m)"
      ],
      "metadata": {
        "id": "vj0GbYcuvUMy"
      }
    },
    {
      "cell_type": "code",
      "source": [
        "import sklearn"
      ],
      "metadata": {
        "id": "4aYXBWlDvSJD"
      },
      "execution_count": 1,
      "outputs": []
    },
    {
      "cell_type": "code",
      "source": [
        "from sklearn.datasets import make_circles\n",
        "\n",
        "# Nake 1000 samples\n",
        "n_samples = 100\n",
        "\n",
        "# Create circles\n",
        "X, y = make_circles(n_samples,\n",
        "                    noise=0.03,\n",
        "                    random_state=42)"
      ],
      "metadata": {
        "id": "cIzxuVvwvavi"
      },
      "execution_count": 2,
      "outputs": []
    },
    {
      "cell_type": "code",
      "source": [
        "len(X), len(y)"
      ],
      "metadata": {
        "colab": {
          "base_uri": "https://localhost:8080/"
        },
        "id": "VtITjcqAznvr",
        "outputId": "16a9ed62-677a-49cd-baad-03c651e5fa86"
      },
      "execution_count": 3,
      "outputs": [
        {
          "output_type": "execute_result",
          "data": {
            "text/plain": [
              "(100, 100)"
            ]
          },
          "metadata": {},
          "execution_count": 3
        }
      ]
    },
    {
      "cell_type": "code",
      "source": [
        "print(f\"First 5 samples of X: \\n{X[:5]}\")\n",
        "print(f\"First 5 samples of y: \\n{y[:5]}\")"
      ],
      "metadata": {
        "colab": {
          "base_uri": "https://localhost:8080/"
        },
        "id": "O_UrLh8Nzvma",
        "outputId": "c87797fd-f946-4700-ed29-ebb48a38c495"
      },
      "execution_count": 4,
      "outputs": [
        {
          "output_type": "stream",
          "name": "stdout",
          "text": [
            "First 5 samples of X: \n",
            "[[-0.40957228 -0.70266396]\n",
            " [ 0.75810247  0.33360948]\n",
            " [-0.64086599  0.48813954]\n",
            " [ 0.78212694 -0.59114489]\n",
            " [ 0.77303687 -0.71826406]]\n",
            "First 5 samples of y: \n",
            "[1 1 1 0 0]\n"
          ]
        }
      ]
    },
    {
      "cell_type": "code",
      "source": [
        "# Make DataFrame of circle data\n",
        "import pandas as pd\n",
        "circles = pd.DataFrame({\"X1\": X[:, 0],\n",
        "                        \"X2\": X[:, 1],\n",
        "                        \"label\": y})\n",
        "circles.head(10)"
      ],
      "metadata": {
        "colab": {
          "base_uri": "https://localhost:8080/",
          "height": 363
        },
        "id": "zzGhkkgX0NSF",
        "outputId": "8a018f76-62ff-483f-f344-c2f30e1ddbfa"
      },
      "execution_count": 5,
      "outputs": [
        {
          "output_type": "execute_result",
          "data": {
            "text/plain": [
              "         X1        X2  label\n",
              "0 -0.409572 -0.702664      1\n",
              "1  0.758102  0.333609      1\n",
              "2 -0.640866  0.488140      1\n",
              "3  0.782127 -0.591145      0\n",
              "4  0.773037 -0.718264      0\n",
              "5  0.215881 -0.930492      0\n",
              "6 -0.916040  0.317596      0\n",
              "7 -0.637408 -0.472662      1\n",
              "8  0.323051  0.973140      0\n",
              "9  0.976609 -0.025317      0"
            ],
            "text/html": [
              "\n",
              "  <div id=\"df-ce723854-d243-426c-8717-cbcc6dea4e1e\" class=\"colab-df-container\">\n",
              "    <div>\n",
              "<style scoped>\n",
              "    .dataframe tbody tr th:only-of-type {\n",
              "        vertical-align: middle;\n",
              "    }\n",
              "\n",
              "    .dataframe tbody tr th {\n",
              "        vertical-align: top;\n",
              "    }\n",
              "\n",
              "    .dataframe thead th {\n",
              "        text-align: right;\n",
              "    }\n",
              "</style>\n",
              "<table border=\"1\" class=\"dataframe\">\n",
              "  <thead>\n",
              "    <tr style=\"text-align: right;\">\n",
              "      <th></th>\n",
              "      <th>X1</th>\n",
              "      <th>X2</th>\n",
              "      <th>label</th>\n",
              "    </tr>\n",
              "  </thead>\n",
              "  <tbody>\n",
              "    <tr>\n",
              "      <th>0</th>\n",
              "      <td>-0.409572</td>\n",
              "      <td>-0.702664</td>\n",
              "      <td>1</td>\n",
              "    </tr>\n",
              "    <tr>\n",
              "      <th>1</th>\n",
              "      <td>0.758102</td>\n",
              "      <td>0.333609</td>\n",
              "      <td>1</td>\n",
              "    </tr>\n",
              "    <tr>\n",
              "      <th>2</th>\n",
              "      <td>-0.640866</td>\n",
              "      <td>0.488140</td>\n",
              "      <td>1</td>\n",
              "    </tr>\n",
              "    <tr>\n",
              "      <th>3</th>\n",
              "      <td>0.782127</td>\n",
              "      <td>-0.591145</td>\n",
              "      <td>0</td>\n",
              "    </tr>\n",
              "    <tr>\n",
              "      <th>4</th>\n",
              "      <td>0.773037</td>\n",
              "      <td>-0.718264</td>\n",
              "      <td>0</td>\n",
              "    </tr>\n",
              "    <tr>\n",
              "      <th>5</th>\n",
              "      <td>0.215881</td>\n",
              "      <td>-0.930492</td>\n",
              "      <td>0</td>\n",
              "    </tr>\n",
              "    <tr>\n",
              "      <th>6</th>\n",
              "      <td>-0.916040</td>\n",
              "      <td>0.317596</td>\n",
              "      <td>0</td>\n",
              "    </tr>\n",
              "    <tr>\n",
              "      <th>7</th>\n",
              "      <td>-0.637408</td>\n",
              "      <td>-0.472662</td>\n",
              "      <td>1</td>\n",
              "    </tr>\n",
              "    <tr>\n",
              "      <th>8</th>\n",
              "      <td>0.323051</td>\n",
              "      <td>0.973140</td>\n",
              "      <td>0</td>\n",
              "    </tr>\n",
              "    <tr>\n",
              "      <th>9</th>\n",
              "      <td>0.976609</td>\n",
              "      <td>-0.025317</td>\n",
              "      <td>0</td>\n",
              "    </tr>\n",
              "  </tbody>\n",
              "</table>\n",
              "</div>\n",
              "    <div class=\"colab-df-buttons\">\n",
              "\n",
              "  <div class=\"colab-df-container\">\n",
              "    <button class=\"colab-df-convert\" onclick=\"convertToInteractive('df-ce723854-d243-426c-8717-cbcc6dea4e1e')\"\n",
              "            title=\"Convert this dataframe to an interactive table.\"\n",
              "            style=\"display:none;\">\n",
              "\n",
              "  <svg xmlns=\"http://www.w3.org/2000/svg\" height=\"24px\" viewBox=\"0 -960 960 960\">\n",
              "    <path d=\"M120-120v-720h720v720H120Zm60-500h600v-160H180v160Zm220 220h160v-160H400v160Zm0 220h160v-160H400v160ZM180-400h160v-160H180v160Zm440 0h160v-160H620v160ZM180-180h160v-160H180v160Zm440 0h160v-160H620v160Z\"/>\n",
              "  </svg>\n",
              "    </button>\n",
              "\n",
              "  <style>\n",
              "    .colab-df-container {\n",
              "      display:flex;\n",
              "      gap: 12px;\n",
              "    }\n",
              "\n",
              "    .colab-df-convert {\n",
              "      background-color: #E8F0FE;\n",
              "      border: none;\n",
              "      border-radius: 50%;\n",
              "      cursor: pointer;\n",
              "      display: none;\n",
              "      fill: #1967D2;\n",
              "      height: 32px;\n",
              "      padding: 0 0 0 0;\n",
              "      width: 32px;\n",
              "    }\n",
              "\n",
              "    .colab-df-convert:hover {\n",
              "      background-color: #E2EBFA;\n",
              "      box-shadow: 0px 1px 2px rgba(60, 64, 67, 0.3), 0px 1px 3px 1px rgba(60, 64, 67, 0.15);\n",
              "      fill: #174EA6;\n",
              "    }\n",
              "\n",
              "    .colab-df-buttons div {\n",
              "      margin-bottom: 4px;\n",
              "    }\n",
              "\n",
              "    [theme=dark] .colab-df-convert {\n",
              "      background-color: #3B4455;\n",
              "      fill: #D2E3FC;\n",
              "    }\n",
              "\n",
              "    [theme=dark] .colab-df-convert:hover {\n",
              "      background-color: #434B5C;\n",
              "      box-shadow: 0px 1px 3px 1px rgba(0, 0, 0, 0.15);\n",
              "      filter: drop-shadow(0px 1px 2px rgba(0, 0, 0, 0.3));\n",
              "      fill: #FFFFFF;\n",
              "    }\n",
              "  </style>\n",
              "\n",
              "    <script>\n",
              "      const buttonEl =\n",
              "        document.querySelector('#df-ce723854-d243-426c-8717-cbcc6dea4e1e button.colab-df-convert');\n",
              "      buttonEl.style.display =\n",
              "        google.colab.kernel.accessAllowed ? 'block' : 'none';\n",
              "\n",
              "      async function convertToInteractive(key) {\n",
              "        const element = document.querySelector('#df-ce723854-d243-426c-8717-cbcc6dea4e1e');\n",
              "        const dataTable =\n",
              "          await google.colab.kernel.invokeFunction('convertToInteractive',\n",
              "                                                    [key], {});\n",
              "        if (!dataTable) return;\n",
              "\n",
              "        const docLinkHtml = 'Like what you see? Visit the ' +\n",
              "          '<a target=\"_blank\" href=https://colab.research.google.com/notebooks/data_table.ipynb>data table notebook</a>'\n",
              "          + ' to learn more about interactive tables.';\n",
              "        element.innerHTML = '';\n",
              "        dataTable['output_type'] = 'display_data';\n",
              "        await google.colab.output.renderOutput(dataTable, element);\n",
              "        const docLink = document.createElement('div');\n",
              "        docLink.innerHTML = docLinkHtml;\n",
              "        element.appendChild(docLink);\n",
              "      }\n",
              "    </script>\n",
              "  </div>\n",
              "\n",
              "\n",
              "<div id=\"df-1987c740-aee5-46ee-a873-147b3c2f07a4\">\n",
              "  <button class=\"colab-df-quickchart\" onclick=\"quickchart('df-1987c740-aee5-46ee-a873-147b3c2f07a4')\"\n",
              "            title=\"Suggest charts\"\n",
              "            style=\"display:none;\">\n",
              "\n",
              "<svg xmlns=\"http://www.w3.org/2000/svg\" height=\"24px\"viewBox=\"0 0 24 24\"\n",
              "     width=\"24px\">\n",
              "    <g>\n",
              "        <path d=\"M19 3H5c-1.1 0-2 .9-2 2v14c0 1.1.9 2 2 2h14c1.1 0 2-.9 2-2V5c0-1.1-.9-2-2-2zM9 17H7v-7h2v7zm4 0h-2V7h2v10zm4 0h-2v-4h2v4z\"/>\n",
              "    </g>\n",
              "</svg>\n",
              "  </button>\n",
              "\n",
              "<style>\n",
              "  .colab-df-quickchart {\n",
              "      --bg-color: #E8F0FE;\n",
              "      --fill-color: #1967D2;\n",
              "      --hover-bg-color: #E2EBFA;\n",
              "      --hover-fill-color: #174EA6;\n",
              "      --disabled-fill-color: #AAA;\n",
              "      --disabled-bg-color: #DDD;\n",
              "  }\n",
              "\n",
              "  [theme=dark] .colab-df-quickchart {\n",
              "      --bg-color: #3B4455;\n",
              "      --fill-color: #D2E3FC;\n",
              "      --hover-bg-color: #434B5C;\n",
              "      --hover-fill-color: #FFFFFF;\n",
              "      --disabled-bg-color: #3B4455;\n",
              "      --disabled-fill-color: #666;\n",
              "  }\n",
              "\n",
              "  .colab-df-quickchart {\n",
              "    background-color: var(--bg-color);\n",
              "    border: none;\n",
              "    border-radius: 50%;\n",
              "    cursor: pointer;\n",
              "    display: none;\n",
              "    fill: var(--fill-color);\n",
              "    height: 32px;\n",
              "    padding: 0;\n",
              "    width: 32px;\n",
              "  }\n",
              "\n",
              "  .colab-df-quickchart:hover {\n",
              "    background-color: var(--hover-bg-color);\n",
              "    box-shadow: 0 1px 2px rgba(60, 64, 67, 0.3), 0 1px 3px 1px rgba(60, 64, 67, 0.15);\n",
              "    fill: var(--button-hover-fill-color);\n",
              "  }\n",
              "\n",
              "  .colab-df-quickchart-complete:disabled,\n",
              "  .colab-df-quickchart-complete:disabled:hover {\n",
              "    background-color: var(--disabled-bg-color);\n",
              "    fill: var(--disabled-fill-color);\n",
              "    box-shadow: none;\n",
              "  }\n",
              "\n",
              "  .colab-df-spinner {\n",
              "    border: 2px solid var(--fill-color);\n",
              "    border-color: transparent;\n",
              "    border-bottom-color: var(--fill-color);\n",
              "    animation:\n",
              "      spin 1s steps(1) infinite;\n",
              "  }\n",
              "\n",
              "  @keyframes spin {\n",
              "    0% {\n",
              "      border-color: transparent;\n",
              "      border-bottom-color: var(--fill-color);\n",
              "      border-left-color: var(--fill-color);\n",
              "    }\n",
              "    20% {\n",
              "      border-color: transparent;\n",
              "      border-left-color: var(--fill-color);\n",
              "      border-top-color: var(--fill-color);\n",
              "    }\n",
              "    30% {\n",
              "      border-color: transparent;\n",
              "      border-left-color: var(--fill-color);\n",
              "      border-top-color: var(--fill-color);\n",
              "      border-right-color: var(--fill-color);\n",
              "    }\n",
              "    40% {\n",
              "      border-color: transparent;\n",
              "      border-right-color: var(--fill-color);\n",
              "      border-top-color: var(--fill-color);\n",
              "    }\n",
              "    60% {\n",
              "      border-color: transparent;\n",
              "      border-right-color: var(--fill-color);\n",
              "    }\n",
              "    80% {\n",
              "      border-color: transparent;\n",
              "      border-right-color: var(--fill-color);\n",
              "      border-bottom-color: var(--fill-color);\n",
              "    }\n",
              "    90% {\n",
              "      border-color: transparent;\n",
              "      border-bottom-color: var(--fill-color);\n",
              "    }\n",
              "  }\n",
              "</style>\n",
              "\n",
              "  <script>\n",
              "    async function quickchart(key) {\n",
              "      const quickchartButtonEl =\n",
              "        document.querySelector('#' + key + ' button');\n",
              "      quickchartButtonEl.disabled = true;  // To prevent multiple clicks.\n",
              "      quickchartButtonEl.classList.add('colab-df-spinner');\n",
              "      try {\n",
              "        const charts = await google.colab.kernel.invokeFunction(\n",
              "            'suggestCharts', [key], {});\n",
              "      } catch (error) {\n",
              "        console.error('Error during call to suggestCharts:', error);\n",
              "      }\n",
              "      quickchartButtonEl.classList.remove('colab-df-spinner');\n",
              "      quickchartButtonEl.classList.add('colab-df-quickchart-complete');\n",
              "    }\n",
              "    (() => {\n",
              "      let quickchartButtonEl =\n",
              "        document.querySelector('#df-1987c740-aee5-46ee-a873-147b3c2f07a4 button');\n",
              "      quickchartButtonEl.style.display =\n",
              "        google.colab.kernel.accessAllowed ? 'block' : 'none';\n",
              "    })();\n",
              "  </script>\n",
              "</div>\n",
              "\n",
              "    </div>\n",
              "  </div>\n"
            ],
            "application/vnd.google.colaboratory.intrinsic+json": {
              "type": "dataframe",
              "variable_name": "circles",
              "summary": "{\n  \"name\": \"circles\",\n  \"rows\": 100,\n  \"fields\": [\n    {\n      \"column\": \"X1\",\n      \"properties\": {\n        \"dtype\": \"number\",\n        \"std\": 0.6431468687385486,\n        \"min\": -1.0434305886702289,\n        \"max\": 1.0252695908124285,\n        \"num_unique_values\": 100,\n        \"samples\": [\n          -0.8566027601089441,\n          0.08727510121575484,\n          -0.7013928436285506\n        ],\n        \"semantic_type\": \"\",\n        \"description\": \"\"\n      }\n    },\n    {\n      \"column\": \"X2\",\n      \"properties\": {\n        \"dtype\": \"number\",\n        \"std\": 0.6439943449510281,\n        \"min\": -1.0487812761157806,\n        \"max\": 1.020263947479628,\n        \"num_unique_values\": 100,\n        \"samples\": [\n          -0.5248306986829363,\n          -0.9838755096824622,\n          -0.3796849781279366\n        ],\n        \"semantic_type\": \"\",\n        \"description\": \"\"\n      }\n    },\n    {\n      \"column\": \"label\",\n      \"properties\": {\n        \"dtype\": \"number\",\n        \"std\": 0,\n        \"min\": 0,\n        \"max\": 1,\n        \"num_unique_values\": 2,\n        \"samples\": [\n          0,\n          1\n        ],\n        \"semantic_type\": \"\",\n        \"description\": \"\"\n      }\n    }\n  ]\n}"
            }
          },
          "metadata": {},
          "execution_count": 5
        }
      ]
    },
    {
      "cell_type": "code",
      "source": [
        "# Visualize, visualize, visualiza\n",
        "import matplotlib.pyplot as plt\n",
        "plt.scatter(x=X[:, 0],\n",
        "            y=X[:, 1],\n",
        "            c=y,\n",
        "            cmap=plt.cm.RdYlBu)"
      ],
      "metadata": {
        "colab": {
          "base_uri": "https://localhost:8080/",
          "height": 447
        },
        "id": "S61W0oGC1WP1",
        "outputId": "d6695630-4198-413f-ce97-c8c556a49dee"
      },
      "execution_count": 6,
      "outputs": [
        {
          "output_type": "execute_result",
          "data": {
            "text/plain": [
              "<matplotlib.collections.PathCollection at 0x7cff9b954b20>"
            ]
          },
          "metadata": {},
          "execution_count": 6
        },
        {
          "output_type": "display_data",
          "data": {
            "text/plain": [
              "<Figure size 640x480 with 1 Axes>"
            ],
            "image/png": "[encoded data removed]"
          },
          "metadata": {}
        }
      ]
    },
    {
      "cell_type": "markdown",
      "source": [
        "**Note:** The data we're working with is often referred as to a toy dataset, a dataset that is small enough to experiment but still sizeabke enough to practice the fundamentals."
      ],
      "metadata": {
        "id": "BMqoS20n3DTV"
      }
    },
    {
      "cell_type": "markdown",
      "source": [
        "### 1.1 Check input and output shapes"
      ],
      "metadata": {
        "id": "nteKVFph4H5i"
      }
    },
    {
      "cell_type": "code",
      "source": [
        "X.shape, y.shape"
      ],
      "metadata": {
        "colab": {
          "base_uri": "https://localhost:8080/"
        },
        "id": "8jdlwpmt32ZD",
        "outputId": "3e71d6eb-e70b-422f-8988-c4c86a3ea4cd"
      },
      "execution_count": 7,
      "outputs": [
        {
          "output_type": "execute_result",
          "data": {
            "text/plain": [
              "((100, 2), (100,))"
            ]
          },
          "metadata": {},
          "execution_count": 7
        }
      ]
    },
    {
      "cell_type": "code",
      "source": [
        "X"
      ],
      "metadata": {
        "colab": {
          "base_uri": "https://localhost:8080/"
        },
        "id": "kV3FlRKg4xfi",
        "outputId": "97e7ef72-a85f-49ec-b56f-63cacc2a5fce"
      },
      "execution_count": 8,
      "outputs": [
        {
          "output_type": "execute_result",
          "data": {
            "text/plain": [
              "array([[-0.40957228, -0.70266396],\n",
              "       [ 0.75810247,  0.33360948],\n",
              "       [-0.64086599,  0.48813954],\n",
              "       [ 0.78212694, -0.59114489],\n",
              "       [ 0.77303687, -0.71826406],\n",
              "       [ 0.21588148, -0.93049176],\n",
              "       [-0.91603993,  0.31759593],\n",
              "       [-0.63740824, -0.47266177],\n",
              "       [ 0.32305084,  0.97314019],\n",
              "       [ 0.97660894, -0.02531689],\n",
              "       [-0.64194001,  0.74154651],\n",
              "       [-0.80450232, -0.59118789],\n",
              "       [-0.69586068,  0.16819918],\n",
              "       [-0.55928823, -0.83160963],\n",
              "       [ 0.27339475, -0.69222843],\n",
              "       [ 0.9249943 ,  0.50646567],\n",
              "       [-0.78489998, -0.07336768],\n",
              "       [-0.79317619, -0.20843689],\n",
              "       [ 0.01831779,  0.9911613 ],\n",
              "       [-0.70008939, -0.69083788],\n",
              "       [ 0.62399231,  0.45943486],\n",
              "       [ 0.07195491, -0.80609432],\n",
              "       [-0.96661707, -0.16467296],\n",
              "       [ 0.50971765, -0.85952722],\n",
              "       [-0.62247342,  0.63594759],\n",
              "       [-0.34190497,  0.97850305],\n",
              "       [ 0.28903518, -0.96647014],\n",
              "       [ 0.71008503, -0.42915845],\n",
              "       [ 0.40589714,  0.90043287],\n",
              "       [-0.7692017 ,  0.26982496],\n",
              "       [ 0.21998313,  1.01243686],\n",
              "       [ 0.91652351, -0.37064951],\n",
              "       [-0.21010311, -0.80363958],\n",
              "       [-0.91963581, -0.30888742],\n",
              "       [ 0.56889023, -0.67460793],\n",
              "       [ 0.78613819,  0.59284503],\n",
              "       [-0.38027974,  0.70381424],\n",
              "       [-0.25133233,  0.80288486],\n",
              "       [-0.31037907, -0.94454841],\n",
              "       [-0.41040658,  0.92113171],\n",
              "       [ 0.99295769, -0.16124585],\n",
              "       [-0.40208911, -0.89188237],\n",
              "       [ 0.60452142,  0.7500442 ],\n",
              "       [ 0.67383894, -0.45206371],\n",
              "       [-0.9901921 , -0.2567879 ],\n",
              "       [-0.73327249,  0.70305722],\n",
              "       [-0.54570668, -0.54566821],\n",
              "       [-0.96492377,  0.02619951],\n",
              "       [ 0.05640192,  0.75511688],\n",
              "       [-0.09362185,  1.02026395],\n",
              "       [-1.04343059,  0.12890259],\n",
              "       [ 0.95979105,  0.37269718],\n",
              "       [-0.55386871,  0.81892949],\n",
              "       [ 0.0872751 , -0.98387551],\n",
              "       [ 0.52726212,  0.8762867 ],\n",
              "       [-0.71820126, -0.24084183],\n",
              "       [ 0.74597545,  0.67961209],\n",
              "       [-0.15419478,  0.72779269],\n",
              "       [-0.18286154, -0.9827587 ],\n",
              "       [ 0.11000283, -0.78658843],\n",
              "       [ 0.62346995,  0.52560126],\n",
              "       [ 0.76489492, -0.06711874],\n",
              "       [ 0.72007255,  0.4772358 ],\n",
              "       [ 0.59786688, -0.74890163],\n",
              "       [ 0.80947673,  0.00177844],\n",
              "       [-0.40134607,  0.67457058],\n",
              "       [ 0.81821539, -0.5071744 ],\n",
              "       [-0.46900619,  0.65157146],\n",
              "       [ 0.13871148,  0.80093771],\n",
              "       [ 0.82733933, -0.29543525],\n",
              "       [-0.70139284, -0.37968498],\n",
              "       [ 0.44398856, -0.91529409],\n",
              "       [ 0.44684532,  0.61713545],\n",
              "       [ 0.97867512, -0.24717099],\n",
              "       [ 0.76834282, -0.21320963],\n",
              "       [ 0.49165799,  0.59200496],\n",
              "       [-0.86954205, -0.00804055],\n",
              "       [-0.6045341 , -0.78057557],\n",
              "       [ 0.60222828, -0.58004371],\n",
              "       [ 0.30145251,  0.70133879],\n",
              "       [-0.08099741,  0.76293019],\n",
              "       [-0.32713021, -0.67049391],\n",
              "       [-0.08279882, -1.04878128],\n",
              "       [-0.85660276, -0.5248307 ],\n",
              "       [ 0.95661673,  0.1401831 ],\n",
              "       [ 0.76990724,  0.17833665],\n",
              "       [-0.87425614,  0.46947141],\n",
              "       [ 1.02526959,  0.22841575],\n",
              "       [-0.99598554,  0.23503889],\n",
              "       [-0.06261526, -0.78055207],\n",
              "       [ 0.2808773 , -0.71108087],\n",
              "       [-0.80993032,  0.12357128],\n",
              "       [-0.15133436, -0.77026897],\n",
              "       [-0.52168125, -0.60326992],\n",
              "       [-0.7591039 ,  0.56560816],\n",
              "       [ 0.24399776,  0.74625869],\n",
              "       [-0.65325589,  0.37238469],\n",
              "       [-0.20936208,  0.96493894],\n",
              "       [ 0.42458991, -0.69926749],\n",
              "       [ 0.78263826,  0.10498264]])"
            ]
          },
          "metadata": {},
          "execution_count": 8
        }
      ]
    },
    {
      "cell_type": "code",
      "source": [
        "# View the first example of features and labels\n",
        "X_sample = X[0]\n",
        "y_sample = y[0]\n",
        "print(f\"Sample input features: {X_sample}\\nSample target label: {y_sample}\")"
      ],
      "metadata": {
        "colab": {
          "base_uri": "https://localhost:8080/"
        },
        "id": "LY3Ochwj42Wk",
        "outputId": "08bfe260-9af1-4e45-a4f3-d62e68c0560a"
      },
      "execution_count": 9,
      "outputs": [
        {
          "output_type": "stream",
          "name": "stdout",
          "text": [
            "Sample input features: [-0.40957228 -0.70266396]\n",
            "Sample target label: 1\n"
          ]
        }
      ]
    },
    {
      "cell_type": "markdown",
      "source": [
        "### 1.2 Turn data into tensors and create traun and test splits"
      ],
      "metadata": {
        "id": "bbiFEni256_a"
      }
    },
    {
      "cell_type": "code",
      "source": [
        "import torch\n",
        "torch.__version__"
      ],
      "metadata": {
        "colab": {
          "base_uri": "https://localhost:8080/",
          "height": 36
        },
        "id": "8Efv71aZ597E",
        "outputId": "bc64fdca-5fe0-4c21-bcf9-459c64b09e35"
      },
      "execution_count": 10,
      "outputs": [
        {
          "output_type": "execute_result",
          "data": {
            "text/plain": [
              "'2.5.1+cu121'"
            ],
            "application/vnd.google.colaboratory.intrinsic+json": {
              "type": "string"
            }
          },
          "metadata": {},
          "execution_count": 10
        }
      ]
    },
    {
      "cell_type": "code",
      "source": [
        "type(X), X.dtype"
      ],
      "metadata": {
        "colab": {
          "base_uri": "https://localhost:8080/"
        },
        "id": "1RYUC55S6bcy",
        "outputId": "14461ae0-1e88-4c4f-ccd9-81f85f07a620"
      },
      "execution_count": 11,
      "outputs": [
        {
          "output_type": "execute_result",
          "data": {
            "text/plain": [
              "(numpy.ndarray, dtype('float64'))"
            ]
          },
          "metadata": {},
          "execution_count": 11
        }
      ]
    },
    {
      "cell_type": "code",
      "source": [
        "# Turn data into tensors\n",
        "X = torch.from_numpy(X).type(torch.float)\n",
        "y = torch.from_numpy(y).type(torch.float)\n",
        "\n",
        "X[:5], y[:5]"
      ],
      "metadata": {
        "colab": {
          "base_uri": "https://localhost:8080/"
        },
        "id": "fPGRpeC76Ob0",
        "outputId": "28431b60-85c4-48e5-ef13-4d0cf94a2658"
      },
      "execution_count": 12,
      "outputs": [
        {
          "output_type": "execute_result",
          "data": {
            "text/plain": [
              "(tensor([[-0.4096, -0.7027],\n",
              "         [ 0.7581,  0.3336],\n",
              "         [-0.6409,  0.4881],\n",
              "         [ 0.7821, -0.5911],\n",
              "         [ 0.7730, -0.7183]]),\n",
              " tensor([1., 1., 1., 0., 0.]))"
            ]
          },
          "metadata": {},
          "execution_count": 12
        }
      ]
    },
    {
      "cell_type": "code",
      "source": [
        "type(X), X.dtype, y.dtype"
      ],
      "metadata": {
        "colab": {
          "base_uri": "https://localhost:8080/"
        },
        "id": "1JH1LGaRPNPP",
        "outputId": "0f2482ad-0f25-4384-b425-26541342c1eb"
      },
      "execution_count": 13,
      "outputs": [
        {
          "output_type": "execute_result",
          "data": {
            "text/plain": [
              "(torch.Tensor, torch.float32, torch.float32)"
            ]
          },
          "metadata": {},
          "execution_count": 13
        }
      ]
    },
    {
      "cell_type": "code",
      "source": [
        "# Split data into training and test sets\n",
        "from sklearn.model_selection import train_test_split\n",
        "\n",
        "X_train, X_test, y_train, y_test = train_test_split(X,\n",
        "                                                    y,\n",
        "                                                    test_size=0.2, # 0.2 = 20% of data will be test & 80% will be train\n",
        "                                                    random_state=42)"
      ],
      "metadata": {
        "id": "ACA44dPMPhsu"
      },
      "execution_count": 14,
      "outputs": []
    },
    {
      "cell_type": "code",
      "source": [
        "len(X_train), len(X_test), len(y_train), len(y_test)"
      ],
      "metadata": {
        "colab": {
          "base_uri": "https://localhost:8080/"
        },
        "id": "OeS_uVu8P3Y-",
        "outputId": "21056978-8088-4ff9-a97c-818030b7249b"
      },
      "execution_count": 15,
      "outputs": [
        {
          "output_type": "execute_result",
          "data": {
            "text/plain": [
              "(80, 20, 80, 20)"
            ]
          },
          "metadata": {},
          "execution_count": 15
        }
      ]
    },
    {
      "cell_type": "markdown",
      "source": [
        "## 2. Bulding a model\n",
        "\n",
        "Let's build a model to classify our blue and red dots.\n",
        "\n",
        "To do so, we want to:\n",
        "1. Setup device agnoistic code so our code will run on an accelerator (GPU) if there is one\n",
        "2. Construct a model (by subclassing nn.Module)\n",
        "3. Define a loss function and optimizer\n",
        "4. Creat a training and test loop."
      ],
      "metadata": {
        "id": "m434tdh-58hq"
      }
    },
    {
      "cell_type": "code",
      "source": [
        "# Import PyTorch and nn\n",
        "import torch\n",
        "from torch import nn\n",
        "\n",
        "# Make device agnostic code\n",
        "device = \"cuda\" if torch.cuda.is_available() else \"cpu\"\n",
        "device"
      ],
      "metadata": {
        "colab": {
          "base_uri": "https://localhost:8080/",
          "height": 36
        },
        "id": "ZiaK5i3_SXJp",
        "outputId": "90c8df38-c8d6-4fdf-b948-55b248f06dfb"
      },
      "execution_count": 16,
      "outputs": [
        {
          "output_type": "execute_result",
          "data": {
            "text/plain": [
              "'cpu'"
            ],
            "application/vnd.google.colaboratory.intrinsic+json": {
              "type": "string"
            }
          },
          "metadata": {},
          "execution_count": 16
        }
      ]
    },
    {
      "cell_type": "code",
      "source": [
        "X_train"
      ],
      "metadata": {
        "colab": {
          "base_uri": "https://localhost:8080/"
        },
        "id": "P1AvX-b2S8Jf",
        "outputId": "4e0fad39-88b5-40e6-cd4a-e5f478efa6e4"
      },
      "execution_count": 17,
      "outputs": [
        {
          "output_type": "execute_result",
          "data": {
            "text/plain": [
              "tensor([[-0.7182, -0.2408],\n",
              "        [-0.9960,  0.2350],\n",
              "        [ 0.2890, -0.9665],\n",
              "        [ 0.6045,  0.7500],\n",
              "        [ 0.8273, -0.2954],\n",
              "        [ 0.9250,  0.5065],\n",
              "        [ 0.9930, -0.1612],\n",
              "        [-0.6533,  0.3724],\n",
              "        [ 0.9766, -0.0253],\n",
              "        [ 0.4468,  0.6171],\n",
              "        [-0.8045, -0.5912],\n",
              "        [-0.9649,  0.0262],\n",
              "        [ 0.7699,  0.1783],\n",
              "        [ 0.4059,  0.9004],\n",
              "        [-0.5217, -0.6033],\n",
              "        [ 0.2159, -0.9305],\n",
              "        [ 0.8182, -0.5072],\n",
              "        [-0.4013,  0.6746],\n",
              "        [ 0.7861,  0.5928],\n",
              "        [-0.7849, -0.0734],\n",
              "        [-0.0936,  1.0203],\n",
              "        [ 0.5689, -0.6746],\n",
              "        [-0.6374, -0.4727],\n",
              "        [ 0.2440,  0.7463],\n",
              "        [ 0.7101, -0.4292],\n",
              "        [-0.7001, -0.6908],\n",
              "        [-0.3271, -0.6705],\n",
              "        [-0.3419,  0.9785],\n",
              "        [ 0.7201,  0.4772],\n",
              "        [-0.5593, -0.8316],\n",
              "        [-0.6225,  0.6359],\n",
              "        [ 0.7821, -0.5911],\n",
              "        [-0.7932, -0.2084],\n",
              "        [-0.3104, -0.9445],\n",
              "        [ 0.3231,  0.9731],\n",
              "        [ 0.6022, -0.5800],\n",
              "        [-0.9160,  0.3176],\n",
              "        [ 0.8095,  0.0018],\n",
              "        [-0.3803,  0.7038],\n",
              "        [-0.0626, -0.7806],\n",
              "        [ 0.7460,  0.6796],\n",
              "        [ 0.7826,  0.1050],\n",
              "        [ 0.5273,  0.8763],\n",
              "        [ 0.6738, -0.4521],\n",
              "        [-1.0434,  0.1289],\n",
              "        [-0.4690,  0.6516],\n",
              "        [-0.5457, -0.5457],\n",
              "        [ 0.1387,  0.8009],\n",
              "        [ 0.7649, -0.0671],\n",
              "        [-0.2094,  0.9649],\n",
              "        [ 0.3015,  0.7013],\n",
              "        [-0.4021, -0.8919],\n",
              "        [-0.1829, -0.9828],\n",
              "        [ 0.0564,  0.7551],\n",
              "        [ 0.4246, -0.6993],\n",
              "        [-0.1542,  0.7278],\n",
              "        [ 0.4917,  0.5920],\n",
              "        [-0.2101, -0.8036],\n",
              "        [-0.7591,  0.5656],\n",
              "        [ 0.1100, -0.7866],\n",
              "        [ 0.5979, -0.7489],\n",
              "        [ 0.9566,  0.1402],\n",
              "        [-0.2513,  0.8029],\n",
              "        [-0.7692,  0.2698],\n",
              "        [ 0.7581,  0.3336],\n",
              "        [-0.5539,  0.8189],\n",
              "        [ 0.0720, -0.8061],\n",
              "        [-0.6409,  0.4881],\n",
              "        [ 0.5097, -0.8595],\n",
              "        [ 1.0253,  0.2284],\n",
              "        [-0.8099,  0.1236],\n",
              "        [ 0.7683, -0.2132],\n",
              "        [-0.8743,  0.4695],\n",
              "        [-0.0828, -1.0488],\n",
              "        [ 0.6240,  0.4594],\n",
              "        [ 0.6235,  0.5256],\n",
              "        [ 0.4440, -0.9153],\n",
              "        [ 0.2734, -0.6922],\n",
              "        [-0.1513, -0.7703],\n",
              "        [ 0.9598,  0.3727]])"
            ]
          },
          "metadata": {},
          "execution_count": 17
        }
      ]
    },
    {
      "cell_type": "markdown",
      "source": [
        "Now we've setup device agnoistic code, let's build a model.\n",
        "1. Subclasses 'nn.Module' (almost all models in PyTorch subclass 'nn.Module')\n",
        "2. Create 2 'nn.Linear()' layers that are capable of handling of handling the shapes of our data.\n",
        "3. Defines a 'forward()' method that outlines the forward pass (or forward computation) of the model\n",
        "4. Instatiate an instance of our model class and send it to the target device\n",
        "\n"
      ],
      "metadata": {
        "id": "TGL-047tTU8F"
      }
    },
    {
      "cell_type": "code",
      "source": [
        "# 1. Construct a model that subclasses nn.Module\n",
        "class CircleModelV0(nn.Module):\n",
        "  def __init__(self):\n",
        "    super().__init__()\n",
        "    # 2. Create 2 nn.Linear layers capable of handling the shapes of our data\n",
        "    self.layer_1 = nn.Linear(in_features=2,\n",
        "                             out_features=5) # takes in 2 features and upscales to 5 features\n",
        "    self.layer_2 = nn.Linear(in_features=5,\n",
        "                             out_features=1) # takes in 5 features from previous layer and outputs a single feature (same shape as y)\n",
        "\n",
        "    # 3. Define a forward() method that outlines the forward pass\n",
        "  def forward(self, x):\n",
        "    return self.layer_2(self.layer_1(x)) # x -> layer_1 -> layer_2 -> output\n",
        "\n",
        "# 4. Instantiate an instance of our model class and send it to the target device\n",
        "model_0 = CircleModelV0().to(device)\n",
        "model_0\n",
        "\n"
      ],
      "metadata": {
        "id": "CBeQcn3YTGsf",
        "colab": {
          "base_uri": "https://localhost:8080/"
        },
        "outputId": "21e62b57-803c-4d3e-eab8-7d0729e11910"
      },
      "execution_count": 18,
      "outputs": [
        {
          "output_type": "execute_result",
          "data": {
            "text/plain": [
              "CircleModelV0(\n",
              "  (layer_1): Linear(in_features=2, out_features=5, bias=True)\n",
              "  (layer_2): Linear(in_features=5, out_features=1, bias=True)\n",
              ")"
            ]
          },
          "metadata": {},
          "execution_count": 18
        }
      ]
    },
    {
      "cell_type": "code",
      "source": [
        "device"
      ],
      "metadata": {
        "colab": {
          "base_uri": "https://localhost:8080/",
          "height": 36
        },
        "id": "QDyUDLi8R5f8",
        "outputId": "a2f09f79-a773-47b0-c994-e9e1b0cb8206"
      },
      "execution_count": 19,
      "outputs": [
        {
          "output_type": "execute_result",
          "data": {
            "text/plain": [
              "'cpu'"
            ],
            "application/vnd.google.colaboratory.intrinsic+json": {
              "type": "string"
            }
          },
          "metadata": {},
          "execution_count": 19
        }
      ]
    },
    {
      "cell_type": "code",
      "source": [
        "next(model_0.parameters()).device"
      ],
      "metadata": {
        "id": "P9gZBTyFR7wK",
        "colab": {
          "base_uri": "https://localhost:8080/"
        },
        "outputId": "2025f569-a365-418e-c3ec-fd13812c60b1"
      },
      "execution_count": 20,
      "outputs": [
        {
          "output_type": "execute_result",
          "data": {
            "text/plain": [
              "device(type='cpu')"
            ]
          },
          "metadata": {},
          "execution_count": 20
        }
      ]
    },
    {
      "cell_type": "code",
      "source": [
        "# Let's replicate the model above using nn.Sequential()\n",
        "model_0 = nn.Sequential(\n",
        "  nn.Linear(in_features=2, out_features=5),\n",
        "  nn.Linear(in_features=5, out_features=1)\n",
        ").to(device)\n",
        "\n",
        "model_0"
      ],
      "metadata": {
        "colab": {
          "base_uri": "https://localhost:8080/"
        },
        "id": "ipohzRrtOb3G",
        "outputId": "5b77db58-101d-4b2c-aa60-23e893f424b6"
      },
      "execution_count": 21,
      "outputs": [
        {
          "output_type": "execute_result",
          "data": {
            "text/plain": [
              "Sequential(\n",
              "  (0): Linear(in_features=2, out_features=5, bias=True)\n",
              "  (1): Linear(in_features=5, out_features=1, bias=True)\n",
              ")"
            ]
          },
          "metadata": {},
          "execution_count": 21
        }
      ]
    },
    {
      "cell_type": "code",
      "source": [
        "model_0.state_dict()"
      ],
      "metadata": {
        "colab": {
          "base_uri": "https://localhost:8080/"
        },
        "id": "FoUTT_p3FP7B",
        "outputId": "efe49f87-dbb7-4080-eeb6-bbac8f51c7ac"
      },
      "execution_count": 22,
      "outputs": [
        {
          "output_type": "execute_result",
          "data": {
            "text/plain": [
              "OrderedDict([('0.weight',\n",
              "              tensor([[ 0.2776,  0.1697],\n",
              "                      [-0.5804,  0.2366],\n",
              "                      [ 0.1086,  0.2609],\n",
              "                      [ 0.2072,  0.3425],\n",
              "                      [ 0.5639, -0.6183]])),\n",
              "             ('0.bias', tensor([ 0.6894, -0.6312,  0.1406,  0.5360, -0.0671])),\n",
              "             ('1.weight',\n",
              "              tensor([[ 0.2055, -0.3404,  0.3008,  0.3742, -0.3091]])),\n",
              "             ('1.bias', tensor([-0.3458]))])"
            ]
          },
          "metadata": {},
          "execution_count": 22
        }
      ]
    },
    {
      "cell_type": "code",
      "source": [
        "# Make predictions\n",
        "# untrained_pred = model_0(X_test.to(device))\n",
        "# print(f\"Length of predictions: {len(untrained_pred)}\")\n",
        "# print(f\"Shape of predictions: {untrained_pred.shape}\")\n",
        "# print(f\"Length of test sample: {len(X_test)}\")\n",
        "# print(f\"Shape of test sample: {X_test.shape}\")\n",
        "# print(f\"\\nFirst 10 predictions:\\n{torch.round(untrained_preds[:10])}\")\n",
        "# print(f\"\\nFirst 10 labels:\\n{y_test[:10]}\")\n",
        "\n",
        "# Make predictions\n",
        "with torch.inference_mode():\n",
        "  untrained_preds = model_0(X_test.to(device))\n",
        "print(f\"Length of predictions: {len(untrained_preds)}, Shape: {untrained_preds.shape}\")\n",
        "print(f\"Length of test samples: {len(X_test)}, Shape: {X_test.shape}\")\n",
        "print(f\"\\nFirst 10 predictions:\\n{torch.round(untrained_preds[:10])}\")\n",
        "print(f\"\\nFirst 10 labels:\\n{y_test[:10]}\")"
      ],
      "metadata": {
        "id": "1vbLmlF3FWOO",
        "colab": {
          "base_uri": "https://localhost:8080/"
        },
        "outputId": "2c5001a6-d8e5-4de9-9c56-b99d2b934358"
      },
      "execution_count": 23,
      "outputs": [
        {
          "output_type": "stream",
          "name": "stdout",
          "text": [
            "Length of predictions: 20, Shape: torch.Size([20, 1])\n",
            "Length of test samples: 20, Shape: torch.Size([20, 2])\n",
            "\n",
            "First 10 predictions:\n",
            "tensor([[-0.],\n",
            "        [-0.],\n",
            "        [0.],\n",
            "        [0.],\n",
            "        [-0.],\n",
            "        [1.],\n",
            "        [0.],\n",
            "        [1.],\n",
            "        [0.],\n",
            "        [-0.]])\n",
            "\n",
            "First 10 labels:\n",
            "tensor([0., 0., 1., 0., 0., 0., 0., 1., 0., 1.])\n"
          ]
        }
      ]
    },
    {
      "cell_type": "code",
      "source": [
        "X_test[:10], y_test[:10]"
      ],
      "metadata": {
        "colab": {
          "base_uri": "https://localhost:8080/"
        },
        "id": "FPgPqTFilvxs",
        "outputId": "912a3a25-5dc8-4194-c786-60128391682e"
      },
      "execution_count": 24,
      "outputs": [
        {
          "output_type": "execute_result",
          "data": {
            "text/plain": [
              "(tensor([[-0.8566, -0.5248],\n",
              "         [ 0.0873, -0.9839],\n",
              "         [-0.7014, -0.3797],\n",
              "         [-0.7333,  0.7031],\n",
              "         [-0.9902, -0.2568],\n",
              "         [-0.4104,  0.9211],\n",
              "         [-0.9666, -0.1647],\n",
              "         [-0.0810,  0.7629],\n",
              "         [-0.6419,  0.7415],\n",
              "         [-0.4096, -0.7027]]),\n",
              " tensor([0., 0., 1., 0., 0., 0., 0., 1., 0., 1.]))"
            ]
          },
          "metadata": {},
          "execution_count": 24
        }
      ]
    },
    {
      "cell_type": "markdown",
      "source": [
        "### 2.1 Setup loss function and optimizer\n",
        "\n",
        "Which loss function or optimizer should you use?\n",
        "\n",
        "Again... this is problem specific.\n",
        "For example for regression you might want MAE or MSE (mean absolute error or mean squared error).\n",
        "\n",
        "For classification you want binary cross entropy or cross entropy\n",
        "As a remider, the loss function measures how *wrong* your models predictions\n",
        "\n",
        "And for optimizer, two of the most common"
      ],
      "metadata": {
        "id": "CwJnC-yCn20v"
      }
    },
    {
      "cell_type": "code",
      "source": [
        "# Setup the loss function\n",
        "#loss_fn = nn.BCELoss() # BCELoss\n",
        "\n",
        "loss_fn = nn.BCEWithLogitsLoss() #BCEWithLoss = sigmoid activation\n",
        "optimizer = torch.optim.SGD(params=model_0.parameters(),lr = 0.1)"
      ],
      "metadata": {
        "id": "PWaAptOjn14J"
      },
      "execution_count": 25,
      "outputs": []
    },
    {
      "cell_type": "code",
      "source": [
        "# Calculate accuracy - out of 100 examples, what percentage does our model get right?\n",
        "def accuracy_fn(y_true, y_pred):\n",
        "  correct = torch.eq(y_true, y_pred).sum().item() # torch.eq() calculates where two tensors are equal\n",
        "  acc = (correct / len(y_pred)) * 100\n",
        "  return acc"
      ],
      "metadata": {
        "id": "rEyUkUxRvg7G"
      },
      "execution_count": 26,
      "outputs": []
    },
    {
      "cell_type": "markdown",
      "source": [
        "## 3.Train model\n",
        "\n",
        "To train our model"
      ],
      "metadata": {
        "id": "NMVBf29PwchU"
      }
    },
    {
      "cell_type": "markdown",
      "source": [
        "### 3.1 Going from raw logits -> prediction probabilities -> prediction labels\n",
        "\n",
        "Our model outputs are going to be raw **logits**.\n",
        "We can convert these **logits** into prediction probabilities by passing them to some kind of activation function (e.g. sigmoid for binary crossentropy and softmax for multiclass classification).\n",
        "Then we can convert our model's predicton probalities to prediction labels by either rouding them or taking them"
      ],
      "metadata": {
        "id": "k_qdfCU-LMR4"
      }
    },
    {
      "cell_type": "code",
      "source": [
        "# View the first 5 outputs of the forward pass on the test data\n",
        "model_0.eval()\n",
        "with torch.inference_mode():\n",
        "  y_logits = model_0(X_test.to(device))[:5]\n",
        "y_logits"
      ],
      "metadata": {
        "id": "Rk1N5WwDwSxZ",
        "colab": {
          "base_uri": "https://localhost:8080/"
        },
        "outputId": "ff1a82e8-51a4-4698-846e-67c2b6df34be"
      },
      "execution_count": 27,
      "outputs": [
        {
          "output_type": "execute_result",
          "data": {
            "text/plain": [
              "tensor([[-0.0736],\n",
              "        [-0.0554],\n",
              "        [ 0.0070],\n",
              "        [ 0.3822],\n",
              "        [-0.0047]])"
            ]
          },
          "metadata": {},
          "execution_count": 27
        }
      ]
    },
    {
      "cell_type": "code",
      "source": [
        "# Use the sigmoid activation function on our model logits tp turn them into predictions probabilities\n",
        "y_pred_probs = torch.sigmoid(y_logits)\n",
        "y_pred_probs"
      ],
      "metadata": {
        "colab": {
          "base_uri": "https://localhost:8080/"
        },
        "id": "SDsIMv4ib2Ug",
        "outputId": "d7ae05ad-a6c8-4dbe-d664-6746d37a4cb9"
      },
      "execution_count": 28,
      "outputs": [
        {
          "output_type": "execute_result",
          "data": {
            "text/plain": [
              "tensor([[0.4816],\n",
              "        [0.4861],\n",
              "        [0.5018],\n",
              "        [0.5944],\n",
              "        [0.4988]])"
            ]
          },
          "metadata": {},
          "execution_count": 28
        }
      ]
    },
    {
      "cell_type": "code",
      "source": [
        "torch.round(y_pred_probs)"
      ],
      "metadata": {
        "colab": {
          "base_uri": "https://localhost:8080/"
        },
        "id": "mgxG2hGQcNJA",
        "outputId": "27ae5527-6477-40bf-df98-aeb13089e335"
      },
      "execution_count": 29,
      "outputs": [
        {
          "output_type": "execute_result",
          "data": {
            "text/plain": [
              "tensor([[0.],\n",
              "        [0.],\n",
              "        [1.],\n",
              "        [1.],\n",
              "        [0.]])"
            ]
          },
          "metadata": {},
          "execution_count": 29
        }
      ]
    },
    {
      "cell_type": "markdown",
      "source": [
        "For our prediction probability values, we need to perform a range-style rounding on them:\n",
        "* 'y_pred_prons' >= 0.5, 'y=1' (class 1)\n",
        "* 'y_pred_probs' < 0.5 , 'y=0' (class 0)"
      ],
      "metadata": {
        "id": "-V-HMoKgfSv0"
      }
    },
    {
      "cell_type": "code",
      "source": [
        "# Find the predicted labels\n",
        "y_preds = torch.round(y_pred_probs)\n",
        "y_preds\n",
        "# In full\n",
        "y_preds = torch.round(torch.sigmoid(model_0(X_test.to(device))))\n",
        "y_preds\n",
        "# Checl for equlity\n",
        "print(torch.eq(y_preds, y_test))\n",
        "# Get rid of extra dimension\n",
        "y_preds.squeeze()"
      ],
      "metadata": {
        "colab": {
          "base_uri": "https://localhost:8080/"
        },
        "id": "PrXSmrJff3Bo",
        "outputId": "4db4727b-405e-477b-8e79-95a29ab22d43"
      },
      "execution_count": 30,
      "outputs": [
        {
          "output_type": "stream",
          "name": "stdout",
          "text": [
            "tensor([[ True,  True, False,  True,  True,  True,  True, False,  True, False,\n",
            "          True,  True,  True,  True, False,  True, False,  True, False,  True],\n",
            "        [ True,  True, False,  True,  True,  True,  True, False,  True, False,\n",
            "          True,  True,  True,  True, False,  True, False,  True, False,  True],\n",
            "        [False, False,  True, False, False, False, False,  True, False,  True,\n",
            "         False, False, False, False,  True, False,  True, False,  True, False],\n",
            "        [False, False,  True, False, False, False, False,  True, False,  True,\n",
            "         False, False, False, False,  True, False,  True, False,  True, False],\n",
            "        [ True,  True, False,  True,  True,  True,  True, False,  True, False,\n",
            "          True,  True,  True,  True, False,  True, False,  True, False,  True],\n",
            "        [False, False,  True, False, False, False, False,  True, False,  True,\n",
            "         False, False, False, False,  True, False,  True, False,  True, False],\n",
            "        [False, False,  True, False, False, False, False,  True, False,  True,\n",
            "         False, False, False, False,  True, False,  True, False,  True, False],\n",
            "        [False, False,  True, False, False, False, False,  True, False,  True,\n",
            "         False, False, False, False,  True, False,  True, False,  True, False],\n",
            "        [False, False,  True, False, False, False, False,  True, False,  True,\n",
            "         False, False, False, False,  True, False,  True, False,  True, False],\n",
            "        [ True,  True, False,  True,  True,  True,  True, False,  True, False,\n",
            "          True,  True,  True,  True, False,  True, False,  True, False,  True],\n",
            "        [False, False,  True, False, False, False, False,  True, False,  True,\n",
            "         False, False, False, False,  True, False,  True, False,  True, False],\n",
            "        [False, False,  True, False, False, False, False,  True, False,  True,\n",
            "         False, False, False, False,  True, False,  True, False,  True, False],\n",
            "        [False, False,  True, False, False, False, False,  True, False,  True,\n",
            "         False, False, False, False,  True, False,  True, False,  True, False],\n",
            "        [ True,  True, False,  True,  True,  True,  True, False,  True, False,\n",
            "          True,  True,  True,  True, False,  True, False,  True, False,  True],\n",
            "        [False, False,  True, False, False, False, False,  True, False,  True,\n",
            "         False, False, False, False,  True, False,  True, False,  True, False],\n",
            "        [False, False,  True, False, False, False, False,  True, False,  True,\n",
            "         False, False, False, False,  True, False,  True, False,  True, False],\n",
            "        [False, False,  True, False, False, False, False,  True, False,  True,\n",
            "         False, False, False, False,  True, False,  True, False,  True, False],\n",
            "        [ True,  True, False,  True,  True,  True,  True, False,  True, False,\n",
            "          True,  True,  True,  True, False,  True, False,  True, False,  True],\n",
            "        [False, False,  True, False, False, False, False,  True, False,  True,\n",
            "         False, False, False, False,  True, False,  True, False,  True, False],\n",
            "        [False, False,  True, False, False, False, False,  True, False,  True,\n",
            "         False, False, False, False,  True, False,  True, False,  True, False]])\n"
          ]
        },
        {
          "output_type": "execute_result",
          "data": {
            "text/plain": [
              "tensor([0., 0., 1., 1., 0., 1., 1., 1., 1., 0., 1., 1., 1., 0., 1., 1., 1., 0.,\n",
              "        1., 1.], grad_fn=<SqueezeBackward0>)"
            ]
          },
          "metadata": {},
          "execution_count": 30
        }
      ]
    },
    {
      "cell_type": "markdown",
      "source": [
        "# 3.2 Building a testing loop"
      ],
      "metadata": {
        "id": "Ff2dVvY-fRt9"
      }
    },
    {
      "cell_type": "code",
      "source": [
        "device"
      ],
      "metadata": {
        "colab": {
          "base_uri": "https://localhost:8080/",
          "height": 36
        },
        "id": "7-48Wp_XgFHD",
        "outputId": "4f245273-a302-4490-f961-162034bd0e02"
      },
      "execution_count": 31,
      "outputs": [
        {
          "output_type": "execute_result",
          "data": {
            "text/plain": [
              "'cpu'"
            ],
            "application/vnd.google.colaboratory.intrinsic+json": {
              "type": "string"
            }
          },
          "metadata": {},
          "execution_count": 31
        }
      ]
    },
    {
      "cell_type": "code",
      "source": [
        "!nvidia-sml"
      ],
      "metadata": {
        "colab": {
          "base_uri": "https://localhost:8080/"
        },
        "id": "YdzmAy2fhmdB",
        "outputId": "fc0ca43e-d73c-4f3b-8d40-5a3457e4778c"
      },
      "execution_count": 32,
      "outputs": [
        {
          "output_type": "stream",
          "name": "stdout",
          "text": [
            "/bin/bash: line 1: nvidia-sml: command not found\n"
          ]
        }
      ]
    },
    {
      "cell_type": "code",
      "source": [
        "torch.manual_seed(42)\n",
        "torch.cuda.manual_seed(42)\n",
        "\n",
        "# Set the number of epochs\n",
        "epochs = 100\n",
        "\n",
        "# Put data to target device\n",
        "X_train, y_train = X_train.to(device), y_train.to(device)\n",
        "X_test, y_test = X_test.to(device), y_test.to(device)\n",
        "\n",
        "# Build training and evaluation loop\n",
        "for epoch in range(epochs):\n",
        "  ### Training\n",
        "  model_0.train()\n",
        "\n",
        "  # 1.Forward pass\n",
        "  y_logits = model_0(X_train).squeeze()\n",
        "  y_pred = torch.round(torch.sigmoid(y_logits))\n",
        "\n",
        "  # 2.Calculate loss/accuracy\n",
        "  loss = loss_fn(y_logits, y_train)\n",
        "  acc = accuracy_fn(y_true = y_train, y_pred = y_pred)\n",
        "\n",
        "  # 3.Optimize the model\n",
        "  optimizer.zero_grad()\n",
        "\n",
        "  # 4. Loss backward (backpropagation)\n",
        "  loss.backward()\n",
        "\n",
        "  # 5. Optimizer step (gradient descent)\n",
        "  optimizer.step()\n",
        "\n",
        "  ### Testing\n",
        "  model_0.eval\n",
        "  with torch.inference_mode():\n",
        "    # 1.Forward pass\n",
        "    test_logits = model_0(X_test).squeeze()\n",
        "    test_pred = torch.round(torch.sigmoid(test_logits))\n",
        "\n",
        "    # 2.Calculate loss/accuracy\n",
        "    test_loss = loss_fn(test_logits,\n",
        "                        y_test)\n",
        "    test_acc = accuracy_fn(y_true=y_test,\n",
        "                           y_pred=test_pred)\n",
        "\n",
        "  # Print out what's happenin'\n",
        "  if epoch % 10 == 0:\n",
        "    print(f\"Epoch: {epoch} | Loss: {loss:.5f}, Acc: {acc:.2f}% | Test loss: {test_loss:.5f}, Test acc: {test_acc:.2f}%\")\n"
      ],
      "metadata": {
        "id": "wYTXjJHNhrt7",
        "colab": {
          "base_uri": "https://localhost:8080/"
        },
        "outputId": "7c565d9d-48b0-471f-b499-8ff7127ae646"
      },
      "execution_count": 33,
      "outputs": [
        {
          "output_type": "stream",
          "name": "stdout",
          "text": [
            "Epoch: 0 | Loss: 0.69620, Acc: 57.50% | Test loss: 0.76334, Test acc: 50.00%\n",
            "Epoch: 10 | Loss: 0.69395, Acc: 56.25% | Test loss: 0.74933, Test acc: 45.00%\n",
            "Epoch: 20 | Loss: 0.69295, Acc: 57.50% | Test loss: 0.74271, Test acc: 45.00%\n",
            "Epoch: 30 | Loss: 0.69231, Acc: 57.50% | Test loss: 0.73951, Test acc: 45.00%\n",
            "Epoch: 40 | Loss: 0.69182, Acc: 57.50% | Test loss: 0.73796, Test acc: 45.00%\n",
            "Epoch: 50 | Loss: 0.69140, Acc: 56.25% | Test loss: 0.73724, Test acc: 45.00%\n",
            "Epoch: 60 | Loss: 0.69104, Acc: 56.25% | Test loss: 0.73695, Test acc: 40.00%\n",
            "Epoch: 70 | Loss: 0.69073, Acc: 56.25% | Test loss: 0.73687, Test acc: 40.00%\n",
            "Epoch: 80 | Loss: 0.69046, Acc: 57.50% | Test loss: 0.73691, Test acc: 40.00%\n",
            "Epoch: 90 | Loss: 0.69021, Acc: 60.00% | Test loss: 0.73702, Test acc: 40.00%\n"
          ]
        }
      ]
    },
    {
      "cell_type": "code",
      "source": [
        "circles.label.value_counts()"
      ],
      "metadata": {
        "colab": {
          "base_uri": "https://localhost:8080/",
          "height": 178
        },
        "id": "xrZGf_z2TmtT",
        "outputId": "5670223c-ac7a-4402-9c76-00584e869440"
      },
      "execution_count": 34,
      "outputs": [
        {
          "output_type": "execute_result",
          "data": {
            "text/plain": [
              "label\n",
              "1    50\n",
              "0    50\n",
              "Name: count, dtype: int64"
            ],
            "text/html": [
              "<div>\n",
              "<style scoped>\n",
              "    .dataframe tbody tr th:only-of-type {\n",
              "        vertical-align: middle;\n",
              "    }\n",
              "\n",
              "    .dataframe tbody tr th {\n",
              "        vertical-align: top;\n",
              "    }\n",
              "\n",
              "    .dataframe thead th {\n",
              "        text-align: right;\n",
              "    }\n",
              "</style>\n",
              "<table border=\"1\" class=\"dataframe\">\n",
              "  <thead>\n",
              "    <tr style=\"text-align: right;\">\n",
              "      <th></th>\n",
              "      <th>count</th>\n",
              "    </tr>\n",
              "    <tr>\n",
              "      <th>label</th>\n",
              "      <th></th>\n",
              "    </tr>\n",
              "  </thead>\n",
              "  <tbody>\n",
              "    <tr>\n",
              "      <th>1</th>\n",
              "      <td>50</td>\n",
              "    </tr>\n",
              "    <tr>\n",
              "      <th>0</th>\n",
              "      <td>50</td>\n",
              "    </tr>\n",
              "  </tbody>\n",
              "</table>\n",
              "</div><br><label><b>dtype:</b> int64</label>"
            ]
          },
          "metadata": {},
          "execution_count": 34
        }
      ]
    },
    {
      "cell_type": "markdown",
      "source": [
        "## 4. Make predictions and evaluate the model\n",
        "From the matrics it look our model isn't learning anything...\n",
        "\n",
        "So to inspect it let's make some predictions and make them visual!\n",
        "In other words, 'Visualize, visualize, visualize!'\n",
        "To do so, we're going to import a function called *plot_decision_boundary()* -\n"
      ],
      "metadata": {
        "id": "bDHhdAQXe_gv"
      }
    },
    {
      "cell_type": "code",
      "source": [
        "import requests\n",
        "from pathlib import Path\n",
        "\n",
        "# Download helper functions from Learn PyTorch repo (if it's not already downloaded)\n",
        "if Path(\"helper_functions.py\").is_file():\n",
        "  print(\"helper_functions.py already exists, skipping download\")\n",
        "else:\n",
        "  print(\"Downloading helper_functions.py\")\n",
        "  request = requests.get(\"https://raw.githubusercontent.com/mrdbourke/pytorch-deep-learning/main/helper_functions.py\")\n",
        "  with open(\"helper_functions.py\", \"wb\") as f:\n",
        "    f.write(request.content)\n",
        "\n",
        "from helper_functions import plot_predictions, plot_decision_boundary"
      ],
      "metadata": {
        "colab": {
          "base_uri": "https://localhost:8080/"
        },
        "id": "S038OLrRi4hO",
        "outputId": "69e8237e-45c0-4e51-b24d-a307df8475c5"
      },
      "execution_count": 35,
      "outputs": [
        {
          "output_type": "stream",
          "name": "stdout",
          "text": [
            "Downloading helper_functions.py\n"
          ]
        }
      ]
    },
    {
      "cell_type": "code",
      "source": [
        "# Plot decision boundary of the model\n",
        "plt.figure(figsize=(12, 6))\n",
        "plt.subplot(1, 2, 1)\n",
        "plt.title(\"Train\")\n",
        "plot_decision_boundary(model_0, X_train, y_train)\n",
        "plt.subplot(1, 2, 2)\n",
        "plt.title(\"Test\")\n",
        "plot_decision_boundary(model_0, X_test, y_test)"
      ],
      "metadata": {
        "colab": {
          "base_uri": "https://localhost:8080/",
          "height": 360
        },
        "id": "cuvEBz4YgSdD",
        "outputId": "d8f9c1d9-8161-4f6f-fcf3-e76a78c2c58c"
      },
      "execution_count": 36,
      "outputs": [
        {
          "output_type": "display_data",
          "data": {
            "text/plain": [
              "<Figure size 1200x600 with 2 Axes>"
            ],
            "image/png": "[encoded data removed]"
          },
          "metadata": {}
        }
      ]
    },
    {
      "cell_type": "code",
      "source": [],
      "metadata": {
        "id": "rmyhfsBE1ulC"
      },
      "execution_count": null,
      "outputs": []
    },
    {
      "cell_type": "markdown",
      "source": [
        "## 5. Improving a model (from a model perspective)\n",
        "* Add more layers - give the model more chances to learn about patterns in data\n",
        "* Add more hidden units - go from 5 hidden units to 10 hidden units\n",
        "* Fit for layer\n",
        "* Changing the activation functions\n",
        "* Change the learning rate\n",
        "* Change the loss function\n",
        "\n",
        "These option are all from a model's perspective because they deal directly with the model, rather than the data.\n",
        "\n",
        "And because these options are all values we (as machine learning engineers and data scientists) can change, they are referred as **hyperparameter**.\n",
        "\n",
        "Let's try and improve our model by:\n",
        "* Adding more hidden units: 5 -> 10\n",
        "* Increase the number of layers: 2 -> 3\n",
        "* Increase the number of epochs: 100 -> 1000"
      ],
      "metadata": {
        "id": "WhcNFR1N1wSi"
      }
    },
    {
      "cell_type": "code",
      "source": [
        "model_0.state_dict()"
      ],
      "metadata": {
        "colab": {
          "base_uri": "https://localhost:8080/"
        },
        "id": "wDSqhOQ62TXU",
        "outputId": "70e129a9-c33e-4463-cb26-ee15f6f588f8"
      },
      "execution_count": 37,
      "outputs": [
        {
          "output_type": "execute_result",
          "data": {
            "text/plain": [
              "OrderedDict([('0.weight',\n",
              "              tensor([[ 0.2490,  0.1353],\n",
              "                      [-0.5249,  0.3033],\n",
              "                      [ 0.0616,  0.2045],\n",
              "                      [ 0.1506,  0.2744],\n",
              "                      [ 0.6161, -0.5556]])),\n",
              "             ('0.bias', tensor([ 0.6913, -0.6363,  0.1444,  0.5404, -0.0720])),\n",
              "             ('1.weight',\n",
              "              tensor([[ 0.1394, -0.3114,  0.2394,  0.2873, -0.2900]])),\n",
              "             ('1.bias', tensor([-0.3283]))])"
            ]
          },
          "metadata": {},
          "execution_count": 37
        }
      ]
    },
    {
      "cell_type": "code",
      "source": [
        "class CircleModelV1(nn.Module):\n",
        "  def __init__(self):\n",
        "    super().__init__()\n",
        "    self.layer_1 = nn.Linear(in_features=2, out_features=10)\n",
        "    self.layer_2 = nn.Linear(in_features=10, out_features=10)\n",
        "    self.layer_3 = nn.Linear(in_features=10, out_features=1)\n",
        "\n",
        "  def foward(self, x):\n",
        "    # z = self.layer_1(x)\n",
        "    # z = self.layer_2(z)\n",
        "    # z = self.layer_3(z)\n",
        "    # return z\n",
        "    return self.layer_3(self.layer_2(self,layer_1(x)))  # this way of writing operations leverages speed ups where possible behind the scenes\n",
        "\n",
        "model_1 = CircleModelV1().to(device)\n",
        "model_1\n"
      ],
      "metadata": {
        "colab": {
          "base_uri": "https://localhost:8080/"
        },
        "id": "sT9n6mTq6USV",
        "outputId": "ca94e5a3-f7bd-457f-fabd-ef28aa77c366"
      },
      "execution_count": 55,
      "outputs": [
        {
          "output_type": "execute_result",
          "data": {
            "text/plain": [
              "CircleModelV1(\n",
              "  (layer_1): Linear(in_features=2, out_features=10, bias=True)\n",
              "  (layer_2): Linear(in_features=10, out_features=10, bias=True)\n",
              "  (layer_3): Linear(in_features=10, out_features=1, bias=True)\n",
              ")"
            ]
          },
          "metadata": {},
          "execution_count": 55
        }
      ]
    },
    {
      "cell_type": "code",
      "source": [
        "X_train[:5], y_train[:5]\n"
      ],
      "metadata": {
        "colab": {
          "base_uri": "https://localhost:8080/"
        },
        "id": "XZeNpaOT7Y68",
        "outputId": "a8dbe2b1-35c6-4eb2-bcdf-fac47318fe1d"
      },
      "execution_count": 44,
      "outputs": [
        {
          "output_type": "execute_result",
          "data": {
            "text/plain": [
              "(tensor([[-0.7182, -0.2408],\n",
              "         [-0.9960,  0.2350],\n",
              "         [ 0.2890, -0.9665],\n",
              "         [ 0.6045,  0.7500],\n",
              "         [ 0.8273, -0.2954]]),\n",
              " tensor([1., 0., 0., 0., 1.]))"
            ]
          },
          "metadata": {},
          "execution_count": 44
        }
      ]
    },
    {
      "cell_type": "code",
      "source": [
        "model_0.state_dict()"
      ],
      "metadata": {
        "colab": {
          "base_uri": "https://localhost:8080/"
        },
        "id": "7dXzAj7L80-g",
        "outputId": "acb103ad-8770-4db2-aabc-ecacbb7bda63"
      },
      "execution_count": 45,
      "outputs": [
        {
          "output_type": "execute_result",
          "data": {
            "text/plain": [
              "OrderedDict([('0.weight',\n",
              "              tensor([[ 0.2490,  0.1353],\n",
              "                      [-0.5249,  0.3033],\n",
              "                      [ 0.0616,  0.2045],\n",
              "                      [ 0.1506,  0.2744],\n",
              "                      [ 0.6161, -0.5556]])),\n",
              "             ('0.bias', tensor([ 0.6913, -0.6363,  0.1444,  0.5404, -0.0720])),\n",
              "             ('1.weight',\n",
              "              tensor([[ 0.1394, -0.3114,  0.2394,  0.2873, -0.2900]])),\n",
              "             ('1.bias', tensor([-0.3283]))])"
            ]
          },
          "metadata": {},
          "execution_count": 45
        }
      ]
    },
    {
      "cell_type": "code",
      "source": [
        "model_1.state_dict()"
      ],
      "metadata": {
        "colab": {
          "base_uri": "https://localhost:8080/"
        },
        "id": "k3EKI0xUCBKi",
        "outputId": "6084adff-99f8-4aab-c763-26cf7e925eeb"
      },
      "execution_count": 56,
      "outputs": [
        {
          "output_type": "execute_result",
          "data": {
            "text/plain": [
              "OrderedDict([('layer_1.weight',\n",
              "              tensor([[-0.2435, -0.3386],\n",
              "                      [-0.5755,  0.5929],\n",
              "                      [-0.2830,  0.1874],\n",
              "                      [-0.2453,  0.0575],\n",
              "                      [ 0.6592,  0.3258],\n",
              "                      [-0.6128,  0.2807],\n",
              "                      [ 0.6712,  0.1860],\n",
              "                      [ 0.4741,  0.6971],\n",
              "                      [-0.1083,  0.1468],\n",
              "                      [-0.4915, -0.1457]])),\n",
              "             ('layer_1.bias',\n",
              "              tensor([ 0.5237,  0.3625, -0.4474, -0.5670, -0.4832, -0.6978, -0.5456, -0.1749,\n",
              "                       0.4772,  0.1184])),\n",
              "             ('layer_2.weight',\n",
              "              tensor([[-0.2405, -0.2537,  0.1573, -0.2352, -0.0389,  0.1517, -0.1464, -0.0345,\n",
              "                       -0.0275, -0.0748],\n",
              "                      [-0.1603, -0.2819, -0.2556, -0.1693,  0.3054, -0.1527, -0.2124,  0.0767,\n",
              "                        0.0872,  0.1733],\n",
              "                      [ 0.2404,  0.1761, -0.3135,  0.0280,  0.1916, -0.0292, -0.1863,  0.3015,\n",
              "                       -0.1183, -0.1800],\n",
              "                      [-0.2851,  0.0141,  0.1401,  0.0700,  0.0625, -0.2398, -0.2953,  0.0056,\n",
              "                        0.2883,  0.1824],\n",
              "                      [-0.1841, -0.0410, -0.2331, -0.1526,  0.0573,  0.1722,  0.2620, -0.2903,\n",
              "                        0.2114, -0.2230],\n",
              "                      [ 0.1184,  0.2676,  0.0044,  0.2877, -0.2694, -0.1208,  0.1844, -0.0689,\n",
              "                       -0.0647, -0.1318],\n",
              "                      [ 0.2180,  0.1551,  0.1013, -0.1777, -0.2567,  0.0342,  0.0937, -0.1460,\n",
              "                       -0.0885,  0.2136],\n",
              "                      [ 0.0252,  0.0143, -0.0778, -0.2864, -0.2973, -0.1512, -0.1607,  0.0985,\n",
              "                       -0.0921, -0.1237],\n",
              "                      [ 0.3015,  0.1101,  0.2254, -0.1531, -0.1292,  0.1162, -0.2107, -0.2067,\n",
              "                       -0.0153, -0.1157],\n",
              "                      [-0.2371,  0.1876,  0.2543,  0.0513, -0.0551, -0.2929, -0.1152,  0.0805,\n",
              "                        0.1491, -0.0400]])),\n",
              "             ('layer_2.bias',\n",
              "              tensor([-0.1250,  0.1762, -0.2518,  0.1999, -0.1227,  0.0048, -0.0625,  0.0383,\n",
              "                      -0.0956,  0.2299])),\n",
              "             ('layer_3.weight',\n",
              "              tensor([[-0.0082,  0.2468,  0.3040, -0.1541, -0.2307,  0.2537,  0.2478, -0.2415,\n",
              "                       -0.0244, -0.3118]])),\n",
              "             ('layer_3.bias', tensor([-0.2589]))])"
            ]
          },
          "metadata": {},
          "execution_count": 56
        }
      ]
    },
    {
      "cell_type": "code",
      "source": [
        "# Create a loss function\n",
        "loss_fn = nn.BCEWithLogitsLoss()\n",
        "\n",
        "# Create an optimizer\n",
        "optimizer = torch.optim.SGD(params=model_1.parameters(), lr=0.1)"
      ],
      "metadata": {
        "id": "Hm2qwqoaEEv1"
      },
      "execution_count": null,
      "outputs": []
    },
    {
      "cell_type": "code",
      "source": [
        "# Write a training and evaluation loop for model_1\n",
        "torch.manual_seed(42)\n",
        "torch.cuda.manual_seed(42)\n",
        "\n",
        "# Train for longer\n",
        "epochs = 1000\n",
        "\n",
        "# Put data on the target device\n",
        "X_train, y_train = X_train.to(device), y_train.to(device)\n",
        "X_test, y_test = X_test.to(device), y_test.to(device)\n",
        "\n",
        "for epoch in range(epochs):\n",
        "  ### Training\n",
        "  model_1.train()\n",
        "  # 1. Forward pass\n",
        "  y_logits = model_1(X_train).squeeze()\n",
        "  y_pred = torch.round(torch.sigmoid(y_logits)) # Logits -> pred probabilities -> predict\n",
        "\n",
        "  # 2.Calculate the loss/acc\n",
        "  loss = loss_fn(y_logits,\n",
        "                 y_train)\n",
        "  acc = accuracy_fn(y_true= y_train,\n",
        "                    y_pred=y_pred)\n",
        "\n",
        "  # 3. Optimizer zero grad\n",
        "  optimizer.zero_grad()\n",
        "\n",
        "  # 4. Loss backward\n",
        "  loss.backward()\n",
        "\n",
        "  # 5. Optimizer step (gradient descent)\n",
        "  optimizer.step()\n",
        "\n",
        "  ### Testing\n",
        "  model_1.eval()\n",
        "  with torch.inference_mode():\n",
        "    # 1. Forward pass\n",
        "    test_logits = model_1(X_test).squeeze()\n",
        "    test_pred = torch.round(torch.sigmoid(test_logits))\n",
        ""
      ],
      "metadata": {
        "id": "4eb7ToyPETKx"
      },
      "execution_count": null,
      "outputs": []
    },
    {
      "cell_type": "code",
      "source": [],
      "metadata": {
        "id": "76cgqB_MEs6B"
      },
      "execution_count": null,
      "outputs": []
    },
    {
      "cell_type": "markdown",
      "source": [],
      "metadata": {
        "id": "-x4dGBnR8y8A"
      }
    }
  ]
}