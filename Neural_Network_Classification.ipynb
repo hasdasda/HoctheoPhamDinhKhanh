{
  "nbformat": 4,
  "nbformat_minor": 0,
  "metadata": {
    "colab": {
      "provenance": [],
      "authorship_tag": "ABX9TyPXFMzZ1XU/LUuwqPknQ65U"
    },
    "kernelspec": {
      "name": "python3",
      "display_name": "Python 3"
    },
    "language_info": {
      "name": "python"
    }
  },
  "cells": [
    {
      "cell_type": "markdown",
      "source": [
        "# 02.Neural Network classificatuon with PyTorch\n",
        "Classification is a problem of predicting whether something is one thing or another (there can be m)"
      ],
      "metadata": {
        "id": "vj0GbYcuvUMy"
      }
    },
    {
      "cell_type": "code",
      "source": [],
      "metadata": {
        "id": "oNEBMjU7vXUJ"
      },
      "execution_count": null,
      "outputs": []
    },
    {
      "cell_type": "code",
      "source": [
        "import sklearn"
      ],
      "metadata": {
        "id": "4aYXBWlDvSJD"
      },
      "execution_count": null,
      "outputs": []
    },
    {
      "cell_type": "code",
      "source": [
        "from sklearn.datasets import make_circles\n",
        "\n",
        "# Nake 1000 samples"
      ],
      "metadata": {
        "id": "cIzxuVvwvavi"
      },
      "execution_count": null,
      "outputs": []
    }
  ]
}