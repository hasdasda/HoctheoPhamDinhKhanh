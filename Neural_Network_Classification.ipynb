{
  "nbformat": 4,
  "nbformat_minor": 0,
  "metadata": {
    "colab": {
      "provenance": [],
      "authorship_tag": "ABX9TyOVrtH2XaqzrbF64F+5j78C",
      "include_colab_link": true
    },
    "kernelspec": {
      "name": "python3",
      "display_name": "Python 3"
    },
    "language_info": {
      "name": "python"
    }
  },
  "cells": [
    {
      "cell_type": "markdown",
      "metadata": {
        "id": "view-in-github",
        "colab_type": "text"
      },
      "source": [
        "<a href=\"https://colab.research.google.com/github/hasdasda/HoctheoPhamDinhKhanh/blob/main/Neural_Network_Classification.ipynb\" target=\"_parent\"><img src=\"https://colab.research.google.com/assets/colab-badge.svg\" alt=\"Open In Colab\"/></a>"
      ]
    },
    {
      "cell_type": "markdown",
      "source": [
        "# 02.Neural Network classificatuon with PyTorch\n",
        "Classification is a problem of predicting whether something is one thing or another (there can be m)"
      ],
      "metadata": {
        "id": "vj0GbYcuvUMy"
      }
    },
    {
      "cell_type": "code",
      "source": [
        "import sklearn"
      ],
      "metadata": {
        "id": "4aYXBWlDvSJD"
      },
      "execution_count": 1,
      "outputs": []
    },
    {
      "cell_type": "code",
      "source": [
        "from sklearn.datasets import make_circles\n",
        "\n",
        "# Nake 1000 samples\n",
        "n_samples = 100\n",
        "\n",
        "# Create circles\n",
        "X, y = make_circles(n_samples,\n",
        "                    noise=0.03,\n",
        "                    random_state=42)"
      ],
      "metadata": {
        "id": "cIzxuVvwvavi"
      },
      "execution_count": 2,
      "outputs": []
    },
    {
      "cell_type": "code",
      "source": [
        "len(X), len(y)"
      ],
      "metadata": {
        "colab": {
          "base_uri": "https://localhost:8080/"
        },
        "id": "VtITjcqAznvr",
        "outputId": "d63cfb6c-5a3b-4705-d260-ce9d3f912bbf"
      },
      "execution_count": 3,
      "outputs": [
        {
          "output_type": "execute_result",
          "data": {
            "text/plain": [
              "(100, 100)"
            ]
          },
          "metadata": {},
          "execution_count": 3
        }
      ]
    },
    {
      "cell_type": "code",
      "source": [
        "print(f\"First 5 samples of X: \\n{X[:5]}\")\n",
        "print(f\"First 5 samples of y: \\n{y[:5]}\")"
      ],
      "metadata": {
        "colab": {
          "base_uri": "https://localhost:8080/"
        },
        "id": "O_UrLh8Nzvma",
        "outputId": "c7150b6a-aba5-40f6-9588-2bab57643102"
      },
      "execution_count": 4,
      "outputs": [
        {
          "output_type": "stream",
          "name": "stdout",
          "text": [
            "First 5 samples of X: \n",
            "[[-0.40957228 -0.70266396]\n",
            " [ 0.75810247  0.33360948]\n",
            " [-0.64086599  0.48813954]\n",
            " [ 0.78212694 -0.59114489]\n",
            " [ 0.77303687 -0.71826406]]\n",
            "First 5 samples of y: \n",
            "[1 1 1 0 0]\n"
          ]
        }
      ]
    },
    {
      "cell_type": "code",
      "source": [
        "# Make DataFrame of circle data\n",
        "import pandas as pd\n",
        "circles = pd.DataFrame({\"X1\": X[:, 0],\n",
        "                        \"X2\": X[:, 1],\n",
        "                        \"label\": y})\n",
        "circles.head(10)"
      ],
      "metadata": {
        "colab": {
          "base_uri": "https://localhost:8080/",
          "height": 363
        },
        "id": "zzGhkkgX0NSF",
        "outputId": "4fccbb81-7980-4cbc-e6d0-830acf6ee16e"
      },
      "execution_count": 5,
      "outputs": [
        {
          "output_type": "execute_result",
          "data": {
            "text/plain": [
              "         X1        X2  label\n",
              "0 -0.409572 -0.702664      1\n",
              "1  0.758102  0.333609      1\n",
              "2 -0.640866  0.488140      1\n",
              "3  0.782127 -0.591145      0\n",
              "4  0.773037 -0.718264      0\n",
              "5  0.215881 -0.930492      0\n",
              "6 -0.916040  0.317596      0\n",
              "7 -0.637408 -0.472662      1\n",
              "8  0.323051  0.973140      0\n",
              "9  0.976609 -0.025317      0"
            ],
            "text/html": [
              "\n",
              "  <div id=\"df-41f2051e-c92f-4aa5-b952-0faad186a7a4\" class=\"colab-df-container\">\n",
              "    <div>\n",
              "<style scoped>\n",
              "    .dataframe tbody tr th:only-of-type {\n",
              "        vertical-align: middle;\n",
              "    }\n",
              "\n",
              "    .dataframe tbody tr th {\n",
              "        vertical-align: top;\n",
              "    }\n",
              "\n",
              "    .dataframe thead th {\n",
              "        text-align: right;\n",
              "    }\n",
              "</style>\n",
              "<table border=\"1\" class=\"dataframe\">\n",
              "  <thead>\n",
              "    <tr style=\"text-align: right;\">\n",
              "      <th></th>\n",
              "      <th>X1</th>\n",
              "      <th>X2</th>\n",
              "      <th>label</th>\n",
              "    </tr>\n",
              "  </thead>\n",
              "  <tbody>\n",
              "    <tr>\n",
              "      <th>0</th>\n",
              "      <td>-0.409572</td>\n",
              "      <td>-0.702664</td>\n",
              "      <td>1</td>\n",
              "    </tr>\n",
              "    <tr>\n",
              "      <th>1</th>\n",
              "      <td>0.758102</td>\n",
              "      <td>0.333609</td>\n",
              "      <td>1</td>\n",
              "    </tr>\n",
              "    <tr>\n",
              "      <th>2</th>\n",
              "      <td>-0.640866</td>\n",
              "      <td>0.488140</td>\n",
              "      <td>1</td>\n",
              "    </tr>\n",
              "    <tr>\n",
              "      <th>3</th>\n",
              "      <td>0.782127</td>\n",
              "      <td>-0.591145</td>\n",
              "      <td>0</td>\n",
              "    </tr>\n",
              "    <tr>\n",
              "      <th>4</th>\n",
              "      <td>0.773037</td>\n",
              "      <td>-0.718264</td>\n",
              "      <td>0</td>\n",
              "    </tr>\n",
              "    <tr>\n",
              "      <th>5</th>\n",
              "      <td>0.215881</td>\n",
              "      <td>-0.930492</td>\n",
              "      <td>0</td>\n",
              "    </tr>\n",
              "    <tr>\n",
              "      <th>6</th>\n",
              "      <td>-0.916040</td>\n",
              "      <td>0.317596</td>\n",
              "      <td>0</td>\n",
              "    </tr>\n",
              "    <tr>\n",
              "      <th>7</th>\n",
              "      <td>-0.637408</td>\n",
              "      <td>-0.472662</td>\n",
              "      <td>1</td>\n",
              "    </tr>\n",
              "    <tr>\n",
              "      <th>8</th>\n",
              "      <td>0.323051</td>\n",
              "      <td>0.973140</td>\n",
              "      <td>0</td>\n",
              "    </tr>\n",
              "    <tr>\n",
              "      <th>9</th>\n",
              "      <td>0.976609</td>\n",
              "      <td>-0.025317</td>\n",
              "      <td>0</td>\n",
              "    </tr>\n",
              "  </tbody>\n",
              "</table>\n",
              "</div>\n",
              "    <div class=\"colab-df-buttons\">\n",
              "\n",
              "  <div class=\"colab-df-container\">\n",
              "    <button class=\"colab-df-convert\" onclick=\"convertToInteractive('df-41f2051e-c92f-4aa5-b952-0faad186a7a4')\"\n",
              "            title=\"Convert this dataframe to an interactive table.\"\n",
              "            style=\"display:none;\">\n",
              "\n",
              "  <svg xmlns=\"http://www.w3.org/2000/svg\" height=\"24px\" viewBox=\"0 -960 960 960\">\n",
              "    <path d=\"M120-120v-720h720v720H120Zm60-500h600v-160H180v160Zm220 220h160v-160H400v160Zm0 220h160v-160H400v160ZM180-400h160v-160H180v160Zm440 0h160v-160H620v160ZM180-180h160v-160H180v160Zm440 0h160v-160H620v160Z\"/>\n",
              "  </svg>\n",
              "    </button>\n",
              "\n",
              "  <style>\n",
              "    .colab-df-container {\n",
              "      display:flex;\n",
              "      gap: 12px;\n",
              "    }\n",
              "\n",
              "    .colab-df-convert {\n",
              "      background-color: #E8F0FE;\n",
              "      border: none;\n",
              "      border-radius: 50%;\n",
              "      cursor: pointer;\n",
              "      display: none;\n",
              "      fill: #1967D2;\n",
              "      height: 32px;\n",
              "      padding: 0 0 0 0;\n",
              "      width: 32px;\n",
              "    }\n",
              "\n",
              "    .colab-df-convert:hover {\n",
              "      background-color: #E2EBFA;\n",
              "      box-shadow: 0px 1px 2px rgba(60, 64, 67, 0.3), 0px 1px 3px 1px rgba(60, 64, 67, 0.15);\n",
              "      fill: #174EA6;\n",
              "    }\n",
              "\n",
              "    .colab-df-buttons div {\n",
              "      margin-bottom: 4px;\n",
              "    }\n",
              "\n",
              "    [theme=dark] .colab-df-convert {\n",
              "      background-color: #3B4455;\n",
              "      fill: #D2E3FC;\n",
              "    }\n",
              "\n",
              "    [theme=dark] .colab-df-convert:hover {\n",
              "      background-color: #434B5C;\n",
              "      box-shadow: 0px 1px 3px 1px rgba(0, 0, 0, 0.15);\n",
              "      filter: drop-shadow(0px 1px 2px rgba(0, 0, 0, 0.3));\n",
              "      fill: #FFFFFF;\n",
              "    }\n",
              "  </style>\n",
              "\n",
              "    <script>\n",
              "      const buttonEl =\n",
              "        document.querySelector('#df-41f2051e-c92f-4aa5-b952-0faad186a7a4 button.colab-df-convert');\n",
              "      buttonEl.style.display =\n",
              "        google.colab.kernel.accessAllowed ? 'block' : 'none';\n",
              "\n",
              "      async function convertToInteractive(key) {\n",
              "        const element = document.querySelector('#df-41f2051e-c92f-4aa5-b952-0faad186a7a4');\n",
              "        const dataTable =\n",
              "          await google.colab.kernel.invokeFunction('convertToInteractive',\n",
              "                                                    [key], {});\n",
              "        if (!dataTable) return;\n",
              "\n",
              "        const docLinkHtml = 'Like what you see? Visit the ' +\n",
              "          '<a target=\"_blank\" href=https://colab.research.google.com/notebooks/data_table.ipynb>data table notebook</a>'\n",
              "          + ' to learn more about interactive tables.';\n",
              "        element.innerHTML = '';\n",
              "        dataTable['output_type'] = 'display_data';\n",
              "        await google.colab.output.renderOutput(dataTable, element);\n",
              "        const docLink = document.createElement('div');\n",
              "        docLink.innerHTML = docLinkHtml;\n",
              "        element.appendChild(docLink);\n",
              "      }\n",
              "    </script>\n",
              "  </div>\n",
              "\n",
              "\n",
              "<div id=\"df-8122b021-1ee1-4daa-88e9-1c9240d39409\">\n",
              "  <button class=\"colab-df-quickchart\" onclick=\"quickchart('df-8122b021-1ee1-4daa-88e9-1c9240d39409')\"\n",
              "            title=\"Suggest charts\"\n",
              "            style=\"display:none;\">\n",
              "\n",
              "<svg xmlns=\"http://www.w3.org/2000/svg\" height=\"24px\"viewBox=\"0 0 24 24\"\n",
              "     width=\"24px\">\n",
              "    <g>\n",
              "        <path d=\"M19 3H5c-1.1 0-2 .9-2 2v14c0 1.1.9 2 2 2h14c1.1 0 2-.9 2-2V5c0-1.1-.9-2-2-2zM9 17H7v-7h2v7zm4 0h-2V7h2v10zm4 0h-2v-4h2v4z\"/>\n",
              "    </g>\n",
              "</svg>\n",
              "  </button>\n",
              "\n",
              "<style>\n",
              "  .colab-df-quickchart {\n",
              "      --bg-color: #E8F0FE;\n",
              "      --fill-color: #1967D2;\n",
              "      --hover-bg-color: #E2EBFA;\n",
              "      --hover-fill-color: #174EA6;\n",
              "      --disabled-fill-color: #AAA;\n",
              "      --disabled-bg-color: #DDD;\n",
              "  }\n",
              "\n",
              "  [theme=dark] .colab-df-quickchart {\n",
              "      --bg-color: #3B4455;\n",
              "      --fill-color: #D2E3FC;\n",
              "      --hover-bg-color: #434B5C;\n",
              "      --hover-fill-color: #FFFFFF;\n",
              "      --disabled-bg-color: #3B4455;\n",
              "      --disabled-fill-color: #666;\n",
              "  }\n",
              "\n",
              "  .colab-df-quickchart {\n",
              "    background-color: var(--bg-color);\n",
              "    border: none;\n",
              "    border-radius: 50%;\n",
              "    cursor: pointer;\n",
              "    display: none;\n",
              "    fill: var(--fill-color);\n",
              "    height: 32px;\n",
              "    padding: 0;\n",
              "    width: 32px;\n",
              "  }\n",
              "\n",
              "  .colab-df-quickchart:hover {\n",
              "    background-color: var(--hover-bg-color);\n",
              "    box-shadow: 0 1px 2px rgba(60, 64, 67, 0.3), 0 1px 3px 1px rgba(60, 64, 67, 0.15);\n",
              "    fill: var(--button-hover-fill-color);\n",
              "  }\n",
              "\n",
              "  .colab-df-quickchart-complete:disabled,\n",
              "  .colab-df-quickchart-complete:disabled:hover {\n",
              "    background-color: var(--disabled-bg-color);\n",
              "    fill: var(--disabled-fill-color);\n",
              "    box-shadow: none;\n",
              "  }\n",
              "\n",
              "  .colab-df-spinner {\n",
              "    border: 2px solid var(--fill-color);\n",
              "    border-color: transparent;\n",
              "    border-bottom-color: var(--fill-color);\n",
              "    animation:\n",
              "      spin 1s steps(1) infinite;\n",
              "  }\n",
              "\n",
              "  @keyframes spin {\n",
              "    0% {\n",
              "      border-color: transparent;\n",
              "      border-bottom-color: var(--fill-color);\n",
              "      border-left-color: var(--fill-color);\n",
              "    }\n",
              "    20% {\n",
              "      border-color: transparent;\n",
              "      border-left-color: var(--fill-color);\n",
              "      border-top-color: var(--fill-color);\n",
              "    }\n",
              "    30% {\n",
              "      border-color: transparent;\n",
              "      border-left-color: var(--fill-color);\n",
              "      border-top-color: var(--fill-color);\n",
              "      border-right-color: var(--fill-color);\n",
              "    }\n",
              "    40% {\n",
              "      border-color: transparent;\n",
              "      border-right-color: var(--fill-color);\n",
              "      border-top-color: var(--fill-color);\n",
              "    }\n",
              "    60% {\n",
              "      border-color: transparent;\n",
              "      border-right-color: var(--fill-color);\n",
              "    }\n",
              "    80% {\n",
              "      border-color: transparent;\n",
              "      border-right-color: var(--fill-color);\n",
              "      border-bottom-color: var(--fill-color);\n",
              "    }\n",
              "    90% {\n",
              "      border-color: transparent;\n",
              "      border-bottom-color: var(--fill-color);\n",
              "    }\n",
              "  }\n",
              "</style>\n",
              "\n",
              "  <script>\n",
              "    async function quickchart(key) {\n",
              "      const quickchartButtonEl =\n",
              "        document.querySelector('#' + key + ' button');\n",
              "      quickchartButtonEl.disabled = true;  // To prevent multiple clicks.\n",
              "      quickchartButtonEl.classList.add('colab-df-spinner');\n",
              "      try {\n",
              "        const charts = await google.colab.kernel.invokeFunction(\n",
              "            'suggestCharts', [key], {});\n",
              "      } catch (error) {\n",
              "        console.error('Error during call to suggestCharts:', error);\n",
              "      }\n",
              "      quickchartButtonEl.classList.remove('colab-df-spinner');\n",
              "      quickchartButtonEl.classList.add('colab-df-quickchart-complete');\n",
              "    }\n",
              "    (() => {\n",
              "      let quickchartButtonEl =\n",
              "        document.querySelector('#df-8122b021-1ee1-4daa-88e9-1c9240d39409 button');\n",
              "      quickchartButtonEl.style.display =\n",
              "        google.colab.kernel.accessAllowed ? 'block' : 'none';\n",
              "    })();\n",
              "  </script>\n",
              "</div>\n",
              "\n",
              "    </div>\n",
              "  </div>\n"
            ],
            "application/vnd.google.colaboratory.intrinsic+json": {
              "type": "dataframe",
              "variable_name": "circles",
              "summary": "{\n  \"name\": \"circles\",\n  \"rows\": 100,\n  \"fields\": [\n    {\n      \"column\": \"X1\",\n      \"properties\": {\n        \"dtype\": \"number\",\n        \"std\": 0.6431468687385486,\n        \"min\": -1.0434305886702289,\n        \"max\": 1.0252695908124285,\n        \"num_unique_values\": 100,\n        \"samples\": [\n          -0.8566027601089441,\n          0.08727510121575484,\n          -0.7013928436285506\n        ],\n        \"semantic_type\": \"\",\n        \"description\": \"\"\n      }\n    },\n    {\n      \"column\": \"X2\",\n      \"properties\": {\n        \"dtype\": \"number\",\n        \"std\": 0.6439943449510281,\n        \"min\": -1.0487812761157806,\n        \"max\": 1.020263947479628,\n        \"num_unique_values\": 100,\n        \"samples\": [\n          -0.5248306986829363,\n          -0.9838755096824622,\n          -0.3796849781279366\n        ],\n        \"semantic_type\": \"\",\n        \"description\": \"\"\n      }\n    },\n    {\n      \"column\": \"label\",\n      \"properties\": {\n        \"dtype\": \"number\",\n        \"std\": 0,\n        \"min\": 0,\n        \"max\": 1,\n        \"num_unique_values\": 2,\n        \"samples\": [\n          0,\n          1\n        ],\n        \"semantic_type\": \"\",\n        \"description\": \"\"\n      }\n    }\n  ]\n}"
            }
          },
          "metadata": {},
          "execution_count": 5
        }
      ]
    },
    {
      "cell_type": "code",
      "source": [
        "# Visualize, visualize, visualiza\n",
        "import matplotlib.pyplot as plt\n",
        "plt.scatter(x=X[:, 0],\n",
        "            y=X[:, 1],\n",
        "            c=y,\n",
        "            cmap=plt.cm.RdYlBu)"
      ],
      "metadata": {
        "colab": {
          "base_uri": "https://localhost:8080/",
          "height": 447
        },
        "id": "S61W0oGC1WP1",
        "outputId": "5d2ec95a-9b5e-4f42-a21c-e7f9b1e14086"
      },
      "execution_count": 6,
      "outputs": [
        {
          "output_type": "execute_result",
          "data": {
            "text/plain": [
              "<matplotlib.collections.PathCollection at 0x7f2cc3a5fd60>"
            ]
          },
          "metadata": {},
          "execution_count": 6
        },
        {
          "output_type": "display_data",
          "data": {
            "text/plain": [
              "<Figure size 640x480 with 1 Axes>"
            ],
            "image/png": "[encoded data removed]"
          },
          "metadata": {}
        }
      ]
    },
    {
      "cell_type": "markdown",
      "source": [
        "**Note:** The data we're working with is often referred as to a toy dataset, a dataset that is small enough to experiment but still sizeabke enough to practice the fundamentals."
      ],
      "metadata": {
        "id": "BMqoS20n3DTV"
      }
    },
    {
      "cell_type": "markdown",
      "source": [
        "### 1.1 Check input and output shapes"
      ],
      "metadata": {
        "id": "nteKVFph4H5i"
      }
    },
    {
      "cell_type": "code",
      "source": [
        "X.shape, y.shape"
      ],
      "metadata": {
        "colab": {
          "base_uri": "https://localhost:8080/"
        },
        "id": "8jdlwpmt32ZD",
        "outputId": "9f1b3b2f-1584-4561-9c7b-a856ee1373db"
      },
      "execution_count": 7,
      "outputs": [
        {
          "output_type": "execute_result",
          "data": {
            "text/plain": [
              "((100, 2), (100,))"
            ]
          },
          "metadata": {},
          "execution_count": 7
        }
      ]
    },
    {
      "cell_type": "code",
      "source": [
        "X"
      ],
      "metadata": {
        "colab": {
          "base_uri": "https://localhost:8080/"
        },
        "id": "kV3FlRKg4xfi",
        "outputId": "92a8f715-5742-421b-f6de-9755d845f68a"
      },
      "execution_count": 8,
      "outputs": [
        {
          "output_type": "execute_result",
          "data": {
            "text/plain": [
              "array([[-0.40957228, -0.70266396],\n",
              "       [ 0.75810247,  0.33360948],\n",
              "       [-0.64086599,  0.48813954],\n",
              "       [ 0.78212694, -0.59114489],\n",
              "       [ 0.77303687, -0.71826406],\n",
              "       [ 0.21588148, -0.93049176],\n",
              "       [-0.91603993,  0.31759593],\n",
              "       [-0.63740824, -0.47266177],\n",
              "       [ 0.32305084,  0.97314019],\n",
              "       [ 0.97660894, -0.02531689],\n",
              "       [-0.64194001,  0.74154651],\n",
              "       [-0.80450232, -0.59118789],\n",
              "       [-0.69586068,  0.16819918],\n",
              "       [-0.55928823, -0.83160963],\n",
              "       [ 0.27339475, -0.69222843],\n",
              "       [ 0.9249943 ,  0.50646567],\n",
              "       [-0.78489998, -0.07336768],\n",
              "       [-0.79317619, -0.20843689],\n",
              "       [ 0.01831779,  0.9911613 ],\n",
              "       [-0.70008939, -0.69083788],\n",
              "       [ 0.62399231,  0.45943486],\n",
              "       [ 0.07195491, -0.80609432],\n",
              "       [-0.96661707, -0.16467296],\n",
              "       [ 0.50971765, -0.85952722],\n",
              "       [-0.62247342,  0.63594759],\n",
              "       [-0.34190497,  0.97850305],\n",
              "       [ 0.28903518, -0.96647014],\n",
              "       [ 0.71008503, -0.42915845],\n",
              "       [ 0.40589714,  0.90043287],\n",
              "       [-0.7692017 ,  0.26982496],\n",
              "       [ 0.21998313,  1.01243686],\n",
              "       [ 0.91652351, -0.37064951],\n",
              "       [-0.21010311, -0.80363958],\n",
              "       [-0.91963581, -0.30888742],\n",
              "       [ 0.56889023, -0.67460793],\n",
              "       [ 0.78613819,  0.59284503],\n",
              "       [-0.38027974,  0.70381424],\n",
              "       [-0.25133233,  0.80288486],\n",
              "       [-0.31037907, -0.94454841],\n",
              "       [-0.41040658,  0.92113171],\n",
              "       [ 0.99295769, -0.16124585],\n",
              "       [-0.40208911, -0.89188237],\n",
              "       [ 0.60452142,  0.7500442 ],\n",
              "       [ 0.67383894, -0.45206371],\n",
              "       [-0.9901921 , -0.2567879 ],\n",
              "       [-0.73327249,  0.70305722],\n",
              "       [-0.54570668, -0.54566821],\n",
              "       [-0.96492377,  0.02619951],\n",
              "       [ 0.05640192,  0.75511688],\n",
              "       [-0.09362185,  1.02026395],\n",
              "       [-1.04343059,  0.12890259],\n",
              "       [ 0.95979105,  0.37269718],\n",
              "       [-0.55386871,  0.81892949],\n",
              "       [ 0.0872751 , -0.98387551],\n",
              "       [ 0.52726212,  0.8762867 ],\n",
              "       [-0.71820126, -0.24084183],\n",
              "       [ 0.74597545,  0.67961209],\n",
              "       [-0.15419478,  0.72779269],\n",
              "       [-0.18286154, -0.9827587 ],\n",
              "       [ 0.11000283, -0.78658843],\n",
              "       [ 0.62346995,  0.52560126],\n",
              "       [ 0.76489492, -0.06711874],\n",
              "       [ 0.72007255,  0.4772358 ],\n",
              "       [ 0.59786688, -0.74890163],\n",
              "       [ 0.80947673,  0.00177844],\n",
              "       [-0.40134607,  0.67457058],\n",
              "       [ 0.81821539, -0.5071744 ],\n",
              "       [-0.46900619,  0.65157146],\n",
              "       [ 0.13871148,  0.80093771],\n",
              "       [ 0.82733933, -0.29543525],\n",
              "       [-0.70139284, -0.37968498],\n",
              "       [ 0.44398856, -0.91529409],\n",
              "       [ 0.44684532,  0.61713545],\n",
              "       [ 0.97867512, -0.24717099],\n",
              "       [ 0.76834282, -0.21320963],\n",
              "       [ 0.49165799,  0.59200496],\n",
              "       [-0.86954205, -0.00804055],\n",
              "       [-0.6045341 , -0.78057557],\n",
              "       [ 0.60222828, -0.58004371],\n",
              "       [ 0.30145251,  0.70133879],\n",
              "       [-0.08099741,  0.76293019],\n",
              "       [-0.32713021, -0.67049391],\n",
              "       [-0.08279882, -1.04878128],\n",
              "       [-0.85660276, -0.5248307 ],\n",
              "       [ 0.95661673,  0.1401831 ],\n",
              "       [ 0.76990724,  0.17833665],\n",
              "       [-0.87425614,  0.46947141],\n",
              "       [ 1.02526959,  0.22841575],\n",
              "       [-0.99598554,  0.23503889],\n",
              "       [-0.06261526, -0.78055207],\n",
              "       [ 0.2808773 , -0.71108087],\n",
              "       [-0.80993032,  0.12357128],\n",
              "       [-0.15133436, -0.77026897],\n",
              "       [-0.52168125, -0.60326992],\n",
              "       [-0.7591039 ,  0.56560816],\n",
              "       [ 0.24399776,  0.74625869],\n",
              "       [-0.65325589,  0.37238469],\n",
              "       [-0.20936208,  0.96493894],\n",
              "       [ 0.42458991, -0.69926749],\n",
              "       [ 0.78263826,  0.10498264]])"
            ]
          },
          "metadata": {},
          "execution_count": 8
        }
      ]
    },
    {
      "cell_type": "code",
      "source": [
        "# View the first example of features and labels\n",
        "X_sample = X[0]\n",
        "y_sample = y[0]\n",
        "print(f\"Sample input features: {X_sample}\\nSample target label: {y_sample}\")"
      ],
      "metadata": {
        "colab": {
          "base_uri": "https://localhost:8080/"
        },
        "id": "LY3Ochwj42Wk",
        "outputId": "da6d993a-e558-4f17-b11e-0926e7d6c810"
      },
      "execution_count": 9,
      "outputs": [
        {
          "output_type": "stream",
          "name": "stdout",
          "text": [
            "Sample input features: [-0.40957228 -0.70266396]\n",
            "Sample target label: 1\n"
          ]
        }
      ]
    },
    {
      "cell_type": "markdown",
      "source": [
        "### 1.2 Turn data into tensors and create traun and test splits"
      ],
      "metadata": {
        "id": "bbiFEni256_a"
      }
    },
    {
      "cell_type": "code",
      "source": [
        "import torch\n",
        "torch.__version__"
      ],
      "metadata": {
        "colab": {
          "base_uri": "https://localhost:8080/",
          "height": 36
        },
        "id": "8Efv71aZ597E",
        "outputId": "8f18e0c2-cfdd-4318-e6b0-7f18c352e4eb"
      },
      "execution_count": 10,
      "outputs": [
        {
          "output_type": "execute_result",
          "data": {
            "text/plain": [
              "'2.5.1+cu121'"
            ],
            "application/vnd.google.colaboratory.intrinsic+json": {
              "type": "string"
            }
          },
          "metadata": {},
          "execution_count": 10
        }
      ]
    },
    {
      "cell_type": "code",
      "source": [
        "type(X), X.dtype"
      ],
      "metadata": {
        "colab": {
          "base_uri": "https://localhost:8080/"
        },
        "id": "1RYUC55S6bcy",
        "outputId": "90caad80-c8a5-4b7b-e290-e992a5566e99"
      },
      "execution_count": 11,
      "outputs": [
        {
          "output_type": "execute_result",
          "data": {
            "text/plain": [
              "(numpy.ndarray, dtype('float64'))"
            ]
          },
          "metadata": {},
          "execution_count": 11
        }
      ]
    },
    {
      "cell_type": "code",
      "source": [
        "# Turn data into tensors\n",
        "X = torch.from_numpy(X).type(torch.float)\n",
        "y = torch.from_numpy(y).type(torch.float)\n",
        "\n",
        "X[:5], y[:5]"
      ],
      "metadata": {
        "colab": {
          "base_uri": "https://localhost:8080/"
        },
        "id": "fPGRpeC76Ob0",
        "outputId": "d242f286-f27c-4cca-919b-dfbe68a1519f"
      },
      "execution_count": 12,
      "outputs": [
        {
          "output_type": "execute_result",
          "data": {
            "text/plain": [
              "(tensor([[-0.4096, -0.7027],\n",
              "         [ 0.7581,  0.3336],\n",
              "         [-0.6409,  0.4881],\n",
              "         [ 0.7821, -0.5911],\n",
              "         [ 0.7730, -0.7183]]),\n",
              " tensor([1., 1., 1., 0., 0.]))"
            ]
          },
          "metadata": {},
          "execution_count": 12
        }
      ]
    },
    {
      "cell_type": "code",
      "source": [
        "type(X), X.dtype, y.dtype"
      ],
      "metadata": {
        "colab": {
          "base_uri": "https://localhost:8080/"
        },
        "id": "1JH1LGaRPNPP",
        "outputId": "b1fb6bb2-0a01-4d6e-ced6-546e1dc47116"
      },
      "execution_count": 13,
      "outputs": [
        {
          "output_type": "execute_result",
          "data": {
            "text/plain": [
              "(torch.Tensor, torch.float32, torch.float32)"
            ]
          },
          "metadata": {},
          "execution_count": 13
        }
      ]
    },
    {
      "cell_type": "code",
      "source": [
        "# Split data into training and test sets\n",
        "from sklearn.model_selection import train_test_split\n",
        "\n",
        "X_train, X_test, y_train, y_test = train_test_split(X,\n",
        "                                                    y,\n",
        "                                                    test_size=0.2, # 0.2 = 20% of data will be test & 80% will be train\n",
        "                                                    random_state=42)"
      ],
      "metadata": {
        "id": "ACA44dPMPhsu"
      },
      "execution_count": 14,
      "outputs": []
    },
    {
      "cell_type": "code",
      "source": [
        "len(X_train), len(X_test), len(y_train), len(y_test)"
      ],
      "metadata": {
        "colab": {
          "base_uri": "https://localhost:8080/"
        },
        "id": "OeS_uVu8P3Y-",
        "outputId": "6d591bec-c17c-461c-f9b8-8e83bcb2dd91"
      },
      "execution_count": 15,
      "outputs": [
        {
          "output_type": "execute_result",
          "data": {
            "text/plain": [
              "(80, 20, 80, 20)"
            ]
          },
          "metadata": {},
          "execution_count": 15
        }
      ]
    },
    {
      "cell_type": "markdown",
      "source": [
        "## 2. Bulding a model\n",
        "\n",
        "Let's build a model to classify our blue and red dots.\n",
        "\n",
        "To do so, we want to:\n",
        "1. Setup device agnoistic code so our code will run on an accelerator (GPU) if there is one\n",
        "2. Construct a model (by subclassing nn.Module)\n",
        "3. Define a loss function and optimizer\n",
        "4. Creat a training and test loop."
      ],
      "metadata": {
        "id": "m434tdh-58hq"
      }
    },
    {
      "cell_type": "code",
      "source": [
        "# Import PyTorch and nn\n",
        "import torch\n",
        "from torch import nn\n",
        "\n",
        "# Make device agnostic code\n",
        "device = \"cuda\" if torch.cuda.is_available() else \"cpu\"\n",
        "device"
      ],
      "metadata": {
        "colab": {
          "base_uri": "https://localhost:8080/",
          "height": 36
        },
        "id": "ZiaK5i3_SXJp",
        "outputId": "68864c33-4e5d-4f3a-a9ea-aa49dee14f59"
      },
      "execution_count": 16,
      "outputs": [
        {
          "output_type": "execute_result",
          "data": {
            "text/plain": [
              "'cpu'"
            ],
            "application/vnd.google.colaboratory.intrinsic+json": {
              "type": "string"
            }
          },
          "metadata": {},
          "execution_count": 16
        }
      ]
    },
    {
      "cell_type": "code",
      "source": [
        "X_train"
      ],
      "metadata": {
        "colab": {
          "base_uri": "https://localhost:8080/"
        },
        "id": "P1AvX-b2S8Jf",
        "outputId": "98674cd8-2aa6-4590-a3af-54deaeba77c3"
      },
      "execution_count": 17,
      "outputs": [
        {
          "output_type": "execute_result",
          "data": {
            "text/plain": [
              "tensor([[-0.7182, -0.2408],\n",
              "        [-0.9960,  0.2350],\n",
              "        [ 0.2890, -0.9665],\n",
              "        [ 0.6045,  0.7500],\n",
              "        [ 0.8273, -0.2954],\n",
              "        [ 0.9250,  0.5065],\n",
              "        [ 0.9930, -0.1612],\n",
              "        [-0.6533,  0.3724],\n",
              "        [ 0.9766, -0.0253],\n",
              "        [ 0.4468,  0.6171],\n",
              "        [-0.8045, -0.5912],\n",
              "        [-0.9649,  0.0262],\n",
              "        [ 0.7699,  0.1783],\n",
              "        [ 0.4059,  0.9004],\n",
              "        [-0.5217, -0.6033],\n",
              "        [ 0.2159, -0.9305],\n",
              "        [ 0.8182, -0.5072],\n",
              "        [-0.4013,  0.6746],\n",
              "        [ 0.7861,  0.5928],\n",
              "        [-0.7849, -0.0734],\n",
              "        [-0.0936,  1.0203],\n",
              "        [ 0.5689, -0.6746],\n",
              "        [-0.6374, -0.4727],\n",
              "        [ 0.2440,  0.7463],\n",
              "        [ 0.7101, -0.4292],\n",
              "        [-0.7001, -0.6908],\n",
              "        [-0.3271, -0.6705],\n",
              "        [-0.3419,  0.9785],\n",
              "        [ 0.7201,  0.4772],\n",
              "        [-0.5593, -0.8316],\n",
              "        [-0.6225,  0.6359],\n",
              "        [ 0.7821, -0.5911],\n",
              "        [-0.7932, -0.2084],\n",
              "        [-0.3104, -0.9445],\n",
              "        [ 0.3231,  0.9731],\n",
              "        [ 0.6022, -0.5800],\n",
              "        [-0.9160,  0.3176],\n",
              "        [ 0.8095,  0.0018],\n",
              "        [-0.3803,  0.7038],\n",
              "        [-0.0626, -0.7806],\n",
              "        [ 0.7460,  0.6796],\n",
              "        [ 0.7826,  0.1050],\n",
              "        [ 0.5273,  0.8763],\n",
              "        [ 0.6738, -0.4521],\n",
              "        [-1.0434,  0.1289],\n",
              "        [-0.4690,  0.6516],\n",
              "        [-0.5457, -0.5457],\n",
              "        [ 0.1387,  0.8009],\n",
              "        [ 0.7649, -0.0671],\n",
              "        [-0.2094,  0.9649],\n",
              "        [ 0.3015,  0.7013],\n",
              "        [-0.4021, -0.8919],\n",
              "        [-0.1829, -0.9828],\n",
              "        [ 0.0564,  0.7551],\n",
              "        [ 0.4246, -0.6993],\n",
              "        [-0.1542,  0.7278],\n",
              "        [ 0.4917,  0.5920],\n",
              "        [-0.2101, -0.8036],\n",
              "        [-0.7591,  0.5656],\n",
              "        [ 0.1100, -0.7866],\n",
              "        [ 0.5979, -0.7489],\n",
              "        [ 0.9566,  0.1402],\n",
              "        [-0.2513,  0.8029],\n",
              "        [-0.7692,  0.2698],\n",
              "        [ 0.7581,  0.3336],\n",
              "        [-0.5539,  0.8189],\n",
              "        [ 0.0720, -0.8061],\n",
              "        [-0.6409,  0.4881],\n",
              "        [ 0.5097, -0.8595],\n",
              "        [ 1.0253,  0.2284],\n",
              "        [-0.8099,  0.1236],\n",
              "        [ 0.7683, -0.2132],\n",
              "        [-0.8743,  0.4695],\n",
              "        [-0.0828, -1.0488],\n",
              "        [ 0.6240,  0.4594],\n",
              "        [ 0.6235,  0.5256],\n",
              "        [ 0.4440, -0.9153],\n",
              "        [ 0.2734, -0.6922],\n",
              "        [-0.1513, -0.7703],\n",
              "        [ 0.9598,  0.3727]])"
            ]
          },
          "metadata": {},
          "execution_count": 17
        }
      ]
    },
    {
      "cell_type": "markdown",
      "source": [
        "Now we've setup device agnoistic code, let's build a model.\n",
        "1. Subclasses 'nn.Module' (almost all models in PyTorch subclass 'nn.Module')\n",
        "2. Create 2 'nn.Linear()' layers that are capable of handling of handling the shapes of our data.\n",
        "3. Defines a 'forward()' method that outlines the forward pass (or forward computation) of the model\n",
        "4. Instatiate an instance of our model class and send it to the target device\n",
        "\n"
      ],
      "metadata": {
        "id": "TGL-047tTU8F"
      }
    },
    {
      "cell_type": "code",
      "source": [
        "# 1. Construct a model that subclasses nn.Module\n",
        "class CircleModelV0(nn.Module):\n",
        "  def __init__(self):\n",
        "    super().__init__()\n",
        "    # 2. Create 2 nn.Linear layers capable of handling the shapes of our data\n",
        "    self.layer_1 = nn.Linear(in_features=2,\n",
        "                             out_features=5) # takes in 2 features and upscales to 5 features\n",
        "    self.layer_2 = nn.Linear(in_features=5,\n",
        "                             out_features=1) # takes in 5 features from previous layer and outputs a single feature (same shape as y)\n",
        "\n",
        "    # 3. Define a forward() method that outlines the forward pass\n",
        "  def forward(self, x):\n",
        "    return self.layer_2(self.layer_1(x)) # x -> layer_1 -> layer_2 -> output\n",
        "\n",
        "# 4. Instantiate an instance of our model class and send it to the target device\n",
        "model_0 = CircleModelV0().to(device)\n",
        "model_0\n",
        "\n"
      ],
      "metadata": {
        "id": "CBeQcn3YTGsf",
        "colab": {
          "base_uri": "https://localhost:8080/"
        },
        "outputId": "324b749a-aa38-47af-b4f5-2474c02ab961"
      },
      "execution_count": 23,
      "outputs": [
        {
          "output_type": "execute_result",
          "data": {
            "text/plain": [
              "CircleModelV0(\n",
              "  (layer_1): Linear(in_features=2, out_features=5, bias=True)\n",
              "  (layer_2): Linear(in_features=5, out_features=1, bias=True)\n",
              ")"
            ]
          },
          "metadata": {},
          "execution_count": 23
        }
      ]
    },
    {
      "cell_type": "code",
      "source": [
        "device"
      ],
      "metadata": {
        "colab": {
          "base_uri": "https://localhost:8080/",
          "height": 36
        },
        "id": "QDyUDLi8R5f8",
        "outputId": "54afae1b-6e60-41a4-dc16-0f56a66132da"
      },
      "execution_count": 19,
      "outputs": [
        {
          "output_type": "execute_result",
          "data": {
            "text/plain": [
              "'cpu'"
            ],
            "application/vnd.google.colaboratory.intrinsic+json": {
              "type": "string"
            }
          },
          "metadata": {},
          "execution_count": 19
        }
      ]
    },
    {
      "cell_type": "code",
      "source": [
        "next(model_0.parameters()).device"
      ],
      "metadata": {
        "id": "P9gZBTyFR7wK",
        "colab": {
          "base_uri": "https://localhost:8080/"
        },
        "outputId": "b1e70da3-f399-4ded-deb1-7af87a8b05db"
      },
      "execution_count": 20,
      "outputs": [
        {
          "output_type": "execute_result",
          "data": {
            "text/plain": [
              "device(type='cpu')"
            ]
          },
          "metadata": {},
          "execution_count": 20
        }
      ]
    },
    {
      "cell_type": "code",
      "source": [
        "# Let's replicate the model above using nn.Sequential()\n",
        "model_0 = nn.Sequential(\n",
        "  nn.Linear(in_features=2, out_features=5),\n",
        "  nn.Linear(in_features=5, out_features=1)\n",
        ").to(device)\n",
        "\n",
        "model_0"
      ],
      "metadata": {
        "colab": {
          "base_uri": "https://localhost:8080/"
        },
        "id": "ipohzRrtOb3G",
        "outputId": "5a8b922f-6281-4274-ed25-e6a139faf5b0"
      },
      "execution_count": 25,
      "outputs": [
        {
          "output_type": "execute_result",
          "data": {
            "text/plain": [
              "Sequential(\n",
              "  (0): Linear(in_features=2, out_features=5, bias=True)\n",
              "  (1): Linear(in_features=5, out_features=1, bias=True)\n",
              ")"
            ]
          },
          "metadata": {},
          "execution_count": 25
        }
      ]
    },
    {
      "cell_type": "code",
      "source": [
        "model_0.state_dict()"
      ],
      "metadata": {
        "colab": {
          "base_uri": "https://localhost:8080/"
        },
        "id": "FoUTT_p3FP7B",
        "outputId": "fc59b68e-7c04-45c7-88ce-d5d92fae98ca"
      },
      "execution_count": 26,
      "outputs": [
        {
          "output_type": "execute_result",
          "data": {
            "text/plain": [
              "OrderedDict([('0.weight',\n",
              "              tensor([[ 0.5241, -0.6952],\n",
              "                      [-0.3897,  0.5965],\n",
              "                      [ 0.5718, -0.0702],\n",
              "                      [-0.6132, -0.0593],\n",
              "                      [ 0.5901, -0.1817]])),\n",
              "             ('0.bias', tensor([-0.0235, -0.4372, -0.4716, -0.0640,  0.5109])),\n",
              "             ('1.weight',\n",
              "              tensor([[ 0.1112,  0.2406, -0.1863, -0.4118, -0.4135]])),\n",
              "             ('1.bias', tensor([-0.3154]))])"
            ]
          },
          "metadata": {},
          "execution_count": 26
        }
      ]
    },
    {
      "cell_type": "code",
      "source": [
        "# Make predictions\n"
      ],
      "metadata": {
        "id": "1vbLmlF3FWOO"
      },
      "execution_count": null,
      "outputs": []
    }
  ]
}