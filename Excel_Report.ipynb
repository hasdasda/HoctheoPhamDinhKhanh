{
  "nbformat": 4,
  "nbformat_minor": 0,
  "metadata": {
    "colab": {
      "provenance": [],
      "authorship_tag": "ABX9TyN7XykhCnDwD5bLXZftJYJD",
      "include_colab_link": true
    },
    "kernelspec": {
      "name": "python3",
      "display_name": "Python 3"
    },
    "language_info": {
      "name": "python"
    }
  },
  "cells": [
    {
      "cell_type": "markdown",
      "metadata": {
        "id": "view-in-github",
        "colab_type": "text"
      },
      "source": [
        "<a href=\"https://colab.research.google.com/github/hasdasda/HoctheoPhamDinhKhanh/blob/main/Excel_Report.ipynb\" target=\"_parent\"><img src=\"https://colab.research.google.com/assets/colab-badge.svg\" alt=\"Open In Colab\"/></a>"
      ]
    },
    {
      "cell_type": "code",
      "execution_count": null,
      "metadata": {
        "colab": {
          "base_uri": "https://localhost:8080/"
        },
        "id": "bYozkqHaSsga",
        "outputId": "5cbe0710-553b-4773-b9aa-279b0eeacec4"
      },
      "outputs": [
        {
          "output_type": "stream",
          "name": "stdout",
          "text": [
            "Mounted at /content/drive\n"
          ]
        }
      ],
      "source": [
        "from google.colab import drive\n",
        "drive.mount('/content/drive')"
      ]
    },
    {
      "cell_type": "code",
      "source": [
        "!git clone https://github.com/thepycoach/automation.git"
      ],
      "metadata": {
        "colab": {
          "base_uri": "https://localhost:8080/"
        },
        "id": "5uvw4dFGTVIS",
        "outputId": "1acec3c1-571d-4f46-ee37-d243b6288d52"
      },
      "execution_count": null,
      "outputs": [
        {
          "output_type": "stream",
          "name": "stdout",
          "text": [
            "fatal: destination path 'automation' already exists and is not an empty directory.\n"
          ]
        }
      ]
    },
    {
      "cell_type": "code",
      "source": [
        "! cd \"/content/automation/3.Excel Report\"\n"
      ],
      "metadata": {
        "id": "ya2sacJkbpbY"
      },
      "execution_count": null,
      "outputs": []
    },
    {
      "cell_type": "code",
      "source": [
        "!pwd\n",
        "import os\n",
        "print(os.getcwd())\n"
      ],
      "metadata": {
        "colab": {
          "base_uri": "https://localhost:8080/"
        },
        "id": "zj1_DK81pGGr",
        "outputId": "79d8f70b-8dcb-4901-9f92-b2aaaa3e7dbc"
      },
      "execution_count": null,
      "outputs": [
        {
          "output_type": "stream",
          "name": "stdout",
          "text": [
            "/content\n",
            "/content\n"
          ]
        }
      ]
    },
    {
      "cell_type": "code",
      "source": [
        "import os\n",
        "os.chdir(\"/content/automation/3.Excel Report\")\n",
        "print(os.getcwd())  # Kiểm tra lại\n"
      ],
      "metadata": {
        "colab": {
          "base_uri": "https://localhost:8080/"
        },
        "id": "pHGunFn4qZWp",
        "outputId": "979637de-7b3b-42da-97cf-16fd5e1c3844"
      },
      "execution_count": null,
      "outputs": [
        {
          "output_type": "stream",
          "name": "stdout",
          "text": [
            "/content/automation/3.Excel Report\n"
          ]
        }
      ]
    },
    {
      "cell_type": "code",
      "source": [
        "import pandas as pd\n",
        "\n",
        "# Read Excel File\n",
        "df = pd.read_excel('supermarket_sales.xlsx')\n",
        "\n",
        "# Select columns: 'Gender', 'Product line', 'Total'\n",
        "df = df[['Gender', 'Product line', 'Total']]\n",
        "\n",
        "# Make pivot table\n",
        "pivot_table = df.pivot_table(index='Gender', columns='Product line',\n",
        "                             values='Total', aggfunc='sum').round(0)\n",
        "\n",
        "# Export pivot table to Excel file\n",
        "pivot_table.to_excel('pivot_table.xlsx', 'Report', startrow=4)\n",
        "print(pivot_table)"
      ],
      "metadata": {
        "id": "BOGxa42UTrUg",
        "colab": {
          "base_uri": "https://localhost:8080/"
        },
        "outputId": "9366b5dc-fcd7-4b2c-a4ae-b229d335c7a3"
      },
      "execution_count": null,
      "outputs": [
        {
          "output_type": "stream",
          "name": "stdout",
          "text": [
            "Product line  Electronic accessories  Fashion accessories  Food and beverages  \\\n",
            "Gender                                                                          \n",
            "Female                       27102.0              30437.0             33171.0   \n",
            "Male                         27236.0              23868.0             22974.0   \n",
            "\n",
            "Product line  Health and beauty  Home and lifestyle  Sports and travel  \n",
            "Gender                                                                  \n",
            "Female                  18561.0             30037.0            28575.0  \n",
            "Male                    30633.0             23825.0            26548.0  \n"
          ]
        },
        {
          "output_type": "stream",
          "name": "stderr",
          "text": [
            "<ipython-input-52-e0329e8ceae9>:14: FutureWarning: Starting with pandas version 3.0 all arguments of to_excel except for the argument 'excel_writer' will be keyword-only.\n",
            "  pivot_table.to_excel('pivot_table.xlsx', 'Report', startrow=4)\n"
          ]
        }
      ]
    },
    {
      "cell_type": "code",
      "source": [
        "from openpyxl import load_workbook\n",
        "from openpyxl.chart import BarChart, Reference\n",
        "\n",
        "# Read workbook and select sheet\n",
        "wb = load_workbook('pivot_table.xlsx')\n",
        "sheet = wb['Report']\n",
        "\n",
        "# Active rows and columns\n",
        "min_column = wb.active.min_column\n",
        "max_column = wb.active.max_column\n",
        "min_row = wb.active.min_row\n",
        "max_row = wb.active.max_row\n",
        "\n",
        "# Instantiate a barchart\n",
        "barchart = BarChart()\n",
        "\n",
        "# Locate data and categories\n",
        "data = Reference(sheet,\n",
        "                 min_col=min_column+1,\n",
        "                 max_col=max_column,\n",
        "                 min_row=min_row,\n",
        "                 max_row=max_row)  # including headers\n",
        "\n",
        "categories = Reference(sheet,\n",
        "                       min_col=min_column,\n",
        "                       max_col=min_column,\n",
        "                       min_row=min_row+1,\n",
        "                       max_row=max_row)  # not including headers\n",
        "\n",
        "# Adding data and categories\n",
        "barchart.add_data(data, titles_from_data=True)\n",
        "barchart.set_categories(categories)\n",
        "\n",
        "# Make chart\n",
        "sheet.add_chart(barchart, \"B12\")\n",
        "barchart.title = 'Sales by Product line'\n",
        "barchart.style = 5  # choose the chart style\n",
        "\n",
        "# Save workbook\n",
        "wb.save('barchart.xlsx')"
      ],
      "metadata": {
        "colab": {
          "base_uri": "https://localhost:8080/",
          "height": 176
        },
        "id": "wlJrI3dSds8B",
        "outputId": "3ab9a01c-5370-4ca4-8a31-0c8be00b4dfc"
      },
      "execution_count": null,
      "outputs": [
        {
          "output_type": "error",
          "ename": "AttributeError",
          "evalue": "'BarChart' object has no attribute 'xlsx'",
          "traceback": [
            "\u001b[0;31m---------------------------------------------------------------------------\u001b[0m",
            "\u001b[0;31mAttributeError\u001b[0m                            Traceback (most recent call last)",
            "\u001b[0;32m<ipython-input-55-f5760d6c302e>\u001b[0m in \u001b[0;36m<cell line: 0>\u001b[0;34m()\u001b[0m\n\u001b[1;32m     39\u001b[0m \u001b[0;31m# Save workbook\u001b[0m\u001b[0;34m\u001b[0m\u001b[0;34m\u001b[0m\u001b[0m\n\u001b[1;32m     40\u001b[0m \u001b[0mwb\u001b[0m\u001b[0;34m.\u001b[0m\u001b[0msave\u001b[0m\u001b[0;34m(\u001b[0m\u001b[0;34m'barchart.xlsx'\u001b[0m\u001b[0;34m)\u001b[0m\u001b[0;34m\u001b[0m\u001b[0;34m\u001b[0m\u001b[0m\n\u001b[0;32m---> 41\u001b[0;31m \u001b[0mprint\u001b[0m\u001b[0;34m(\u001b[0m\u001b[0mbarchart\u001b[0m\u001b[0;34m.\u001b[0m\u001b[0mxlsx\u001b[0m\u001b[0;34m)\u001b[0m\u001b[0;34m\u001b[0m\u001b[0;34m\u001b[0m\u001b[0m\n\u001b[0m",
            "\u001b[0;31mAttributeError\u001b[0m: 'BarChart' object has no attribute 'xlsx'"
          ]
        }
      ]
    },
    {
      "cell_type": "code",
      "source": [
        "print(min_column)\n",
        "print(max_column)\n",
        "print(min_row)\n",
        "print(max_row)"
      ],
      "metadata": {
        "colab": {
          "base_uri": "https://localhost:8080/"
        },
        "id": "Ea2kzkrkt3Vb",
        "outputId": "5f5e4d7c-cdfa-4477-cd43-bf69f03ee77b"
      },
      "execution_count": null,
      "outputs": [
        {
          "output_type": "stream",
          "name": "stdout",
          "text": [
            "1\n",
            "7\n",
            "5\n",
            "7\n"
          ]
        }
      ]
    },
    {
      "cell_type": "code",
      "source": [
        "from openpyxl import load_workbook\n",
        "from openpyxl.utils import get_column_letter\n",
        "\n",
        "wb = load_workbook('barchart.xlsx')\n",
        "sheet = wb['Report']\n",
        "\n",
        "min_column = wb.active.min_column\n",
        "max_column = wb.active.max_column\n",
        "min_row = wb.active.min_row\n",
        "max_row = wb.active.max_row\n",
        "\n",
        "# Write an Excel formula with Python\n",
        "# sheet['B8'] = '=SUM(B6:B7)'\n",
        "# sheet['B8'].style = 'Currency'\n",
        "\n",
        "# Write multiple formulas with a for loop\n",
        "for i in range(min_column+1, max_column+1):  # (B, G+1)\n",
        "    letter = get_column_letter(i)\n",
        "    sheet[f'{letter}{max_row + 1}'] = f'=SUM({letter}{min_row + 1}:{letter}{max_row})'\n",
        "    sheet[f'{letter}{max_row + 1}'].style = 'Currency'\n",
        "\n",
        "wb.save('report.xlsx')"
      ],
      "metadata": {
        "id": "fRrCAyyNeimw"
      },
      "execution_count": null,
      "outputs": []
    },
    {
      "cell_type": "code",
      "source": [
        "from openpyxl import load_workbook\n",
        "from openpyxl.styles import Font\n",
        "\n",
        "wb = load_workbook('report.xlsx')\n",
        "sheet = wb['Report']\n",
        "\n",
        "# Add format\n",
        "sheet['A1'] = 'Sales Report'\n",
        "sheet['A2'] = 'January'\n",
        "sheet['A1'].font = Font('Arial', bold=True, size=20)\n",
        "sheet['A2'].font = Font('Arial', bold=True, size=10)\n",
        "\n",
        "wb.save('report_january.xlsx')"
      ],
      "metadata": {
        "id": "6kldamEMuo25"
      },
      "execution_count": null,
      "outputs": []
    },
    {
      "cell_type": "code",
      "source": [
        "from openpyxl import load_workbook\n",
        "from openpyxl.chart import BarChart, Reference\n",
        "from openpyxl.utils import get_column_letter\n",
        "from openpyxl.styles import Font\n",
        "\n",
        "# Putting together #2, #3, and #4 (input: pivot_table.xlsx + month , output: Report with barchart, formulas and format)\n",
        "month = 'february'\n",
        "\n",
        "# Read workbook and select sheet\n",
        "wb = load_workbook('pivot_table.xlsx')\n",
        "sheet = wb['Report']\n",
        "\n",
        "# Active rows and columns\n",
        "min_column = wb.active.min_column\n",
        "max_column = wb.active.max_column\n",
        "min_row = wb.active.min_row\n",
        "max_row = wb.active.max_row\n",
        "\n",
        "# Instantiate a barchart\n",
        "barchart = BarChart()\n",
        "\n",
        "# Locate data and categories\n",
        "data = Reference(sheet, min_col=min_column+1, max_col=max_column, min_row=min_row, max_row=max_row)  # including headers\n",
        "categories = Reference(sheet, min_col=min_column, max_col=min_column, min_row=min_row+1, max_row=max_row)  # not including headers\n",
        "\n",
        "# Adding data and categories\n",
        "barchart.add_data(data, titles_from_data=True)\n",
        "barchart.set_categories(categories)\n",
        "\n",
        "# Make chart\n",
        "sheet.add_chart(barchart, \"B12\")\n",
        "barchart.title = 'Sales by Product line'\n",
        "barchart.style = 5  # choose the chart style\n",
        "\n",
        "# Write multiple formulas with a for loop\n",
        "for i in range(min_column+1, max_column+1):  # (B, G+1)\n",
        "    letter = get_column_letter(i)\n",
        "    sheet[f'{letter}{max_row + 1}'] = f'=SUM({letter}{min_row + 1}:{letter}{max_row})'\n",
        "    sheet[f'{letter}{max_row + 1}'].style = 'Currency'\n",
        "\n",
        "# Add format\n",
        "sheet['A1'] = 'Sales Report'\n",
        "sheet['A2'] = month\n",
        "sheet['A1'].font = Font('Arial', bold=True, size=20)\n",
        "sheet['A2'].font = Font('Arial', bold=True, size=10)\n",
        "\n",
        "wb.save(f'report_{month}.xlsx')"
      ],
      "metadata": {
        "id": "QT6TJyDZusZD"
      },
      "execution_count": null,
      "outputs": []
    },
    {
      "cell_type": "code",
      "source": [
        "from openpyxl import load_workbook\n",
        "from openpyxl.chart import BarChart, Reference\n",
        "from openpyxl.utils import get_column_letter\n",
        "from openpyxl.styles import Font\n",
        "import os\n",
        "import sys\n",
        "\n",
        "# Preparing script before we convert it to executable\n",
        "application_path = os.path.dirname(sys.executable)\n",
        "\n",
        "# Putting together #2, #3, and #4 (input: pivot_table.xlsx + month , output: Report with barchart, formulas and format)\n",
        "month = input('Introduce month: ')\n",
        "\n",
        "# Read workbook and select sheet\n",
        "input_path = os.path.join(application_path, 'pivot_table.xlsx')\n",
        "wb = load_workbook(input_path)\n",
        "sheet = wb['Report']\n",
        "\n",
        "# Active rows and columns\n",
        "min_column = wb.active.min_column\n",
        "max_column = wb.active.max_column\n",
        "min_row = wb.active.min_row\n",
        "max_row = wb.active.max_row\n",
        "\n",
        "# Instantiate a barchart\n",
        "barchart = BarChart()\n",
        "\n",
        "# Locate data and categories\n",
        "data = Reference(sheet,\n",
        "                 min_col=min_column+1,\n",
        "                 max_col=max_column,\n",
        "                 min_row=min_row,\n",
        "                 max_row=max_row)  # including headers\n",
        "categories = Reference(sheet,\n",
        "                       min_col=min_column,\n",
        "                       max_col=min_column,\n",
        "                       min_row=min_row+1,\n",
        "                       max_row=max_row)  # not including headers\n",
        "\n",
        "# Adding data and categories\n",
        "barchart.add_data(data, titles_from_data=True)\n",
        "barchart.set_categories(categories)\n",
        "\n",
        "# Make chart\n",
        "sheet.add_chart(barchart, \"B12\")\n",
        "barchart.title = 'Sales by Product line'\n",
        "barchart.style = 5  # choose the chart style\n",
        "\n",
        "# Write multiple formulas with a for loop\n",
        "for i in range(min_column+1, max_column+1):  # (B, G+1)\n",
        "    letter = get_column_letter(i)\n",
        "    sheet[f'{letter}{max_row + 1}'] = f'=SUM({letter}{min_row + 1}:{letter}{max_row})'\n",
        "    sheet[f'{letter}{max_row + 1}'].style = 'Currency'\n",
        "\n",
        "# Add format\n",
        "sheet['A1'] = 'Sales Report'\n",
        "sheet['A2'] = month\n",
        "sheet['A1'].font = Font('Arial', bold=True, size=20)\n",
        "sheet['A2'].font = Font('Arial', bold=True, size=10)\n",
        "\n",
        "output_path = os.path.join(application_path, f'report_{month}.xlsx')\n",
        "wb.save(output_path)"
      ],
      "metadata": {
        "id": "1T-IFpK2vHMs"
      },
      "execution_count": null,
      "outputs": []
    },
    {
      "cell_type": "code",
      "source": [
        "import pywhatkit\n",
        "phone_number = input(\"Enter phone number: \")\n",
        "pywhatkit.sendwhatmsg(phone_number, \"Test\", 7, 21)\n"
      ],
      "metadata": {
        "colab": {
          "base_uri": "https://localhost:8080/",
          "height": 235
        },
        "id": "6z-QRzDHvih1",
        "outputId": "de4e6651-a711-4fc2-fa0f-78f5a54b0a4b"
      },
      "execution_count": 8,
      "outputs": [
        {
          "output_type": "error",
          "ename": "KeyError",
          "evalue": "'DISPLAY'",
          "traceback": [
            "\u001b[0;31m---------------------------------------------------------------------------\u001b[0m",
            "\u001b[0;31mKeyError\u001b[0m                                  Traceback (most recent call last)",
            "\u001b[0;32m<ipython-input-8-94eff5d7459c>\u001b[0m in \u001b[0;36m<cell line: 0>\u001b[0;34m()\u001b[0m\n\u001b[0;32m----> 1\u001b[0;31m \u001b[0;32mimport\u001b[0m \u001b[0mpywhatkit\u001b[0m\u001b[0;34m\u001b[0m\u001b[0;34m\u001b[0m\u001b[0m\n\u001b[0m\u001b[1;32m      2\u001b[0m \u001b[0mphone_number\u001b[0m \u001b[0;34m=\u001b[0m \u001b[0minput\u001b[0m\u001b[0;34m(\u001b[0m\u001b[0;34m\"Enter phone number: \"\u001b[0m\u001b[0;34m)\u001b[0m\u001b[0;34m\u001b[0m\u001b[0;34m\u001b[0m\u001b[0m\n\u001b[1;32m      3\u001b[0m \u001b[0mpywhatkit\u001b[0m\u001b[0;34m.\u001b[0m\u001b[0msendwhatmsg\u001b[0m\u001b[0;34m(\u001b[0m\u001b[0mphone_number\u001b[0m\u001b[0;34m,\u001b[0m \u001b[0;34m\"Test\"\u001b[0m\u001b[0;34m,\u001b[0m \u001b[0;36m7\u001b[0m\u001b[0;34m,\u001b[0m \u001b[0;36m21\u001b[0m\u001b[0;34m)\u001b[0m\u001b[0;34m\u001b[0m\u001b[0;34m\u001b[0m\u001b[0m\n",
            "\u001b[0;32m/usr/local/lib/python3.11/dist-packages/pywhatkit/__init__.py\u001b[0m in \u001b[0;36m<module>\u001b[0;34m\u001b[0m\n\u001b[1;32m     14\u001b[0m \u001b[0;32mfrom\u001b[0m \u001b[0mpywhatkit\u001b[0m\u001b[0;34m.\u001b[0m\u001b[0mmisc\u001b[0m \u001b[0;32mimport\u001b[0m \u001b[0minfo\u001b[0m\u001b[0;34m,\u001b[0m \u001b[0mplayonyt\u001b[0m\u001b[0;34m,\u001b[0m \u001b[0msearch\u001b[0m\u001b[0;34m,\u001b[0m \u001b[0mshow_history\u001b[0m\u001b[0;34m,\u001b[0m \u001b[0mweb_screenshot\u001b[0m\u001b[0;34m\u001b[0m\u001b[0;34m\u001b[0m\u001b[0m\n\u001b[1;32m     15\u001b[0m \u001b[0;32mfrom\u001b[0m \u001b[0mpywhatkit\u001b[0m\u001b[0;34m.\u001b[0m\u001b[0msc\u001b[0m \u001b[0;32mimport\u001b[0m \u001b[0mcancel_shutdown\u001b[0m\u001b[0;34m,\u001b[0m \u001b[0mshutdown\u001b[0m\u001b[0;34m\u001b[0m\u001b[0;34m\u001b[0m\u001b[0m\n\u001b[0;32m---> 16\u001b[0;31m from pywhatkit.whats import (\n\u001b[0m\u001b[1;32m     17\u001b[0m     \u001b[0mopen_web\u001b[0m\u001b[0;34m,\u001b[0m\u001b[0;34m\u001b[0m\u001b[0;34m\u001b[0m\u001b[0m\n\u001b[1;32m     18\u001b[0m     \u001b[0msendwhatmsg\u001b[0m\u001b[0;34m,\u001b[0m\u001b[0;34m\u001b[0m\u001b[0;34m\u001b[0m\u001b[0m\n",
            "\u001b[0;32m/usr/local/lib/python3.11/dist-packages/pywhatkit/whats.py\u001b[0m in \u001b[0;36m<module>\u001b[0;34m\u001b[0m\n\u001b[1;32m      5\u001b[0m \u001b[0;32mfrom\u001b[0m \u001b[0murllib\u001b[0m\u001b[0;34m.\u001b[0m\u001b[0mparse\u001b[0m \u001b[0;32mimport\u001b[0m \u001b[0mquote\u001b[0m\u001b[0;34m\u001b[0m\u001b[0;34m\u001b[0m\u001b[0m\n\u001b[1;32m      6\u001b[0m \u001b[0;34m\u001b[0m\u001b[0m\n\u001b[0;32m----> 7\u001b[0;31m \u001b[0;32mimport\u001b[0m \u001b[0mpyautogui\u001b[0m \u001b[0;32mas\u001b[0m \u001b[0mpg\u001b[0m\u001b[0;34m\u001b[0m\u001b[0;34m\u001b[0m\u001b[0m\n\u001b[0m\u001b[1;32m      8\u001b[0m \u001b[0;34m\u001b[0m\u001b[0m\n\u001b[1;32m      9\u001b[0m \u001b[0;32mfrom\u001b[0m \u001b[0mpywhatkit\u001b[0m\u001b[0;34m.\u001b[0m\u001b[0mcore\u001b[0m \u001b[0;32mimport\u001b[0m \u001b[0mcore\u001b[0m\u001b[0;34m,\u001b[0m \u001b[0mexceptions\u001b[0m\u001b[0;34m,\u001b[0m \u001b[0mlog\u001b[0m\u001b[0;34m\u001b[0m\u001b[0;34m\u001b[0m\u001b[0m\n",
            "\u001b[0;32m/usr/local/lib/python3.11/dist-packages/pyautogui/__init__.py\u001b[0m in \u001b[0;36m<module>\u001b[0;34m\u001b[0m\n\u001b[1;32m    244\u001b[0m \u001b[0;34m\u001b[0m\u001b[0m\n\u001b[1;32m    245\u001b[0m \u001b[0;32mtry\u001b[0m\u001b[0;34m:\u001b[0m\u001b[0;34m\u001b[0m\u001b[0;34m\u001b[0m\u001b[0m\n\u001b[0;32m--> 246\u001b[0;31m     \u001b[0;32mimport\u001b[0m \u001b[0mmouseinfo\u001b[0m\u001b[0;34m\u001b[0m\u001b[0;34m\u001b[0m\u001b[0m\n\u001b[0m\u001b[1;32m    247\u001b[0m \u001b[0;34m\u001b[0m\u001b[0m\n\u001b[1;32m    248\u001b[0m     \u001b[0;32mdef\u001b[0m \u001b[0mmouseInfo\u001b[0m\u001b[0;34m(\u001b[0m\u001b[0;34m)\u001b[0m\u001b[0;34m:\u001b[0m\u001b[0;34m\u001b[0m\u001b[0;34m\u001b[0m\u001b[0m\n",
            "\u001b[0;32m/usr/local/lib/python3.11/dist-packages/mouseinfo/__init__.py\u001b[0m in \u001b[0;36m<module>\u001b[0;34m\u001b[0m\n\u001b[1;32m    221\u001b[0m             \u001b[0;32mraise\u001b[0m\u001b[0;34m\u001b[0m\u001b[0;34m\u001b[0m\u001b[0m\n\u001b[1;32m    222\u001b[0m \u001b[0;34m\u001b[0m\u001b[0m\n\u001b[0;32m--> 223\u001b[0;31m     \u001b[0m_display\u001b[0m \u001b[0;34m=\u001b[0m \u001b[0mDisplay\u001b[0m\u001b[0;34m(\u001b[0m\u001b[0mos\u001b[0m\u001b[0;34m.\u001b[0m\u001b[0menviron\u001b[0m\u001b[0;34m[\u001b[0m\u001b[0;34m'DISPLAY'\u001b[0m\u001b[0;34m]\u001b[0m\u001b[0;34m)\u001b[0m\u001b[0;34m\u001b[0m\u001b[0;34m\u001b[0m\u001b[0m\n\u001b[0m\u001b[1;32m    224\u001b[0m \u001b[0;34m\u001b[0m\u001b[0m\n\u001b[1;32m    225\u001b[0m     \u001b[0;32mdef\u001b[0m \u001b[0m_linuxPosition\u001b[0m\u001b[0;34m(\u001b[0m\u001b[0;34m)\u001b[0m\u001b[0;34m:\u001b[0m\u001b[0;34m\u001b[0m\u001b[0;34m\u001b[0m\u001b[0m\n",
            "\u001b[0;32m/usr/lib/python3.11/os.py\u001b[0m in \u001b[0;36m__getitem__\u001b[0;34m(self, key)\u001b[0m\n",
            "\u001b[0;31mKeyError\u001b[0m: 'DISPLAY'"
          ]
        }
      ]
    },
    {
      "cell_type": "code",
      "source": [
        "! pip install pywhatkit"
      ],
      "metadata": {
        "colab": {
          "base_uri": "https://localhost:8080/"
        },
        "id": "ho27GZYcv1bw",
        "outputId": "a9e6e839-e8b4-4908-f5a2-3333dba46bb3"
      },
      "execution_count": 4,
      "outputs": [
        {
          "output_type": "stream",
          "name": "stdout",
          "text": [
            "Requirement already satisfied: pywhatkit in /usr/local/lib/python3.11/dist-packages (5.4)\n",
            "Requirement already satisfied: Pillow in /usr/local/lib/python3.11/dist-packages (from pywhatkit) (11.1.0)\n",
            "Requirement already satisfied: pyautogui in /usr/local/lib/python3.11/dist-packages (from pywhatkit) (0.9.54)\n",
            "Requirement already satisfied: requests in /usr/local/lib/python3.11/dist-packages (from pywhatkit) (2.32.3)\n",
            "Requirement already satisfied: wikipedia in /usr/local/lib/python3.11/dist-packages (from pywhatkit) (1.4.0)\n",
            "Requirement already satisfied: Flask in /usr/local/lib/python3.11/dist-packages (from pywhatkit) (3.1.0)\n",
            "Requirement already satisfied: Werkzeug>=3.1 in /usr/local/lib/python3.11/dist-packages (from Flask->pywhatkit) (3.1.3)\n",
            "Requirement already satisfied: Jinja2>=3.1.2 in /usr/local/lib/python3.11/dist-packages (from Flask->pywhatkit) (3.1.5)\n",
            "Requirement already satisfied: itsdangerous>=2.2 in /usr/local/lib/python3.11/dist-packages (from Flask->pywhatkit) (2.2.0)\n",
            "Requirement already satisfied: click>=8.1.3 in /usr/local/lib/python3.11/dist-packages (from Flask->pywhatkit) (8.1.8)\n",
            "Requirement already satisfied: blinker>=1.9 in /usr/local/lib/python3.11/dist-packages (from Flask->pywhatkit) (1.9.0)\n",
            "Requirement already satisfied: python3-Xlib in /usr/local/lib/python3.11/dist-packages (from pyautogui->pywhatkit) (0.15)\n",
            "Requirement already satisfied: pymsgbox in /usr/local/lib/python3.11/dist-packages (from pyautogui->pywhatkit) (1.0.9)\n",
            "Requirement already satisfied: pytweening>=1.0.4 in /usr/local/lib/python3.11/dist-packages (from pyautogui->pywhatkit) (1.2.0)\n",
            "Requirement already satisfied: pyscreeze>=0.1.21 in /usr/local/lib/python3.11/dist-packages (from pyautogui->pywhatkit) (1.0.1)\n",
            "Requirement already satisfied: pygetwindow>=0.0.5 in /usr/local/lib/python3.11/dist-packages (from pyautogui->pywhatkit) (0.0.9)\n",
            "Requirement already satisfied: mouseinfo in /usr/local/lib/python3.11/dist-packages (from pyautogui->pywhatkit) (0.1.3)\n",
            "Requirement already satisfied: charset-normalizer<4,>=2 in /usr/local/lib/python3.11/dist-packages (from requests->pywhatkit) (3.4.1)\n",
            "Requirement already satisfied: idna<4,>=2.5 in /usr/local/lib/python3.11/dist-packages (from requests->pywhatkit) (3.10)\n",
            "Requirement already satisfied: urllib3<3,>=1.21.1 in /usr/local/lib/python3.11/dist-packages (from requests->pywhatkit) (2.3.0)\n",
            "Requirement already satisfied: certifi>=2017.4.17 in /usr/local/lib/python3.11/dist-packages (from requests->pywhatkit) (2025.1.31)\n",
            "Requirement already satisfied: beautifulsoup4 in /usr/local/lib/python3.11/dist-packages (from wikipedia->pywhatkit) (4.13.3)\n",
            "Requirement already satisfied: MarkupSafe>=2.0 in /usr/local/lib/python3.11/dist-packages (from Jinja2>=3.1.2->Flask->pywhatkit) (3.0.2)\n",
            "Requirement already satisfied: pyrect in /usr/local/lib/python3.11/dist-packages (from pygetwindow>=0.0.5->pyautogui->pywhatkit) (0.2.0)\n",
            "Requirement already satisfied: soupsieve>1.2 in /usr/local/lib/python3.11/dist-packages (from beautifulsoup4->wikipedia->pywhatkit) (2.6)\n",
            "Requirement already satisfied: typing-extensions>=4.0.0 in /usr/local/lib/python3.11/dist-packages (from beautifulsoup4->wikipedia->pywhatkit) (4.12.2)\n",
            "Requirement already satisfied: pyperclip in /usr/local/lib/python3.11/dist-packages (from mouseinfo->pyautogui->pywhatkit) (1.9.0)\n"
          ]
        }
      ]
    }
  ]
}