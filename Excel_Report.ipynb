{
  "nbformat": 4,
  "nbformat_minor": 0,
  "metadata": {
    "colab": {
      "provenance": [],
      "authorship_tag": "ABX9TyORO5waVKmoPqAV9NyYfzue",
      "include_colab_link": true
    },
    "kernelspec": {
      "name": "python3",
      "display_name": "Python 3"
    },
    "language_info": {
      "name": "python"
    }
  },
  "cells": [
    {
      "cell_type": "markdown",
      "metadata": {
        "id": "view-in-github",
        "colab_type": "text"
      },
      "source": [
        "<a href=\"https://colab.research.google.com/github/hasdasda/HoctheoPhamDinhKhanh/blob/main/Excel_Report.ipynb\" target=\"_parent\"><img src=\"https://colab.research.google.com/assets/colab-badge.svg\" alt=\"Open In Colab\"/></a>"
      ]
    },
    {
      "cell_type": "code",
      "execution_count": null,
      "metadata": {
        "colab": {
          "base_uri": "https://localhost:8080/"
        },
        "id": "bYozkqHaSsga",
        "outputId": "5cbe0710-553b-4773-b9aa-279b0eeacec4"
      },
      "outputs": [
        {
          "output_type": "stream",
          "name": "stdout",
          "text": [
            "Mounted at /content/drive\n"
          ]
        }
      ],
      "source": [
        "from google.colab import drive\n",
        "drive.mount('/content/drive')"
      ]
    },
    {
      "cell_type": "code",
      "source": [
        "!git clone https://github.com/thepycoach/automation.git"
      ],
      "metadata": {
        "colab": {
          "base_uri": "https://localhost:8080/"
        },
        "id": "5uvw4dFGTVIS",
        "outputId": "1acec3c1-571d-4f46-ee37-d243b6288d52"
      },
      "execution_count": null,
      "outputs": [
        {
          "output_type": "stream",
          "name": "stdout",
          "text": [
            "fatal: destination path 'automation' already exists and is not an empty directory.\n"
          ]
        }
      ]
    },
    {
      "cell_type": "code",
      "source": [
        "! cd \"/content/automation/3.Excel Report\"\n"
      ],
      "metadata": {
        "id": "ya2sacJkbpbY"
      },
      "execution_count": null,
      "outputs": []
    },
    {
      "cell_type": "code",
      "source": [
        "!pwd\n",
        "import os\n",
        "print(os.getcwd())\n"
      ],
      "metadata": {
        "colab": {
          "base_uri": "https://localhost:8080/"
        },
        "id": "zj1_DK81pGGr",
        "outputId": "79d8f70b-8dcb-4901-9f92-b2aaaa3e7dbc"
      },
      "execution_count": null,
      "outputs": [
        {
          "output_type": "stream",
          "name": "stdout",
          "text": [
            "/content\n",
            "/content\n"
          ]
        }
      ]
    },
    {
      "cell_type": "code",
      "source": [
        "import os\n",
        "os.chdir(\"/content/automation/3.Excel Report\")\n",
        "print(os.getcwd())  # Kiểm tra lại\n"
      ],
      "metadata": {
        "colab": {
          "base_uri": "https://localhost:8080/"
        },
        "id": "pHGunFn4qZWp",
        "outputId": "979637de-7b3b-42da-97cf-16fd5e1c3844"
      },
      "execution_count": null,
      "outputs": [
        {
          "output_type": "stream",
          "name": "stdout",
          "text": [
            "/content/automation/3.Excel Report\n"
          ]
        }
      ]
    },
    {
      "cell_type": "code",
      "source": [
        "import pandas as pd\n",
        "\n",
        "# Read Excel File\n",
        "df = pd.read_excel('supermarket_sales.xlsx')\n",
        "\n",
        "# Select columns: 'Gender', 'Product line', 'Total'\n",
        "df = df[['Gender', 'Product line', 'Total']]\n",
        "\n",
        "# Make pivot table\n",
        "pivot_table = df.pivot_table(index='Gender', columns='Product line',\n",
        "                             values='Total', aggfunc='sum').round(0)\n",
        "\n",
        "# Export pivot table to Excel file\n",
        "pivot_table.to_excel('pivot_table.xlsx', 'Report', startrow=4)\n",
        "print(pivot_table)"
      ],
      "metadata": {
        "id": "BOGxa42UTrUg",
        "colab": {
          "base_uri": "https://localhost:8080/"
        },
        "outputId": "9366b5dc-fcd7-4b2c-a4ae-b229d335c7a3"
      },
      "execution_count": null,
      "outputs": [
        {
          "output_type": "stream",
          "name": "stdout",
          "text": [
            "Product line  Electronic accessories  Fashion accessories  Food and beverages  \\\n",
            "Gender                                                                          \n",
            "Female                       27102.0              30437.0             33171.0   \n",
            "Male                         27236.0              23868.0             22974.0   \n",
            "\n",
            "Product line  Health and beauty  Home and lifestyle  Sports and travel  \n",
            "Gender                                                                  \n",
            "Female                  18561.0             30037.0            28575.0  \n",
            "Male                    30633.0             23825.0            26548.0  \n"
          ]
        },
        {
          "output_type": "stream",
          "name": "stderr",
          "text": [
            "<ipython-input-52-e0329e8ceae9>:14: FutureWarning: Starting with pandas version 3.0 all arguments of to_excel except for the argument 'excel_writer' will be keyword-only.\n",
            "  pivot_table.to_excel('pivot_table.xlsx', 'Report', startrow=4)\n"
          ]
        }
      ]
    },
    {
      "cell_type": "code",
      "source": [
        "from openpyxl import load_workbook\n",
        "from openpyxl.chart import BarChart, Reference\n",
        "\n",
        "# Read workbook and select sheet\n",
        "wb = load_workbook('pivot_table.xlsx')\n",
        "sheet = wb['Report']\n",
        "\n",
        "# Active rows and columns\n",
        "min_column = wb.active.min_column\n",
        "max_column = wb.active.max_column\n",
        "min_row = wb.active.min_row\n",
        "max_row = wb.active.max_row\n",
        "\n",
        "# Instantiate a barchart\n",
        "barchart = BarChart()\n",
        "\n",
        "# Locate data and categories\n",
        "data = Reference(sheet,\n",
        "                 min_col=min_column+1,\n",
        "                 max_col=max_column,\n",
        "                 min_row=min_row,\n",
        "                 max_row=max_row)  # including headers\n",
        "\n",
        "categories = Reference(sheet,\n",
        "                       min_col=min_column,\n",
        "                       max_col=min_column,\n",
        "                       min_row=min_row+1,\n",
        "                       max_row=max_row)  # not including headers\n",
        "\n",
        "# Adding data and categories\n",
        "barchart.add_data(data, titles_from_data=True)\n",
        "barchart.set_categories(categories)\n",
        "\n",
        "# Make chart\n",
        "sheet.add_chart(barchart, \"B12\")\n",
        "barchart.title = 'Sales by Product line'\n",
        "barchart.style = 5  # choose the chart style\n",
        "\n",
        "# Save workbook\n",
        "wb.save('barchart.xlsx')"
      ],
      "metadata": {
        "colab": {
          "base_uri": "https://localhost:8080/",
          "height": 176
        },
        "id": "wlJrI3dSds8B",
        "outputId": "3ab9a01c-5370-4ca4-8a31-0c8be00b4dfc"
      },
      "execution_count": null,
      "outputs": [
        {
          "output_type": "error",
          "ename": "AttributeError",
          "evalue": "'BarChart' object has no attribute 'xlsx'",
          "traceback": [
            "\u001b[0;31m---------------------------------------------------------------------------\u001b[0m",
            "\u001b[0;31mAttributeError\u001b[0m                            Traceback (most recent call last)",
            "\u001b[0;32m<ipython-input-55-f5760d6c302e>\u001b[0m in \u001b[0;36m<cell line: 0>\u001b[0;34m()\u001b[0m\n\u001b[1;32m     39\u001b[0m \u001b[0;31m# Save workbook\u001b[0m\u001b[0;34m\u001b[0m\u001b[0;34m\u001b[0m\u001b[0m\n\u001b[1;32m     40\u001b[0m \u001b[0mwb\u001b[0m\u001b[0;34m.\u001b[0m\u001b[0msave\u001b[0m\u001b[0;34m(\u001b[0m\u001b[0;34m'barchart.xlsx'\u001b[0m\u001b[0;34m)\u001b[0m\u001b[0;34m\u001b[0m\u001b[0;34m\u001b[0m\u001b[0m\n\u001b[0;32m---> 41\u001b[0;31m \u001b[0mprint\u001b[0m\u001b[0;34m(\u001b[0m\u001b[0mbarchart\u001b[0m\u001b[0;34m.\u001b[0m\u001b[0mxlsx\u001b[0m\u001b[0;34m)\u001b[0m\u001b[0;34m\u001b[0m\u001b[0;34m\u001b[0m\u001b[0m\n\u001b[0m",
            "\u001b[0;31mAttributeError\u001b[0m: 'BarChart' object has no attribute 'xlsx'"
          ]
        }
      ]
    },
    {
      "cell_type": "code",
      "source": [
        "print(min_column)\n",
        "print(max_column)\n",
        "print(min_row)\n",
        "print(max_row)"
      ],
      "metadata": {
        "colab": {
          "base_uri": "https://localhost:8080/"
        },
        "id": "Ea2kzkrkt3Vb",
        "outputId": "5f5e4d7c-cdfa-4477-cd43-bf69f03ee77b"
      },
      "execution_count": null,
      "outputs": [
        {
          "output_type": "stream",
          "name": "stdout",
          "text": [
            "1\n",
            "7\n",
            "5\n",
            "7\n"
          ]
        }
      ]
    },
    {
      "cell_type": "code",
      "source": [
        "from openpyxl import load_workbook\n",
        "from openpyxl.utils import get_column_letter\n",
        "\n",
        "wb = load_workbook('barchart.xlsx')\n",
        "sheet = wb['Report']\n",
        "\n",
        "min_column = wb.active.min_column\n",
        "max_column = wb.active.max_column\n",
        "min_row = wb.active.min_row\n",
        "max_row = wb.active.max_row\n",
        "\n",
        "# Write an Excel formula with Python\n",
        "# sheet['B8'] = '=SUM(B6:B7)'\n",
        "# sheet['B8'].style = 'Currency'\n",
        "\n",
        "# Write multiple formulas with a for loop\n",
        "for i in range(min_column+1, max_column+1):  # (B, G+1)\n",
        "    letter = get_column_letter(i)\n",
        "    sheet[f'{letter}{max_row + 1}'] = f'=SUM({letter}{min_row + 1}:{letter}{max_row})'\n",
        "    sheet[f'{letter}{max_row + 1}'].style = 'Currency'\n",
        "\n",
        "wb.save('report.xlsx')"
      ],
      "metadata": {
        "id": "fRrCAyyNeimw"
      },
      "execution_count": null,
      "outputs": []
    }
  ]
}