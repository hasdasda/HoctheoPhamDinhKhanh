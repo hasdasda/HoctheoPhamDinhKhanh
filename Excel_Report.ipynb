{
  "nbformat": 4,
  "nbformat_minor": 0,
  "metadata": {
    "colab": {
      "provenance": [],
      "authorship_tag": "ABX9TyOQQXIfPNo/sCMnuFKeBYyr",
      "include_colab_link": true
    },
    "kernelspec": {
      "name": "python3",
      "display_name": "Python 3"
    },
    "language_info": {
      "name": "python"
    }
  },
  "cells": [
    {
      "cell_type": "markdown",
      "metadata": {
        "id": "view-in-github",
        "colab_type": "text"
      },
      "source": [
        "<a href=\"https://colab.research.google.com/github/hasdasda/HoctheoPhamDinhKhanh/blob/main/Excel_Report.ipynb\" target=\"_parent\"><img src=\"https://colab.research.google.com/assets/colab-badge.svg\" alt=\"Open In Colab\"/></a>"
      ]
    },
    {
      "cell_type": "code",
      "execution_count": null,
      "metadata": {
        "colab": {
          "base_uri": "https://localhost:8080/"
        },
        "id": "bYozkqHaSsga",
        "outputId": "5cbe0710-553b-4773-b9aa-279b0eeacec4"
      },
      "outputs": [
        {
          "output_type": "stream",
          "name": "stdout",
          "text": [
            "Mounted at /content/drive\n"
          ]
        }
      ],
      "source": [
        "from google.colab import drive\n",
        "drive.mount('/content/drive')"
      ]
    },
    {
      "cell_type": "code",
      "source": [
        "!git clone https://github.com/thepycoach/automation.git"
      ],
      "metadata": {
        "colab": {
          "base_uri": "https://localhost:8080/"
        },
        "id": "5uvw4dFGTVIS",
        "outputId": "13698d57-122f-4c4a-a2e5-244d52eb6d58"
      },
      "execution_count": 7,
      "outputs": [
        {
          "output_type": "stream",
          "name": "stdout",
          "text": [
            "fatal: destination path 'automation' already exists and is not an empty directory.\n"
          ]
        }
      ]
    },
    {
      "cell_type": "code",
      "source": [
        "! cd \"/content/automation/3.Excel Report\"\n"
      ],
      "metadata": {
        "id": "ya2sacJkbpbY"
      },
      "execution_count": 8,
      "outputs": []
    },
    {
      "cell_type": "code",
      "source": [
        "import pandas as pd\n",
        "\n",
        "# Read Excel File\n",
        "df = pd.read_excel('supermarket_sales.xlsx')\n",
        "\n",
        "# Select columns: 'Gender', 'Product line', 'Total'\n",
        "df = df[['Gender', 'Product line', 'Total']]\n",
        "\n",
        "# Make pivot table\n",
        "pivot_table = df.pivot_table(index='Gender', columns='Product line',\n",
        "                             values='Total', aggfunc='sum').round(0)\n",
        "\n",
        "# Export pivot table to Excel file\n",
        "pivot_table.to_excel('pivot_table.xlsx', 'Report', startrow=4)"
      ],
      "metadata": {
        "id": "BOGxa42UTrUg"
      },
      "execution_count": null,
      "outputs": []
    }
  ]
}