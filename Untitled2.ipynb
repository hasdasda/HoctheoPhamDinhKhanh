{
  "nbformat": 4,
  "nbformat_minor": 0,
  "metadata": {
    "colab": {
      "provenance": []
    },
    "kernelspec": {
      "name": "python3",
      "display_name": "Python 3"
    },
    "language_info": {
      "name": "python"
    }
  },
  "cells": [
    {
      "cell_type": "code",
      "source": [
        "!pip install sklearn"
      ],
      "metadata": {
        "colab": {
          "base_uri": "https://localhost:8080/"
        },
        "id": "Xfu-zXiSOPip",
        "outputId": "09984f40-3fd9-46f0-d7ce-9d7ffbf840c1"
      },
      "execution_count": 3,
      "outputs": [
        {
          "output_type": "stream",
          "name": "stdout",
          "text": [
            "Collecting sklearn\n",
            "  Using cached sklearn-0.0.post12.tar.gz (2.6 kB)\n",
            "  \u001b[1;31merror\u001b[0m: \u001b[1msubprocess-exited-with-error\u001b[0m\n",
            "  \n",
            "  \u001b[31m×\u001b[0m \u001b[32mpython setup.py egg_info\u001b[0m did not run successfully.\n",
            "  \u001b[31m│\u001b[0m exit code: \u001b[1;36m1\u001b[0m\n",
            "  \u001b[31m╰─>\u001b[0m See above for output.\n",
            "  \n",
            "  \u001b[1;35mnote\u001b[0m: This error originates from a subprocess, and is likely not a problem with pip.\n",
            "  Preparing metadata (setup.py) ... \u001b[?25l\u001b[?25herror\n",
            "\u001b[1;31merror\u001b[0m: \u001b[1mmetadata-generation-failed\u001b[0m\n",
            "\n",
            "\u001b[31m×\u001b[0m Encountered error while generating package metadata.\n",
            "\u001b[31m╰─>\u001b[0m See above for output.\n",
            "\n",
            "\u001b[1;35mnote\u001b[0m: This is an issue with the package mentioned above, not pip.\n",
            "\u001b[1;36mhint\u001b[0m: See above for details.\n"
          ]
        }
      ]
    },
    {
      "cell_type": "markdown",
      "source": [
        "Hàm biểu diễn One-hot vector:\n",
        "Trong python chúng ta có thể biến đổi các từ sang dạng one-hot vector thông qua hàm OneHotEncoder của sklearn. Nhưng trước tiên ta cần gán index cho các class bằng LabelEncoder:"
      ],
      "metadata": {
        "id": "VMC2sGPsJ3CX"
      }
    },
    {
      "cell_type": "code",
      "execution_count": 6,
      "metadata": {
        "colab": {
          "base_uri": "https://localhost:8080/"
        },
        "id": "caGDVkAAHZKy",
        "outputId": "be4823cd-89ca-49a0-8aea-93c20b0a1356"
      },
      "outputs": [
        {
          "output_type": "stream",
          "name": "stdout",
          "text": [
            "Class of words: ['anh' 'bạn bè' 'em' 'gia đình']\n",
            "Convert to number: [0 2 3 1 0 2]\n",
            "Invert into classes:  ['anh' 'em' 'gia đình' 'bạn bè' 'anh' 'em']\n"
          ]
        }
      ],
      "source": [
        "from sklearn.preprocessing import LabelEncoder\n",
        "\n",
        "le = LabelEncoder()\n",
        "words =['anh','em','gia đình','bạn bè','anh','em']\n",
        "le.fit(words)\n",
        "print('Class of words:', le.classes_)\n",
        "# Biến đổi sang dạng số\n",
        "x = le.transform(words)\n",
        "print('Convert to number:', x)\n",
        "# Biến đổi lại sang class\n",
        "print('Invert into classes: ', le.inverse_transform(x))"
      ]
    },
    {
      "cell_type": "markdown",
      "source": [
        "Thực hiện OneHotEncoder"
      ],
      "metadata": {
        "id": "HFS8Zq5JRKy0"
      }
    },
    {
      "cell_type": "code",
      "source": [
        "from sklearn.preprocessing import OneHotEncoder\n",
        "import numpy as np\n",
        "\n",
        "oh = OneHotEncoder()\n",
        "classes_indices = list(zip(le.classes_, np.arange(len(le.classes_))))\n",
        "print('Classes_indices:', classes_indices)\n",
        "oh.fit(classes_indices)\n",
        "print('One-hot categories and indices:', oh.categories_)\n",
        "# Biến đổi list words sang dạng one-hot\n",
        "words_indices = list(zip(words,x))\n",
        "print('Word and corresponding indices:', words_indices)\n",
        "one_hot = oh.transform(words_indices).toarray()\n",
        "print('Transform word into one-hot matrices: \\n', one_hot)\n",
        "print('Inverse transform to categories from one-hot matrices:\\n', oh.inverse_transform(one_hot))\n"
      ],
      "metadata": {
        "colab": {
          "base_uri": "https://localhost:8080/"
        },
        "id": "txXFw4d6RJU9",
        "outputId": "e66f4b32-07b7-4735-fbe1-5237ee7c25be"
      },
      "execution_count": 11,
      "outputs": [
        {
          "output_type": "stream",
          "name": "stdout",
          "text": [
            "Classes_indices: [('anh', 0), ('bạn bè', 1), ('em', 2), ('gia đình', 3)]\n",
            "One-hot categories and indices: [array(['anh', 'bạn bè', 'em', 'gia đình'], dtype=object), array([0, 1, 2, 3], dtype=object)]\n",
            "Word and corresponding indices: [('anh', 0), ('em', 2), ('gia đình', 3), ('bạn bè', 1), ('anh', 0), ('em', 2)]\n",
            "Transform word into one-hot matrices: \n",
            " [[1. 0. 0. 0. 1. 0. 0. 0.]\n",
            " [0. 0. 1. 0. 0. 0. 1. 0.]\n",
            " [0. 0. 0. 1. 0. 0. 0. 1.]\n",
            " [0. 1. 0. 0. 0. 1. 0. 0.]\n",
            " [1. 0. 0. 0. 1. 0. 0. 0.]\n",
            " [0. 0. 1. 0. 0. 0. 1. 0.]]\n",
            "Inverse transform to categories from one-hot matrices:\n",
            " [['anh' 0]\n",
            " ['em' 2]\n",
            " ['gia đình' 3]\n",
            " ['bạn bè' 1]\n",
            " ['anh' 0]\n",
            " ['em' 2]]\n"
          ]
        }
      ]
    },
    {
      "cell_type": "markdown",
      "source": [
        "Singular Value Decomposition"
      ],
      "metadata": {
        "id": "uZGQhdeNWfLs"
      }
    },
    {
      "cell_type": "markdown",
      "source": [],
      "metadata": {
        "id": "GIo7mmJ9Jzy3"
      }
    }
  ]
}