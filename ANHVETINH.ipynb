{
  "nbformat": 4,
  "nbformat_minor": 0,
  "metadata": {
    "colab": {
      "provenance": [],
      "authorship_tag": "ABX9TyM2OX8kCjny+/KLQdr2YnU2",
      "include_colab_link": true
    },
    "kernelspec": {
      "name": "python3",
      "display_name": "Python 3"
    },
    "language_info": {
      "name": "python"
    }
  },
  "cells": [
    {
      "cell_type": "markdown",
      "metadata": {
        "id": "view-in-github",
        "colab_type": "text"
      },
      "source": [
        "<a href=\"https://colab.research.google.com/github/hasdasda/HoctheoPhamDinhKhanh/blob/main/ANHVETINH.ipynb\" target=\"_parent\"><img src=\"https://colab.research.google.com/assets/colab-badge.svg\" alt=\"Open In Colab\"/></a>"
      ]
    },
    {
      "cell_type": "code",
      "source": [
        "from google.colab import drive\n",
        "drive.mount('/content/drive')"
      ],
      "metadata": {
        "id": "p8oRAwqy9Rz9"
      },
      "execution_count": null,
      "outputs": []
    },
    {
      "cell_type": "code",
      "execution_count": null,
      "metadata": {
        "colab": {
          "base_uri": "https://localhost:8080/"
        },
        "id": "QHXCPl_-9Kh_",
        "outputId": "d446b1be-0668-4e2b-dc79-5adcbc4bb5f9"
      },
      "outputs": [
        {
          "output_type": "stream",
          "name": "stdout",
          "text": [
            "Cloning into 'Satellite-Image-Prediction-Relying-on-GAN-and-LSTM-Neural-Networks'...\n",
            "remote: Enumerating objects: 42, done.\u001b[K\n",
            "remote: Counting objects: 100% (42/42), done.\u001b[K\n",
            "remote: Compressing objects: 100% (29/29), done.\u001b[K\n",
            "remote: Total 42 (delta 15), reused 33 (delta 11), pack-reused 0 (from 0)\u001b[K\n",
            "Receiving objects: 100% (42/42), 2.13 MiB | 6.97 MiB/s, done.\n",
            "Resolving deltas: 100% (15/15), done.\n"
          ]
        }
      ],
      "source": [
        "!git clone https://github.com/docShen/Satellite-Image-Prediction-Relying-on-GAN-and-LSTM-Neural-Networks.git"
      ]
    },
    {
      "cell_type": "code",
      "source": [
        "cd /content/Satellite-Image-Prediction-Relying-on-GAN-and-LSTM-Neural-Networks"
      ],
      "metadata": {
        "colab": {
          "base_uri": "https://localhost:8080/"
        },
        "id": "mEdaSEMZ9p2r",
        "outputId": "93be7f37-66b6-493b-9c18-ab4dcf2f9323"
      },
      "execution_count": null,
      "outputs": [
        {
          "output_type": "stream",
          "name": "stdout",
          "text": [
            "/content/Satellite-Image-Prediction-Relying-on-GAN-and-LSTM-Neural-Networks\n"
          ]
        }
      ]
    },
    {
      "cell_type": "code",
      "source": [
        "!python train_GAN.py"
      ],
      "metadata": {
        "colab": {
          "base_uri": "https://localhost:8080/"
        },
        "id": "fblCH-un-HAF",
        "outputId": "758ecb85-ee84-4f74-ee62-493f99582eb4"
      },
      "execution_count": null,
      "outputs": [
        {
          "output_type": "stream",
          "name": "stdout",
          "text": [
            "DefaultMunch(None, {'data_path': './my_data/download/W. South Pacific', 'year': '2022', 'img_size': 128, 'batch_size_GAN': 64, 'epochs_GAN': 10000, 'lr_GAN': 0.0001, 'latent_dim': 32, 'n_critic': 5, 'clip_value': 0.01, 'load_G_name': 'my_G3900.pth', 'epochs_lstm': 30000, 'batch_size_lstm': 4, 'lr_lstm': 0.01, 'J': 8, 'hidden_size': 64, 'layer': 2})\n",
            "Traceback (most recent call last):\n",
            "  File \"/content/Satellite-Image-Prediction-Relying-on-GAN-and-LSTM-Neural-Networks/train_GAN.py\", line 40, in <module>\n",
            "    generator = Generator(input_dim=opt.latent_dim).cuda()\n",
            "                ^^^^^^^^^^^^^^^^^^^^^^^^^^^^^^^^^^^^^^^^^^\n",
            "  File \"/usr/local/lib/python3.11/dist-packages/torch/nn/modules/module.py\", line 1053, in cuda\n",
            "    return self._apply(lambda t: t.cuda(device))\n",
            "           ^^^^^^^^^^^^^^^^^^^^^^^^^^^^^^^^^^^^^\n",
            "  File \"/usr/local/lib/python3.11/dist-packages/torch/nn/modules/module.py\", line 903, in _apply\n",
            "    module._apply(fn)\n",
            "  File \"/usr/local/lib/python3.11/dist-packages/torch/nn/modules/module.py\", line 903, in _apply\n",
            "    module._apply(fn)\n",
            "  File \"/usr/local/lib/python3.11/dist-packages/torch/nn/modules/module.py\", line 930, in _apply\n",
            "    param_applied = fn(param)\n",
            "                    ^^^^^^^^^\n",
            "  File \"/usr/local/lib/python3.11/dist-packages/torch/nn/modules/module.py\", line 1053, in <lambda>\n",
            "    return self._apply(lambda t: t.cuda(device))\n",
            "                                 ^^^^^^^^^^^^^^\n",
            "  File \"/usr/local/lib/python3.11/dist-packages/torch/cuda/__init__.py\", line 319, in _lazy_init\n",
            "    torch._C._cuda_init()\n",
            "RuntimeError: Found no NVIDIA driver on your system. Please check that you have an NVIDIA GPU and installed a driver from http://www.nvidia.com/Download/index.aspx\n"
          ]
        }
      ]
    },
    {
      "cell_type": "code",
      "source": [
        "! pip install munch"
      ],
      "metadata": {
        "colab": {
          "base_uri": "https://localhost:8080/"
        },
        "id": "HXH7yMua-TZ7",
        "outputId": "b515fb75-c2d7-4c0c-eddf-2c8f4ce884cf"
      },
      "execution_count": null,
      "outputs": [
        {
          "output_type": "stream",
          "name": "stdout",
          "text": [
            "Collecting munch\n",
            "  Downloading munch-4.0.0-py2.py3-none-any.whl.metadata (5.9 kB)\n",
            "Downloading munch-4.0.0-py2.py3-none-any.whl (9.9 kB)\n",
            "Installing collected packages: munch\n",
            "Successfully installed munch-4.0.0\n"
          ]
        }
      ]
    }
  ]
}